{
 "cells": [
  {
   "cell_type": "markdown",
   "metadata": {},
   "source": [
    "### Naive Bayes\n",
    "\n",
    "Basic Naive Bayes assumes categorical data. A simple extension for real- valued data is called Gaussian Naive Bayes. \n",
    "\n",
    "In machine learning we are often interested in selecting the best hypothesis (h) given data (d).\n",
    "In a classification problem, our hypothesis (h) may be the class to assign for a new data instance\n",
    "(d).  One of the easiest ways of selecting the most probable hypothesis given the data that we\n",
    "have that we can use as our prior knowledge about the problem.  Bayes Theorem provides a\n",
    "way that we can calculate the probability of a hypothesis given our prior knowledge.  Bayes\n",
    "Theorem is stated as:\n",
    "\n",
    "\n",
    "P(h|d) = P(d|h) x P(h) / P(d)\n",
    "\n",
    "\n",
    "Where:\n",
    "\n",
    "- P(h|d) is the probability of hypothesis h\n",
    "given the data d. This is called the posterior\n",
    "probability.\n",
    "\n",
    "- P(d|h) is the probability of data d given that the hypothesis h\n",
    "was true\n",
    "\n",
    "- P(h) is the probability of hypothesis h being true (regardless of the data). This is called\n",
    "the prior probability of h.\n",
    "\n",
    "- P(d) is the probability of the data regardless of the hypothesis"
   ]
  },
  {
   "cell_type": "markdown",
   "metadata": {},
   "source": [
    "20.1    Tutorial Dataset\n",
    "\n",
    "The dataset describes two categorical input variables and a class variable that has two outputs.\n"
   ]
  },
  {
   "cell_type": "code",
   "execution_count": 33,
   "metadata": {},
   "outputs": [],
   "source": [
    "from io import StringIO\n",
    "import pandas as pd\n",
    "import numpy as np"
   ]
  },
  {
   "cell_type": "code",
   "execution_count": 34,
   "metadata": {},
   "outputs": [],
   "source": [
    "dataset = StringIO(\"\"\"Weather Car Class\n",
    "sunny working go-out\n",
    "rainy broken go-out\n",
    "sunny working go-out\n",
    "sunny working go-out\n",
    "sunny working go-out\n",
    "rainy broken stay-home\n",
    "rainy broken stay-home\n",
    "sunny working stay-home\n",
    "sunny broken stay-home\n",
    "rainy broken stay-home\n",
    "\"\"\")"
   ]
  },
  {
   "cell_type": "code",
   "execution_count": 35,
   "metadata": {},
   "outputs": [],
   "source": [
    "def clean_cols(cols): return cols.lower().strip() "
   ]
  },
  {
   "cell_type": "code",
   "execution_count": 36,
   "metadata": {},
   "outputs": [
    {
     "data": {
      "text/html": [
       "<div>\n",
       "<style scoped>\n",
       "    .dataframe tbody tr th:only-of-type {\n",
       "        vertical-align: middle;\n",
       "    }\n",
       "\n",
       "    .dataframe tbody tr th {\n",
       "        vertical-align: top;\n",
       "    }\n",
       "\n",
       "    .dataframe thead th {\n",
       "        text-align: right;\n",
       "    }\n",
       "</style>\n",
       "<table border=\"1\" class=\"dataframe\">\n",
       "  <thead>\n",
       "    <tr style=\"text-align: right;\">\n",
       "      <th></th>\n",
       "      <th>weather</th>\n",
       "      <th>car</th>\n",
       "      <th>class</th>\n",
       "    </tr>\n",
       "  </thead>\n",
       "  <tbody>\n",
       "    <tr>\n",
       "      <th>4</th>\n",
       "      <td>sunny</td>\n",
       "      <td>working</td>\n",
       "      <td>go-out</td>\n",
       "    </tr>\n",
       "    <tr>\n",
       "      <th>2</th>\n",
       "      <td>sunny</td>\n",
       "      <td>working</td>\n",
       "      <td>go-out</td>\n",
       "    </tr>\n",
       "    <tr>\n",
       "      <th>1</th>\n",
       "      <td>rainy</td>\n",
       "      <td>broken</td>\n",
       "      <td>go-out</td>\n",
       "    </tr>\n",
       "  </tbody>\n",
       "</table>\n",
       "</div>"
      ],
      "text/plain": [
       "  weather      car   class\n",
       "4   sunny  working  go-out\n",
       "2   sunny  working  go-out\n",
       "1   rainy   broken  go-out"
      ]
     },
     "execution_count": 36,
     "metadata": {},
     "output_type": "execute_result"
    }
   ],
   "source": [
    "nb = pd.read_csv(dataset, sep=\" \").rename(columns = clean_cols)\n",
    "nb.sample(3)"
   ]
  },
  {
   "cell_type": "code",
   "execution_count": 37,
   "metadata": {},
   "outputs": [],
   "source": [
    "# encode categorical variable\n",
    "nb['class'] = nb['class'].eq('go-out').astype(int)\n",
    "nb['weather'] = nb['weather'].eq('sunny').astype(int)\n",
    "nb['car'] = nb['car'].eq('working').astype(int)"
   ]
  },
  {
   "cell_type": "code",
   "execution_count": 38,
   "metadata": {},
   "outputs": [
    {
     "data": {
      "text/html": [
       "<div>\n",
       "<style scoped>\n",
       "    .dataframe tbody tr th:only-of-type {\n",
       "        vertical-align: middle;\n",
       "    }\n",
       "\n",
       "    .dataframe tbody tr th {\n",
       "        vertical-align: top;\n",
       "    }\n",
       "\n",
       "    .dataframe thead th {\n",
       "        text-align: right;\n",
       "    }\n",
       "</style>\n",
       "<table border=\"1\" class=\"dataframe\">\n",
       "  <thead>\n",
       "    <tr style=\"text-align: right;\">\n",
       "      <th></th>\n",
       "      <th>weather</th>\n",
       "      <th>car</th>\n",
       "      <th>class</th>\n",
       "    </tr>\n",
       "  </thead>\n",
       "  <tbody>\n",
       "    <tr>\n",
       "      <th>0</th>\n",
       "      <td>1</td>\n",
       "      <td>1</td>\n",
       "      <td>1</td>\n",
       "    </tr>\n",
       "    <tr>\n",
       "      <th>1</th>\n",
       "      <td>0</td>\n",
       "      <td>0</td>\n",
       "      <td>1</td>\n",
       "    </tr>\n",
       "    <tr>\n",
       "      <th>2</th>\n",
       "      <td>1</td>\n",
       "      <td>1</td>\n",
       "      <td>1</td>\n",
       "    </tr>\n",
       "    <tr>\n",
       "      <th>3</th>\n",
       "      <td>1</td>\n",
       "      <td>1</td>\n",
       "      <td>1</td>\n",
       "    </tr>\n",
       "    <tr>\n",
       "      <th>4</th>\n",
       "      <td>1</td>\n",
       "      <td>1</td>\n",
       "      <td>1</td>\n",
       "    </tr>\n",
       "    <tr>\n",
       "      <th>5</th>\n",
       "      <td>0</td>\n",
       "      <td>0</td>\n",
       "      <td>0</td>\n",
       "    </tr>\n",
       "    <tr>\n",
       "      <th>6</th>\n",
       "      <td>0</td>\n",
       "      <td>0</td>\n",
       "      <td>0</td>\n",
       "    </tr>\n",
       "    <tr>\n",
       "      <th>7</th>\n",
       "      <td>1</td>\n",
       "      <td>1</td>\n",
       "      <td>0</td>\n",
       "    </tr>\n",
       "    <tr>\n",
       "      <th>8</th>\n",
       "      <td>1</td>\n",
       "      <td>0</td>\n",
       "      <td>0</td>\n",
       "    </tr>\n",
       "    <tr>\n",
       "      <th>9</th>\n",
       "      <td>0</td>\n",
       "      <td>0</td>\n",
       "      <td>0</td>\n",
       "    </tr>\n",
       "  </tbody>\n",
       "</table>\n",
       "</div>"
      ],
      "text/plain": [
       "   weather  car  class\n",
       "0        1    1      1\n",
       "1        0    0      1\n",
       "2        1    1      1\n",
       "3        1    1      1\n",
       "4        1    1      1\n",
       "5        0    0      0\n",
       "6        0    0      0\n",
       "7        1    1      0\n",
       "8        1    0      0\n",
       "9        0    0      0"
      ]
     },
     "execution_count": 38,
     "metadata": {},
     "output_type": "execute_result"
    }
   ],
   "source": [
    "nb"
   ]
  },
  {
   "cell_type": "markdown",
   "metadata": {},
   "source": [
    "There are two types of quantities that need to be calculated from the dataset for the naive\n",
    "Bayes model:\n",
    "\n",
    "- Class Probabilities.\n",
    "\n",
    "- Conditional Probabilities.\n",
    "\n",
    "Let’s start with the class probabilities."
   ]
  },
  {
   "cell_type": "code",
   "execution_count": 39,
   "metadata": {},
   "outputs": [
    {
     "data": {
      "text/plain": [
       "(0.5, 0.5)"
      ]
     },
     "execution_count": 39,
     "metadata": {},
     "output_type": "execute_result"
    }
   ],
   "source": [
    "# class probabilities count of each class / total examples\n",
    "\n",
    "p_go = nb['class'].eq(1).sum() / nb.shape[0]\n",
    "p_sh = nb['class'].eq(0).sum() / nb.shape[0]\n",
    "p_go, p_sh"
   ]
  },
  {
   "cell_type": "markdown",
   "metadata": {},
   "source": [
    "p(d|h) The conditional probabilities are the probability of each input value given each class value.  The\n",
    "conditional probabilities for the dataset can be calculated as follows:\n"
   ]
  },
  {
   "cell_type": "code",
   "execution_count": 40,
   "metadata": {},
   "outputs": [],
   "source": [
    "# example  p(weather=sunny| class=go-out) = count(weather=sunny & class=go-out) / count(class=go-out)\n",
    "\n",
    "p_s_go = np.sum(nb['class'].eq(1) & nb['weather'].eq(1)) / nb['class'].eq(1).sum()\n",
    "p_r_go = np.sum(nb['class'].eq(1) & nb['weather'].eq(0)) / nb['class'].eq(1).sum()\n",
    "p_s_sh = np.sum(nb['class'].eq(0) & nb['weather'].eq(1)) / nb['class'].eq(0).sum()\n",
    "p_r_sh = np.sum(nb['class'].eq(0) & nb['weather'].eq(0)) / nb['class'].eq(0).sum()\n",
    "\n",
    "# and for car variable\n",
    "\n",
    "p_wk_go = np.sum(nb['class'].eq(1) & nb['car'].eq(1)) / nb['class'].eq(1).sum()\n",
    "p_bk_go = np.sum(nb['class'].eq(1) & nb['car'].eq(0)) / nb['class'].eq(1).sum()\n",
    "p_wk_sh = np.sum(nb['class'].eq(0) & nb['car'].eq(1)) / nb['class'].eq(0).sum()\n",
    "p_bk_sh = np.sum(nb['class'].eq(0) & nb['car'].eq(0)) / nb['class'].eq(0).sum()"
   ]
  },
  {
   "cell_type": "code",
   "execution_count": 41,
   "metadata": {},
   "outputs": [
    {
     "data": {
      "text/plain": [
       "0.8"
      ]
     },
     "execution_count": 41,
     "metadata": {},
     "output_type": "execute_result"
    }
   ],
   "source": [
    "p_s_go"
   ]
  },
  {
   "cell_type": "markdown",
   "metadata": {},
   "source": [
    "### Making predictions\n",
    "\n",
    "We don't need a probability to predict the most likely class for a new data instance.\n",
    "We only need the numerator and the class that gives the largest response, which will be the\n",
    "predicted output\n",
    "\n",
    "MAP\n",
    "(\n",
    "h\n",
    ") =\n",
    "max\n",
    "(\n",
    "P\n",
    "(\n",
    "d\n",
    "|\n",
    "h\n",
    ")\n",
    "×\n",
    "P\n",
    "(\n",
    "h\n",
    "))\n",
    "\n",
    "lets make a prediction for the first row of data"
   ]
  },
  {
   "cell_type": "code",
   "execution_count": 42,
   "metadata": {},
   "outputs": [
    {
     "data": {
      "text/plain": [
       "weather    1\n",
       "car        1\n",
       "class      1\n",
       "Name: 0, dtype: int32"
      ]
     },
     "execution_count": 42,
     "metadata": {},
     "output_type": "execute_result"
    }
   ],
   "source": [
    "nb.loc[0]"
   ]
  },
  {
   "cell_type": "code",
   "execution_count": 43,
   "metadata": {},
   "outputs": [],
   "source": [
    "# p(d|h) we have the data but we need to access which hypothesis yeilds a bigger probability\n",
    "go_out = p_s_go * p_wk_go * p_go\n",
    "stay_home = p_s_sh * p_wk_sh * p_sh"
   ]
  },
  {
   "cell_type": "code",
   "execution_count": 44,
   "metadata": {},
   "outputs": [
    {
     "data": {
      "text/plain": [
       "(0.32000000000000006, 0.04000000000000001)"
      ]
     },
     "execution_count": 44,
     "metadata": {},
     "output_type": "execute_result"
    }
   ],
   "source": [
    "# we correctly predicted go-out\n",
    "go_out, stay_home"
   ]
  },
  {
   "cell_type": "code",
   "execution_count": 45,
   "metadata": {},
   "outputs": [
    {
     "data": {
      "text/plain": [
       "weather    0\n",
       "car        0\n",
       "class      1\n",
       "Name: 1, dtype: int32"
      ]
     },
     "execution_count": 45,
     "metadata": {},
     "output_type": "execute_result"
    }
   ],
   "source": [
    "nb.loc[1]"
   ]
  },
  {
   "cell_type": "code",
   "execution_count": 46,
   "metadata": {},
   "outputs": [
    {
     "data": {
      "text/plain": [
       "(0.020000000000000004, 0.24)"
      ]
     },
     "execution_count": 46,
     "metadata": {},
     "output_type": "execute_result"
    }
   ],
   "source": [
    "# incorrect predictions for row 2\n",
    "go_out = p_bk_go * p_r_go * p_go\n",
    "stay_home = p_bk_sh * p_r_sh * p_sh\n",
    "go_out, stay_home"
   ]
  },
  {
   "cell_type": "code",
   "execution_count": 47,
   "metadata": {},
   "outputs": [
    {
     "data": {
      "text/plain": [
       "weather    1\n",
       "car        1\n",
       "class      1\n",
       "Name: 2, dtype: int32"
      ]
     },
     "execution_count": 47,
     "metadata": {},
     "output_type": "execute_result"
    }
   ],
   "source": [
    "nb.loc[2]"
   ]
  },
  {
   "cell_type": "code",
   "execution_count": 48,
   "metadata": {},
   "outputs": [
    {
     "data": {
      "text/plain": [
       "(0.32000000000000006, 0.04000000000000001)"
      ]
     },
     "execution_count": 48,
     "metadata": {},
     "output_type": "execute_result"
    }
   ],
   "source": [
    "# correctly predicted go out\n",
    "go_out = p_s_go * p_wk_go * p_go\n",
    "stay_home = p_s_sh * p_wk_sh * p_sh\n",
    "go_out, stay_home"
   ]
  },
  {
   "cell_type": "markdown",
   "metadata": {},
   "source": [
    "### Gaussian Naive Bayes"
   ]
  },
  {
   "cell_type": "markdown",
   "metadata": {},
   "source": [
    "A simple dataset was contrived for our purposes. It is comprised of two input variables X1 and\n",
    "X2 and one output variable Y . The input variables are drawn from a Gaussian distribution,\n",
    "which is one assumption made by Gaussian Naive Bayes. The class variable has two values, 0\n",
    "and 1, therefore the problem is a binary classi\f",
    "cation problem."
   ]
  },
  {
   "cell_type": "code",
   "execution_count": 49,
   "metadata": {},
   "outputs": [],
   "source": [
    "\n",
    "dataset = StringIO(\"\"\"X1 X2 Y\n",
    "3.393533211 2.331273381 0\n",
    "3.110073483 1.781539638 0\n",
    "1.343808831 3.368360954 0\n",
    "3.582294042 4.67917911 0\n",
    "2.280362439 2.866990263 0\n",
    "7.423436942 4.696522875 1\n",
    "5.745051997 3.533989803 1\n",
    "9.172168622 2.511101045 1\n",
    "7.792783481 3.424088941 1\n",
    "7.939820817 0.791637231 1\n",
    "\"\"\")"
   ]
  },
  {
   "cell_type": "code",
   "execution_count": 50,
   "metadata": {},
   "outputs": [],
   "source": [
    "gnb = pd.read_csv(dataset, sep=' ').rename(columns = clean_cols)"
   ]
  },
  {
   "cell_type": "code",
   "execution_count": 51,
   "metadata": {},
   "outputs": [
    {
     "data": {
      "text/html": [
       "<div>\n",
       "<style scoped>\n",
       "    .dataframe tbody tr th:only-of-type {\n",
       "        vertical-align: middle;\n",
       "    }\n",
       "\n",
       "    .dataframe tbody tr th {\n",
       "        vertical-align: top;\n",
       "    }\n",
       "\n",
       "    .dataframe thead th {\n",
       "        text-align: right;\n",
       "    }\n",
       "</style>\n",
       "<table border=\"1\" class=\"dataframe\">\n",
       "  <thead>\n",
       "    <tr style=\"text-align: right;\">\n",
       "      <th></th>\n",
       "      <th>x1</th>\n",
       "      <th>x2</th>\n",
       "      <th>y</th>\n",
       "    </tr>\n",
       "  </thead>\n",
       "  <tbody>\n",
       "    <tr>\n",
       "      <th>0</th>\n",
       "      <td>3.393533</td>\n",
       "      <td>2.331273</td>\n",
       "      <td>0</td>\n",
       "    </tr>\n",
       "    <tr>\n",
       "      <th>1</th>\n",
       "      <td>3.110073</td>\n",
       "      <td>1.781540</td>\n",
       "      <td>0</td>\n",
       "    </tr>\n",
       "    <tr>\n",
       "      <th>2</th>\n",
       "      <td>1.343809</td>\n",
       "      <td>3.368361</td>\n",
       "      <td>0</td>\n",
       "    </tr>\n",
       "    <tr>\n",
       "      <th>3</th>\n",
       "      <td>3.582294</td>\n",
       "      <td>4.679179</td>\n",
       "      <td>0</td>\n",
       "    </tr>\n",
       "    <tr>\n",
       "      <th>4</th>\n",
       "      <td>2.280362</td>\n",
       "      <td>2.866990</td>\n",
       "      <td>0</td>\n",
       "    </tr>\n",
       "    <tr>\n",
       "      <th>5</th>\n",
       "      <td>7.423437</td>\n",
       "      <td>4.696523</td>\n",
       "      <td>1</td>\n",
       "    </tr>\n",
       "    <tr>\n",
       "      <th>6</th>\n",
       "      <td>5.745052</td>\n",
       "      <td>3.533990</td>\n",
       "      <td>1</td>\n",
       "    </tr>\n",
       "    <tr>\n",
       "      <th>7</th>\n",
       "      <td>9.172169</td>\n",
       "      <td>2.511101</td>\n",
       "      <td>1</td>\n",
       "    </tr>\n",
       "    <tr>\n",
       "      <th>8</th>\n",
       "      <td>7.792783</td>\n",
       "      <td>3.424089</td>\n",
       "      <td>1</td>\n",
       "    </tr>\n",
       "    <tr>\n",
       "      <th>9</th>\n",
       "      <td>7.939821</td>\n",
       "      <td>0.791637</td>\n",
       "      <td>1</td>\n",
       "    </tr>\n",
       "  </tbody>\n",
       "</table>\n",
       "</div>"
      ],
      "text/plain": [
       "         x1        x2  y\n",
       "0  3.393533  2.331273  0\n",
       "1  3.110073  1.781540  0\n",
       "2  1.343809  3.368361  0\n",
       "3  3.582294  4.679179  0\n",
       "4  2.280362  2.866990  0\n",
       "5  7.423437  4.696523  1\n",
       "6  5.745052  3.533990  1\n",
       "7  9.172169  2.511101  1\n",
       "8  7.792783  3.424089  1\n",
       "9  7.939821  0.791637  1"
      ]
     },
     "execution_count": 51,
     "metadata": {},
     "output_type": "execute_result"
    }
   ],
   "source": [
    "gnb"
   ]
  },
  {
   "cell_type": "code",
   "execution_count": 52,
   "metadata": {},
   "outputs": [
    {
     "name": "stdout",
     "output_type": "stream",
     "text": [
      "P(both|older): 0.5008888011060636\n",
      "P(both|either): 0.3368756641870351\n"
     ]
    }
   ],
   "source": [
    "from probability import normal_pdf"
   ]
  },
  {
   "cell_type": "code",
   "execution_count": 63,
   "metadata": {},
   "outputs": [
    {
     "data": {
      "text/plain": [
       "-5.0    0.000001\n",
       "-4.9    0.000002\n",
       "-4.8    0.000004\n",
       "-4.7    0.000006\n",
       "-4.6    0.000010\n",
       "          ...   \n",
       " 4.6    0.000010\n",
       " 4.7    0.000006\n",
       " 4.8    0.000004\n",
       " 4.9    0.000002\n",
       " 5.0    0.000001\n",
       "Length: 101, dtype: float64"
      ]
     },
     "execution_count": 63,
     "metadata": {},
     "output_type": "execute_result"
    }
   ],
   "source": [
    "xs = [x/ 10 for x in range(-50,51)]\n",
    "pdf_example = pd.Series(index=xs, data = [normal_pdf(x) for x in xs])\n",
    "pdf_example"
   ]
  },
  {
   "cell_type": "code",
   "execution_count": 64,
   "metadata": {},
   "outputs": [
    {
     "data": {
      "image/png": "[encoded data removed]",
      "text/plain": [
       "<Figure size 432x288 with 1 Axes>"
      ]
     },
     "metadata": {
      "needs_background": "light"
     },
     "output_type": "display_data"
    }
   ],
   "source": [
    "pdf_example.plot();"
   ]
  },
  {
   "cell_type": "markdown",
   "metadata": {},
   "source": [
    "There are two types of probabilities that we need to summarize from our training data for the\n",
    "naive Bayes model:\n",
    "\n",
    "- Class Probabilities.\n",
    "- Conditional Probabilities."
   ]
  },
  {
   "cell_type": "code",
   "execution_count": 65,
   "metadata": {},
   "outputs": [],
   "source": [
    "# class probs\n",
    "p_y_1 = gnb['y'].eq(1).sum()/ gnb['y'].count()\n",
    "p_y_0 = gnb['y'].eq(0).sum()/ gnb['y'].count()"
   ]
  },
  {
   "cell_type": "markdown",
   "metadata": {},
   "source": [
    "The X1 and X2 input variables are real values. As such we will model them as having being\n",
    "drawn from a Gaussian distribution. This will allow us to estimate the probability of a given\n",
    "value using the Gaussian PDF described above.\n",
    "\n",
    "The Gaussian PDF requires two parameters in\n",
    "addition to the value for which the probability is being estimated: the mean and the standard\n",
    "deviation. Therefore we must estimate the mean and the standard deviation for each group of\n",
    "conditional probabilities that we require."
   ]
  },
  {
   "cell_type": "code",
   "execution_count": 66,
   "metadata": {},
   "outputs": [],
   "source": [
    "# conditional probabilities\n",
    "# P(X1|Y=0); P(X1|Y=1)...\n"
   ]
  },
  {
   "cell_type": "code",
   "execution_count": 67,
   "metadata": {},
   "outputs": [],
   "source": [
    "p_x1_y0_mean = gnb.loc[gnb['y'].eq(0), 'x1'].mean()\n",
    "p_x1_y1_mean = gnb.loc[gnb['y'].eq(1), 'x1'].mean()\n",
    "p_x2_y0_mean = gnb.loc[gnb['y'].eq(0), 'x2'].mean()\n",
    "p_x2_y1_mean = gnb.loc[gnb['y'].eq(1), 'x2'].mean()\n",
    "p_x1_y0_std = gnb.loc[gnb['y'].eq(0), 'x1'].std()\n",
    "p_x1_y1_std = gnb.loc[gnb['y'].eq(1), 'x1'].std()\n",
    "p_x2_y0_std = gnb.loc[gnb['y'].eq(0), 'x2'].std()\n",
    "p_x2_y1_std = gnb.loc[gnb['y'].eq(1), 'x2'].std()\n"
   ]
  },
  {
   "cell_type": "markdown",
   "metadata": {},
   "source": [
    "#### Make Prediction with Gaussian Naive Bayes"
   ]
  },
  {
   "cell_type": "markdown",
   "metadata": {},
   "source": [
    "We can make predictions using Bayes Theorem, introduced and explained in a previous chapter.\n",
    "We don't need a probability to predict the most likely class for a new data instance. We only\n",
    "need the numerator and the class that gives the largest response is the predicted response.\n",
    "\n",
    "MAP(h) = max(P(d|h) x P(h))\n",
    "\n",
    "Let's take the first record from our dataset and use our learned model to predict which class\n",
    "we think it belongs. Instance: X1 = 3:393533211, X2 = 2:331273381, Y = 0. We can plug the\n",
    "probabilities for our model in for both classes and calculate the response. Starting with the\n",
    "response for the output class 0. We multiply the conditional probabilities together and multiply\n",
    "it by the probability of any instance belonging to the class."
   ]
  },
  {
   "cell_type": "code",
   "execution_count": 70,
   "metadata": {},
   "outputs": [
    {
     "data": {
      "text/plain": [
       "x1    3.393533\n",
       "x2    2.331273\n",
       "y     0.000000\n",
       "Name: 0, dtype: float64"
      ]
     },
     "execution_count": 70,
     "metadata": {},
     "output_type": "execute_result"
    }
   ],
   "source": [
    "# looking at first data example\n",
    "gnb.loc[0]"
   ]
  },
  {
   "cell_type": "code",
   "execution_count": 60,
   "metadata": {},
   "outputs": [
    {
     "data": {
      "text/plain": [
       "(0.05032427673372073, 0.00011557718379945826)"
      ]
     },
     "execution_count": 60,
     "metadata": {},
     "output_type": "execute_result"
    }
   ],
   "source": [
    "# class 0 = P(pdf(X1)|class = 0) x P(pdf(X2)|class = 0) x P(class = 0)\n",
    "# for response y equal to 0\n",
    "p1 = normal_pdf(gnb.loc[0, 'x1'], mu=p_x1_y0_mean, sigma=p_x1_y0_std) \n",
    "p2 = normal_pdf(gnb.loc[0, 'x2'], mu=p_x2_y0_mean, sigma=p_x2_y0_std) \n",
    "y_0 = p1 * p2 * p_y_0\n",
    "# for response y equal to 1\n",
    "p1 = normal_pdf(gnb.loc[0, 'x1'], mu=p_x1_y1_mean, sigma=p_x1_y1_std) \n",
    "p2 = normal_pdf(gnb.loc[0, 'x2'], mu=p_x2_y1_mean, sigma=p_x2_y1_std) \n",
    "y_1 = p1 * p2 * p_y_1\n",
    "\n",
    "# prediction is 0\n",
    "y_0, y_1"
   ]
  },
  {
   "cell_type": "code",
   "execution_count": 69,
   "metadata": {},
   "outputs": [],
   "source": [
    "from typing import Tuple\n",
    "\n",
    "def gaussian_nb_prediction(index: int)-> Tuple[float, float]:\n",
    "    \"\"\"\n",
    "    Based on x1 and x2 index returns output for \n",
    "    output class y = 0 and y= 1\n",
    "    \"\"\"\n",
    "    # hardcoded probabilities for naive bayes\n",
    "    p_x1_y0_mean = gnb.loc[gnb['y'].eq(0), 'x1'].mean()\n",
    "    p_x1_y1_mean = gnb.loc[gnb['y'].eq(1), 'x1'].mean()\n",
    "    p_x2_y0_mean = gnb.loc[gnb['y'].eq(0), 'x2'].mean()\n",
    "    p_x2_y1_mean = gnb.loc[gnb['y'].eq(1), 'x2'].mean()\n",
    "    p_x1_y0_std = gnb.loc[gnb['y'].eq(0), 'x1'].std()\n",
    "    p_x1_y1_std = gnb.loc[gnb['y'].eq(1), 'x1'].std()\n",
    "    p_x2_y0_std = gnb.loc[gnb['y'].eq(0), 'x2'].std()\n",
    "    p_x2_y1_std = gnb.loc[gnb['y'].eq(1), 'x2'].std()\n",
    "    \n",
    "    # example class 0 = P(pdf(X1)|class = 0) x P(pdf(X2)|class = 0) x P(class = 0)\n",
    "    \n",
    "    # for response y equal to 0\n",
    "    p1 = normal_pdf(gnb.loc[index, 'x1'], mu=p_x1_y0_mean, sigma=p_x1_y0_std) \n",
    "    p2 = normal_pdf(gnb.loc[index, 'x2'], mu=p_x2_y0_mean, sigma=p_x2_y0_std)\n",
    "    y_0 = p1 * p2 * p_y_0\n",
    "    \n",
    "    # for response y equal to 1\n",
    "    p1 = normal_pdf(gnb.loc[index, 'x1'], mu=p_x1_y1_mean, sigma=p_x1_y1_std) \n",
    "    p2 = normal_pdf(gnb.loc[index, 'x2'], mu=p_x2_y1_mean, sigma=p_x2_y1_std)\n",
    "    y_1 = p1 * p2 * p_y_1\n",
    "    \n",
    "    return y_0, y_1\n",
    "    \n",
    "    \n",
    "    "
   ]
  },
  {
   "cell_type": "code",
   "execution_count": 61,
   "metadata": {},
   "outputs": [
    {
     "data": {
      "text/html": [
       "<div>\n",
       "<style scoped>\n",
       "    .dataframe tbody tr th:only-of-type {\n",
       "        vertical-align: middle;\n",
       "    }\n",
       "\n",
       "    .dataframe tbody tr th {\n",
       "        vertical-align: top;\n",
       "    }\n",
       "\n",
       "    .dataframe thead th {\n",
       "        text-align: right;\n",
       "    }\n",
       "</style>\n",
       "<table border=\"1\" class=\"dataframe\">\n",
       "  <thead>\n",
       "    <tr style=\"text-align: right;\">\n",
       "      <th></th>\n",
       "      <th>x1</th>\n",
       "      <th>x2</th>\n",
       "      <th>y</th>\n",
       "      <th>output_y0</th>\n",
       "      <th>output_y1</th>\n",
       "    </tr>\n",
       "  </thead>\n",
       "  <tbody>\n",
       "    <tr>\n",
       "      <th>0</th>\n",
       "      <td>3.393533</td>\n",
       "      <td>2.331273</td>\n",
       "      <td>0</td>\n",
       "      <td>5.032428e-02</td>\n",
       "      <td>1.155772e-04</td>\n",
       "    </tr>\n",
       "    <tr>\n",
       "      <th>1</th>\n",
       "      <td>3.110073</td>\n",
       "      <td>1.781540</td>\n",
       "      <td>0</td>\n",
       "      <td>3.891230e-02</td>\n",
       "      <td>4.025712e-05</td>\n",
       "    </tr>\n",
       "    <tr>\n",
       "      <th>2</th>\n",
       "      <td>1.343809</td>\n",
       "      <td>3.368361</td>\n",
       "      <td>0</td>\n",
       "      <td>2.354196e-02</td>\n",
       "      <td>1.067712e-07</td>\n",
       "    </tr>\n",
       "    <tr>\n",
       "      <th>3</th>\n",
       "      <td>3.582294</td>\n",
       "      <td>4.679179</td>\n",
       "      <td>0</td>\n",
       "      <td>1.640435e-02</td>\n",
       "      <td>1.089305e-04</td>\n",
       "    </tr>\n",
       "    <tr>\n",
       "      <th>4</th>\n",
       "      <td>2.280362</td>\n",
       "      <td>2.866990</td>\n",
       "      <td>0</td>\n",
       "      <td>6.797275e-02</td>\n",
       "      <td>3.892921e-06</td>\n",
       "    </tr>\n",
       "    <tr>\n",
       "      <th>5</th>\n",
       "      <td>7.423437</td>\n",
       "      <td>4.696523</td>\n",
       "      <td>1</td>\n",
       "      <td>6.919582e-08</td>\n",
       "      <td>2.202730e-02</td>\n",
       "    </tr>\n",
       "    <tr>\n",
       "      <th>6</th>\n",
       "      <td>5.745052</td>\n",
       "      <td>3.533990</td>\n",
       "      <td>1</td>\n",
       "      <td>3.624019e-04</td>\n",
       "      <td>1.313337e-02</td>\n",
       "    </tr>\n",
       "    <tr>\n",
       "      <th>7</th>\n",
       "      <td>9.172169</td>\n",
       "      <td>2.511101</td>\n",
       "      <td>1</td>\n",
       "      <td>2.446300e-12</td>\n",
       "      <td>1.893726e-02</td>\n",
       "    </tr>\n",
       "    <tr>\n",
       "      <th>8</th>\n",
       "      <td>7.792783</td>\n",
       "      <td>3.424089</td>\n",
       "      <td>1</td>\n",
       "      <td>2.548609e-08</td>\n",
       "      <td>4.197207e-02</td>\n",
       "    </tr>\n",
       "    <tr>\n",
       "      <th>9</th>\n",
       "      <td>7.939821</td>\n",
       "      <td>0.791637</td>\n",
       "      <td>1</td>\n",
       "      <td>1.542597e-09</td>\n",
       "      <td>1.363675e-02</td>\n",
       "    </tr>\n",
       "  </tbody>\n",
       "</table>\n",
       "</div>"
      ],
      "text/plain": [
       "         x1        x2  y     output_y0     output_y1\n",
       "0  3.393533  2.331273  0  5.032428e-02  1.155772e-04\n",
       "1  3.110073  1.781540  0  3.891230e-02  4.025712e-05\n",
       "2  1.343809  3.368361  0  2.354196e-02  1.067712e-07\n",
       "3  3.582294  4.679179  0  1.640435e-02  1.089305e-04\n",
       "4  2.280362  2.866990  0  6.797275e-02  3.892921e-06\n",
       "5  7.423437  4.696523  1  6.919582e-08  2.202730e-02\n",
       "6  5.745052  3.533990  1  3.624019e-04  1.313337e-02\n",
       "7  9.172169  2.511101  1  2.446300e-12  1.893726e-02\n",
       "8  7.792783  3.424089  1  2.548609e-08  4.197207e-02\n",
       "9  7.939821  0.791637  1  1.542597e-09  1.363675e-02"
      ]
     },
     "execution_count": 61,
     "metadata": {},
     "output_type": "execute_result"
    }
   ],
   "source": [
    "outputs = pd.DataFrame(data = [gaussian_nb_prediction(idx) for idx in gnb.index.values], \n",
    "                       columns=['output_y0','output_y1'])\n",
    "gnb_predictions = pd.concat([gnb, outputs], axis=1)\n",
    "gnb_predictions"
   ]
  },
  {
   "cell_type": "code",
   "execution_count": 62,
   "metadata": {},
   "outputs": [
    {
     "data": {
      "text/html": [
       "<div>\n",
       "<style scoped>\n",
       "    .dataframe tbody tr th:only-of-type {\n",
       "        vertical-align: middle;\n",
       "    }\n",
       "\n",
       "    .dataframe tbody tr th {\n",
       "        vertical-align: top;\n",
       "    }\n",
       "\n",
       "    .dataframe thead th {\n",
       "        text-align: right;\n",
       "    }\n",
       "</style>\n",
       "<table border=\"1\" class=\"dataframe\">\n",
       "  <thead>\n",
       "    <tr style=\"text-align: right;\">\n",
       "      <th></th>\n",
       "      <th>x1</th>\n",
       "      <th>x2</th>\n",
       "      <th>y</th>\n",
       "      <th>output_y0</th>\n",
       "      <th>output_y1</th>\n",
       "      <th>prediction</th>\n",
       "    </tr>\n",
       "  </thead>\n",
       "  <tbody>\n",
       "    <tr>\n",
       "      <th>0</th>\n",
       "      <td>3.393533</td>\n",
       "      <td>2.331273</td>\n",
       "      <td>0</td>\n",
       "      <td>5.032428e-02</td>\n",
       "      <td>1.155772e-04</td>\n",
       "      <td>0</td>\n",
       "    </tr>\n",
       "    <tr>\n",
       "      <th>1</th>\n",
       "      <td>3.110073</td>\n",
       "      <td>1.781540</td>\n",
       "      <td>0</td>\n",
       "      <td>3.891230e-02</td>\n",
       "      <td>4.025712e-05</td>\n",
       "      <td>0</td>\n",
       "    </tr>\n",
       "    <tr>\n",
       "      <th>2</th>\n",
       "      <td>1.343809</td>\n",
       "      <td>3.368361</td>\n",
       "      <td>0</td>\n",
       "      <td>2.354196e-02</td>\n",
       "      <td>1.067712e-07</td>\n",
       "      <td>0</td>\n",
       "    </tr>\n",
       "    <tr>\n",
       "      <th>3</th>\n",
       "      <td>3.582294</td>\n",
       "      <td>4.679179</td>\n",
       "      <td>0</td>\n",
       "      <td>1.640435e-02</td>\n",
       "      <td>1.089305e-04</td>\n",
       "      <td>0</td>\n",
       "    </tr>\n",
       "    <tr>\n",
       "      <th>4</th>\n",
       "      <td>2.280362</td>\n",
       "      <td>2.866990</td>\n",
       "      <td>0</td>\n",
       "      <td>6.797275e-02</td>\n",
       "      <td>3.892921e-06</td>\n",
       "      <td>0</td>\n",
       "    </tr>\n",
       "    <tr>\n",
       "      <th>5</th>\n",
       "      <td>7.423437</td>\n",
       "      <td>4.696523</td>\n",
       "      <td>1</td>\n",
       "      <td>6.919582e-08</td>\n",
       "      <td>2.202730e-02</td>\n",
       "      <td>1</td>\n",
       "    </tr>\n",
       "    <tr>\n",
       "      <th>6</th>\n",
       "      <td>5.745052</td>\n",
       "      <td>3.533990</td>\n",
       "      <td>1</td>\n",
       "      <td>3.624019e-04</td>\n",
       "      <td>1.313337e-02</td>\n",
       "      <td>1</td>\n",
       "    </tr>\n",
       "    <tr>\n",
       "      <th>7</th>\n",
       "      <td>9.172169</td>\n",
       "      <td>2.511101</td>\n",
       "      <td>1</td>\n",
       "      <td>2.446300e-12</td>\n",
       "      <td>1.893726e-02</td>\n",
       "      <td>1</td>\n",
       "    </tr>\n",
       "    <tr>\n",
       "      <th>8</th>\n",
       "      <td>7.792783</td>\n",
       "      <td>3.424089</td>\n",
       "      <td>1</td>\n",
       "      <td>2.548609e-08</td>\n",
       "      <td>4.197207e-02</td>\n",
       "      <td>1</td>\n",
       "    </tr>\n",
       "    <tr>\n",
       "      <th>9</th>\n",
       "      <td>7.939821</td>\n",
       "      <td>0.791637</td>\n",
       "      <td>1</td>\n",
       "      <td>1.542597e-09</td>\n",
       "      <td>1.363675e-02</td>\n",
       "      <td>1</td>\n",
       "    </tr>\n",
       "  </tbody>\n",
       "</table>\n",
       "</div>"
      ],
      "text/plain": [
       "         x1        x2  y     output_y0     output_y1  prediction\n",
       "0  3.393533  2.331273  0  5.032428e-02  1.155772e-04           0\n",
       "1  3.110073  1.781540  0  3.891230e-02  4.025712e-05           0\n",
       "2  1.343809  3.368361  0  2.354196e-02  1.067712e-07           0\n",
       "3  3.582294  4.679179  0  1.640435e-02  1.089305e-04           0\n",
       "4  2.280362  2.866990  0  6.797275e-02  3.892921e-06           0\n",
       "5  7.423437  4.696523  1  6.919582e-08  2.202730e-02           1\n",
       "6  5.745052  3.533990  1  3.624019e-04  1.313337e-02           1\n",
       "7  9.172169  2.511101  1  2.446300e-12  1.893726e-02           1\n",
       "8  7.792783  3.424089  1  2.548609e-08  4.197207e-02           1\n",
       "9  7.939821  0.791637  1  1.542597e-09  1.363675e-02           1"
      ]
     },
     "execution_count": 62,
     "metadata": {},
     "output_type": "execute_result"
    }
   ],
   "source": [
    "# based on max value by row calculate prediction value\n",
    "gnb_predictions['prediction'] = outputs.idxmax(axis='columns').eq('output_y1').astype(int)\n",
    "# 100% accuracy\n",
    "gnb_predictions"
   ]
  },
  {
   "cell_type": "markdown",
   "metadata": {},
   "source": [
    "This section provides some tips for preparing your data for Naive Bayes.\n",
    "\n",
    "- Categorical Inputs: Naive Bayes assumes label attributes such as binary, categorical or\n",
    "nominal.\n",
    "- Gaussian Inputs: If the input variables are real-valued, a Gaussian distribution is\n",
    "assumed. In which case the algorithm will perform better if the univariate distributions of\n",
    "your data are Gaussian or near-Gaussian. This may require removing outliers (e.g. values\n",
    "that are more than 3 or 4 standard deviations from the mean).\n",
    "- Classification Problems: Naive Bayes is a classification algorithm suitable for binary\n",
    "and multi-class classification.\n",
    "- Log Probabilities: The calculation of the likelihood of different class values involves\n",
    "multiplying a lot of small numbers together. This can lead to an under\n",
    "ow of numerical precision. As such it is good practice to use a log transform of the probabilities to avoid\n",
    "this underflow.\n",
    "- Kernel Functions: Rather than assuming a Gaussian distribution for numerical input\n",
    "values, more complex distributions can be used such as a variety of kernel density functions.\n",
    "- Update Probabilities: When new data becomes available, you can simply update the\n",
    "probabilities of your model. This can be helpful if the data changes frequently"
   ]
  },
  {
   "cell_type": "markdown",
   "metadata": {},
   "source": [
    "In this chapter you discovered how to implement the Gaussian Naive Bayes classifier from\n",
    "scratch. You learned about:\n",
    "\n",
    "- The Gaussian Probability Density Function for estimating the probability of any given\n",
    "real value.\n",
    "- How to estimate the probabilities required by the Naive Bayes model from a training\n",
    "dataset.\n",
    "- How to use the learned Naive Bayes model to make predictions."
   ]
  },
  {
   "cell_type": "code",
   "execution_count": null,
   "metadata": {},
   "outputs": [],
   "source": []
  }
 ],
 "metadata": {
  "kernelspec": {
   "display_name": "Python 3",
   "language": "python",
   "name": "python3"
  },
  "language_info": {
   "codemirror_mode": {
    "name": "ipython",
    "version": 3
   },
   "file_extension": ".py",
   "mimetype": "text/x-python",
   "name": "python",
   "nbconvert_exporter": "python",
   "pygments_lexer": "ipython3",
   "version": "3.7.3"
  }
 },
 "nbformat": 4,
 "nbformat_minor": 4
}
