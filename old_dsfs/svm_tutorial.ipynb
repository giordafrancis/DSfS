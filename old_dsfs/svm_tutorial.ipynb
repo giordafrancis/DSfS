{
 "cells": [
  {
   "cell_type": "markdown",
   "metadata": {},
   "source": [
    "## SVM Tutorial"
   ]
  },
  {
   "cell_type": "markdown",
   "metadata": {},
   "source": [
    "Support Vector Machines are a flexible nonparametric machine learning algorithm. In this\n",
    "chapter you will discover how to implement the Support Vector Machine algorithm step-by-step\n",
    "using sub-gradient descent. After completing this chapter you will know:\n",
    "\n",
    "- How to use sub-gradient descent to update the coefficients for an SVM model.\n",
    "- How to iterate the sub-gradient descent algorithm to learn an SVM model for training\n",
    "data.\n",
    "- How to make predictions given a learned SVM model."
   ]
  },
  {
   "cell_type": "markdown",
   "metadata": {},
   "source": [
    "### Tutorial dataset\n",
    "\n",
    "A test problem was devised so that the classes are linearly separable. This means that a straight\n",
    "line can be drawn to separate the classes. This is intentional so that we can explore how to\n",
    "implement an SVM with a linear kernel (straight line). An assumption made by the SVM\n",
    "algorithm is that first class value is -1 and the second class value is +1."
   ]
  },
  {
   "cell_type": "code",
   "execution_count": 214,
   "metadata": {},
   "outputs": [],
   "source": [
    "import pandas as pd\n",
    "import numpy as np\n",
    "from io import StringIO\n",
    "\n",
    "\n"
   ]
  },
  {
   "cell_type": "code",
   "execution_count": 215,
   "metadata": {},
   "outputs": [],
   "source": [
    "dataset = StringIO(\"\"\"X1 X2 Y\n",
    "2.327868056 2.458016525 -1\n",
    "3.032830419 3.170770366 -1\n",
    "4.485465382 3.696728111 -1\n",
    "3.684815246 3.846846973 -1\n",
    "2.283558563 1.853215997 -1\n",
    "7.807521179 3.290132136 1\n",
    "6.132998136 2.140563087 1\n",
    "7.514829366 2.107056961 1\n",
    "5.502385039 1.404002608 1\n",
    "7.432932365 4.236232628 1\"\"\")"
   ]
  },
  {
   "cell_type": "code",
   "execution_count": 216,
   "metadata": {},
   "outputs": [
    {
     "data": {
      "text/html": [
       "<div>\n",
       "<style scoped>\n",
       "    .dataframe tbody tr th:only-of-type {\n",
       "        vertical-align: middle;\n",
       "    }\n",
       "\n",
       "    .dataframe tbody tr th {\n",
       "        vertical-align: top;\n",
       "    }\n",
       "\n",
       "    .dataframe thead th {\n",
       "        text-align: right;\n",
       "    }\n",
       "</style>\n",
       "<table border=\"1\" class=\"dataframe\">\n",
       "  <thead>\n",
       "    <tr style=\"text-align: right;\">\n",
       "      <th></th>\n",
       "      <th>X1</th>\n",
       "      <th>X2</th>\n",
       "      <th>Y</th>\n",
       "    </tr>\n",
       "  </thead>\n",
       "  <tbody>\n",
       "    <tr>\n",
       "      <th>3</th>\n",
       "      <td>3.684815</td>\n",
       "      <td>3.846847</td>\n",
       "      <td>-1</td>\n",
       "    </tr>\n",
       "    <tr>\n",
       "      <th>9</th>\n",
       "      <td>7.432932</td>\n",
       "      <td>4.236233</td>\n",
       "      <td>1</td>\n",
       "    </tr>\n",
       "    <tr>\n",
       "      <th>5</th>\n",
       "      <td>7.807521</td>\n",
       "      <td>3.290132</td>\n",
       "      <td>1</td>\n",
       "    </tr>\n",
       "    <tr>\n",
       "      <th>0</th>\n",
       "      <td>2.327868</td>\n",
       "      <td>2.458017</td>\n",
       "      <td>-1</td>\n",
       "    </tr>\n",
       "    <tr>\n",
       "      <th>7</th>\n",
       "      <td>7.514829</td>\n",
       "      <td>2.107057</td>\n",
       "      <td>1</td>\n",
       "    </tr>\n",
       "  </tbody>\n",
       "</table>\n",
       "</div>"
      ],
      "text/plain": [
       "         X1        X2  Y\n",
       "3  3.684815  3.846847 -1\n",
       "9  7.432932  4.236233  1\n",
       "5  7.807521  3.290132  1\n",
       "0  2.327868  2.458017 -1\n",
       "7  7.514829  2.107057  1"
      ]
     },
     "execution_count": 216,
     "metadata": {},
     "output_type": "execute_result"
    }
   ],
   "source": [
    "df = pd.read_csv(dataset, sep=\" \")\n",
    "df.sample(5)"
   ]
  },
  {
   "cell_type": "code",
   "execution_count": 217,
   "metadata": {},
   "outputs": [
    {
     "data": {
      "image/png": "[encoded data removed]",
      "text/plain": [
       "<Figure size 432x288 with 1 Axes>"
      ]
     },
     "metadata": {
      "needs_background": "light"
     },
     "output_type": "display_data"
    }
   ],
   "source": [
    "%matplotlib inline\n",
    "import matplotlib.pyplot as plt\n",
    "\n",
    "colors = {-1:'red', 1:'blue'}\n",
    "df.plot(x = 'X1', y='X2', c= df.Y.map(colors), kind='scatter');\n"
   ]
  },
  {
   "cell_type": "markdown",
   "metadata": {},
   "source": [
    "#### Form of Linear SVM model\n",
    "\n",
    "The Linear SVM model is a line and the goal of the learning algorithm is to find values for the\n",
    "coefficients that best separates the classes. The line is typically in the form:\n",
    "\n",
    "    theta_0 + (theta_1 x X1) + (theta_2 X X2) = 0\n",
    "    \n",
    "Where theta_0, theta_1 and theta_2 are the coefficients and X1 and X2 are the input variables. This\n",
    "will be the form of the equation that we will be using with one small modification, we will drop\n",
    "the bias term (theta_0)\n",
    "\n",
    "    dot(theta_i * Xi) = 0"
   ]
  },
  {
   "cell_type": "markdown",
   "metadata": {},
   "source": [
    "### SVO Optimization Method\n",
    "\n",
    "The optimization algorithm to find the coefficients can be stated as a quadratic programming\n",
    "problem. This is a type of constraint optimization where fast solvers can be used. We will not\n",
    "be using this approach in this tutorial. Another approach that can be used to discover the\n",
    "coefficient values for Linear SVM is sub-gradient descent. In this method a random training\n",
    "pattern is selected each iteration and used to update the coefficients.\n",
    "\n",
    "After a large number of iterations (thousands or hundreds of thousands) the algorithm will settle on a stable set of\n",
    "coefficients. The coefficient update equation works as follows. First an output value is calculated\n",
    "as:\n",
    "\n",
    "    output = Y * (theta_1 * X1) + (theta_2 * X2)\n",
    "    \n",
    "Two different update procedures are used depending on the output value. If the output\n",
    "value is greater than 1 it suggests that the training pattern was not a support vector. This\n",
    "means that the instance was not directly involved in calculating the output, in which case the\n",
    "weights are slightly decreased:\n",
    "\n",
    "    theta_i = (1 - 1/t) * theta\n",
    "    \n",
    "where theta is the weight that is being updated and t is the current iteration.\n",
    "If the output is less than 1 then it is assumed that the training instance is a support vector and must be updated to better explain\n",
    "the data.\n",
    "\n",
    "    theta_i = (1 - 1/t) * theta + (1 / ( lambda * t)) * (y * x) \n",
    "    \n",
    "    Note C = 1/ lambda\n",
    "    \n",
    "Where theta is the weight that is being updated, t is the current iteration and lambda is a\n",
    "parameter to the learning algorithm. The lambda is a learning parameter and is often set to\n",
    "very small values such as 0.0001 or smaller."
   ]
  },
  {
   "cell_type": "code",
   "execution_count": 218,
   "metadata": {},
   "outputs": [
    {
     "data": {
      "text/html": [
       "<div>\n",
       "<style scoped>\n",
       "    .dataframe tbody tr th:only-of-type {\n",
       "        vertical-align: middle;\n",
       "    }\n",
       "\n",
       "    .dataframe tbody tr th {\n",
       "        vertical-align: top;\n",
       "    }\n",
       "\n",
       "    .dataframe thead th {\n",
       "        text-align: right;\n",
       "    }\n",
       "</style>\n",
       "<table border=\"1\" class=\"dataframe\">\n",
       "  <thead>\n",
       "    <tr style=\"text-align: right;\">\n",
       "      <th></th>\n",
       "      <th>X1</th>\n",
       "      <th>X2</th>\n",
       "      <th>Y</th>\n",
       "    </tr>\n",
       "  </thead>\n",
       "  <tbody>\n",
       "    <tr>\n",
       "      <th>0</th>\n",
       "      <td>2.327868</td>\n",
       "      <td>2.458017</td>\n",
       "      <td>-1</td>\n",
       "    </tr>\n",
       "    <tr>\n",
       "      <th>1</th>\n",
       "      <td>3.032830</td>\n",
       "      <td>3.170770</td>\n",
       "      <td>-1</td>\n",
       "    </tr>\n",
       "    <tr>\n",
       "      <th>2</th>\n",
       "      <td>4.485465</td>\n",
       "      <td>3.696728</td>\n",
       "      <td>-1</td>\n",
       "    </tr>\n",
       "    <tr>\n",
       "      <th>3</th>\n",
       "      <td>3.684815</td>\n",
       "      <td>3.846847</td>\n",
       "      <td>-1</td>\n",
       "    </tr>\n",
       "    <tr>\n",
       "      <th>4</th>\n",
       "      <td>2.283559</td>\n",
       "      <td>1.853216</td>\n",
       "      <td>-1</td>\n",
       "    </tr>\n",
       "    <tr>\n",
       "      <th>5</th>\n",
       "      <td>7.807521</td>\n",
       "      <td>3.290132</td>\n",
       "      <td>1</td>\n",
       "    </tr>\n",
       "    <tr>\n",
       "      <th>6</th>\n",
       "      <td>6.132998</td>\n",
       "      <td>2.140563</td>\n",
       "      <td>1</td>\n",
       "    </tr>\n",
       "    <tr>\n",
       "      <th>7</th>\n",
       "      <td>7.514829</td>\n",
       "      <td>2.107057</td>\n",
       "      <td>1</td>\n",
       "    </tr>\n",
       "    <tr>\n",
       "      <th>8</th>\n",
       "      <td>5.502385</td>\n",
       "      <td>1.404003</td>\n",
       "      <td>1</td>\n",
       "    </tr>\n",
       "    <tr>\n",
       "      <th>9</th>\n",
       "      <td>7.432932</td>\n",
       "      <td>4.236233</td>\n",
       "      <td>1</td>\n",
       "    </tr>\n",
       "  </tbody>\n",
       "</table>\n",
       "</div>"
      ],
      "text/plain": [
       "         X1        X2  Y\n",
       "0  2.327868  2.458017 -1\n",
       "1  3.032830  3.170770 -1\n",
       "2  4.485465  3.696728 -1\n",
       "3  3.684815  3.846847 -1\n",
       "4  2.283559  1.853216 -1\n",
       "5  7.807521  3.290132  1\n",
       "6  6.132998  2.140563  1\n",
       "7  7.514829  2.107057  1\n",
       "8  5.502385  1.404003  1\n",
       "9  7.432932  4.236233  1"
      ]
     },
     "execution_count": 218,
     "metadata": {},
     "output_type": "execute_result"
    }
   ],
   "source": [
    "df"
   ]
  },
  {
   "cell_type": "code",
   "execution_count": 219,
   "metadata": {},
   "outputs": [],
   "source": [
    "X = df.iloc[0, :-1].to_list()\n",
    "Y = df.iloc[0, -1]\n",
    "theta = [0, 0]"
   ]
  },
  {
   "cell_type": "code",
   "execution_count": 220,
   "metadata": {},
   "outputs": [],
   "source": [
    "from typing import List\n",
    "\n",
    "Vector = List[float]\n",
    "\n",
    "def dot(v: Vector, w: Vector) -> float:\n",
    "    \"\"\"Computes v_1 * w_1 + ... + v_n * w_n\"\"\"\n",
    "    assert len(v) == len(w), \"vectors must be same length\"\n",
    "    return sum(v_i * w_i for v_i, w_i in zip(v, w))\n",
    "\n",
    "def output(y:int, theta: Vector, point: Vector)-> float:\n",
    "    \"\"\"SVM calculate the output value\"\"\"\n",
    "    return y * dot(theta, point)"
   ]
  },
  {
   "cell_type": "code",
   "execution_count": 221,
   "metadata": {},
   "outputs": [],
   "source": [
    "assert output(-1, theta, X) == 0"
   ]
  },
  {
   "cell_type": "code",
   "execution_count": 222,
   "metadata": {},
   "outputs": [],
   "source": [
    "def scalar_multiply(c: float, v: Vector) -> Vector:\n",
    "    \"\"\"Multiplies every element by c \"\"\"\n",
    "    return [c * v_i for v_i in v]\n",
    "\n",
    "def not_support_vec(i:int, theta: vector)-> float:\n",
    "    \"\"\"SVM parameter update if not \n",
    "    a support vector\"\"\"\n",
    "    return scalar_multiply((1-1/i), theta)"
   ]
  },
  {
   "cell_type": "code",
   "execution_count": 223,
   "metadata": {},
   "outputs": [],
   "source": [
    "def support_vec(i:int, theta: Vector, lam: float, y:int, point: Vector) -> float:\n",
    "    \"\"\"SVM parameter update if a support vector\"\"\"\n",
    "    y_x = scalar_multiply(y, point)\n",
    "    return [(1 - 1/i) * t_i + 1/(lam * i) * y_x_i for t_i, y_x_i in zip(theta, y_x)]\n",
    "    "
   ]
  },
  {
   "cell_type": "code",
   "execution_count": 224,
   "metadata": {},
   "outputs": [],
   "source": [
    "def coef_update(i:int, theta: Vector, point:Vector, lam:float, y:int) -> Vector:\n",
    "    \"\"\"SVM coefficients update\"\"\"\n",
    "    out = output(Y, theta, point)\n",
    "    if out < 1:\n",
    "        return support_vec(i, theta, lam, y, point)\n",
    "    else:\n",
    "        return not_support_vec(i, theta)"
   ]
  },
  {
   "cell_type": "code",
   "execution_count": 225,
   "metadata": {},
   "outputs": [],
   "source": [
    "def prediction_svm(theta: Vector, point: Vector):\n",
    "    \"\"\"SVM prediction based on coeficients\"\"\"\n",
    "    return -1 if dot(theta, point) < 0 else 1"
   ]
  },
  {
   "cell_type": "code",
   "execution_count": 233,
   "metadata": {},
   "outputs": [
    {
     "data": {
      "text/plain": [
       "[0.5558659268623344, -0.7290904074493363]"
      ]
     },
     "execution_count": 233,
     "metadata": {},
     "output_type": "execute_result"
    }
   ],
   "source": [
    "n = 160  # number of iterations\n",
    "theta = [0, 0] # initilaize theta to 0\n",
    "\n",
    "max_idx = len(df) - 1 # to prevent out of bounds df\n",
    "idx = 0  # pandas idx\n",
    "\n",
    "prediction = [] # for accuracy\n",
    "for i in range(1,n):\n",
    "    X = df.iloc[idx, :-1].to_list()\n",
    "    Y = df.iloc[idx, -1]\n",
    "    theta = coef_update(i, theta, X, 0.45, Y)\n",
    "    if idx >= max_idx:\n",
    "        idx = 0\n",
    "    else:\n",
    "        idx += 1\n",
    "    pred = prediction_svm(theta, X)\n",
    "    prediction.append((pred, Y))\n",
    "theta"
   ]
  },
  {
   "cell_type": "code",
   "execution_count": 234,
   "metadata": {},
   "outputs": [
    {
     "data": {
      "text/plain": [
       "True"
      ]
     },
     "execution_count": 234,
     "metadata": {},
     "output_type": "execute_result"
    }
   ],
   "source": [
    "# accurracy for the last 80 predictions is 100%\n",
    "all(pred_i == y_i for pred_i,y_i in  prediction[-50:])"
   ]
  },
  {
   "cell_type": "code",
   "execution_count": 228,
   "metadata": {},
   "outputs": [
    {
     "data": {
      "text/plain": [
       "[0.10875912928301892, 0.054171637358490426]"
      ]
     },
     "execution_count": 228,
     "metadata": {},
     "output_type": "execute_result"
    }
   ],
   "source": [
    "# does not work as per book when you randomize the (X, Y) input\n",
    "n = 160\n",
    "theta = [0, 0]\n",
    "\n",
    "prediction = []\n",
    "for i in range(1,n):\n",
    "    X = df.sample().iloc[:, :-1].squeeze().to_list()\n",
    "    Y = df.sample().iloc[:, -1].squeeze()\n",
    "    theta = coef_update(i, theta, X, 0.5, Y)\n",
    "    pred = prediction_svm(theta, X)\n",
    "    prediction.append((pred, Y))    \n",
    "    #print(theta)\n",
    "\n",
    "theta"
   ]
  }
 ],
 "metadata": {
  "kernelspec": {
   "display_name": "Python 3",
   "language": "python",
   "name": "python3"
  },
  "language_info": {
   "codemirror_mode": {
    "name": "ipython",
    "version": 3
   },
   "file_extension": ".py",
   "mimetype": "text/x-python",
   "name": "python",
   "nbconvert_exporter": "python",
   "pygments_lexer": "ipython3",
   "version": "3.7.3"
  }
 },
 "nbformat": 4,
 "nbformat_minor": 4
}
