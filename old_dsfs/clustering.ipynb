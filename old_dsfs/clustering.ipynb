{
 "cells": [
  {
   "cell_type": "markdown",
   "metadata": {},
   "source": [
    "One of the simplest clustering methods is k-means, in which the number of clusters is chosen in advance, after shich the goal is to partition the inputs into sets S1, ... Sk in a way that minimizes the total sum of squared distances from each point to the mean of its assigned cluster. \n",
    "\n",
    "We will set for an iterative algorithm, that usually finds a good clustering:\n",
    "\n",
    "- Start with a set of k-means randomly assigned, which are points in d-dimensional space\n",
    "- assign each point to the mean to which is closest centerpoint\n",
    "- if no point assigment has changed, stop and keep the clusters.\n",
    "- if some point assignment has changed, recompute the means and return to step2"
   ]
  },
  {
   "cell_type": "code",
   "execution_count": 1,
   "metadata": {},
   "outputs": [],
   "source": [
    "from linear_algebra import Vector"
   ]
  },
  {
   "cell_type": "code",
   "execution_count": 2,
   "metadata": {},
   "outputs": [],
   "source": [
    "# helper function that dectects if any centerpoint assigmmnet has changed\n",
    "def num_differences(v1: Vector, v2: Vector) -> int:\n",
    "    assert len(v1) == len(v2)\n",
    "    return len([x1 for x1, x2 in zip(v1, v2) if x1 != x2])\n",
    "\n",
    "assert num_differences([1, 2, 3], [2, 1, 3]) == 2\n",
    "assert num_differences([1, 2], [1, 2]) == 0"
   ]
  },
  {
   "cell_type": "code",
   "execution_count": 3,
   "metadata": {},
   "outputs": [],
   "source": [
    "from typing import List\n",
    "from linear_algebra import vector_mean\n",
    "import random"
   ]
  },
  {
   "cell_type": "code",
   "execution_count": 4,
   "metadata": {},
   "outputs": [],
   "source": [
    "def cluster_means(k: int, inputs: List[Vector], assignments: List[int]) -> List[Vector]:\n",
    "    # clusters[i] contains the inputs whose assignment is i\n",
    "    clusters = [[] for i in range(k)]\n",
    "    for input, assignment in zip(inputs, assignments):\n",
    "        #print(input, assignment)\n",
    "        clusters[assignment].append(input)\n",
    "        #print(clusters)\n",
    "        #break\n",
    "    # if a cluster is empty, just use a ramdom point\n",
    "    return [vector_mean(cluster) if cluster else random.choice(inputs)\n",
    "           for cluster in clusters]"
   ]
  },
  {
   "cell_type": "code",
   "execution_count": 5,
   "metadata": {},
   "outputs": [
    {
     "data": {
      "text/plain": [
       "[[-1.5, 2.0],\n",
       " [0.0, 3.0],\n",
       " [-0.3333333333333333, 5.0],\n",
       " [-2, 3],\n",
       " [-1, 1],\n",
       " [-1, 1]]"
      ]
     },
     "execution_count": 5,
     "metadata": {},
     "output_type": "execute_result"
    }
   ],
   "source": [
    "inputs = [[-1, 1], [-2,3], [-3, 4], [4, 5], [-2, 6], [0, 3]]\n",
    "assignments = [0, 0, 2, 2, 2, 1]\n",
    "cluster_means(6, inputs, assignments)"
   ]
  },
  {
   "cell_type": "code",
   "execution_count": 6,
   "metadata": {},
   "outputs": [],
   "source": [
    "import itertools\n",
    "\n",
    "from linear_algebra import squared_distance"
   ]
  },
  {
   "cell_type": "code",
   "execution_count": 7,
   "metadata": {},
   "outputs": [],
   "source": [
    "# I undertand the intuition and the code main points\n",
    "#\n",
    "\n",
    "class KMeans:\n",
    "    def __init__(self, k: int) -> None:\n",
    "        self.k = k #number of clusters\n",
    "        self.means = None\n",
    "    \n",
    "    def classify(self, input: Vector) -> int:\n",
    "        \"\"\"return the index of the cluster closest to the input\"\"\"\n",
    "        # means method woudl be already computed as claissfy method is called\n",
    "        # means len == k\n",
    "        return min(range(self.k),\n",
    "                   key= lambda i: squared_distance(input, self.means[i]))\n",
    "    def train(self, inputs: List[Vector]) -> None:\n",
    "        # start with a random assignments\n",
    "        assignments = [random.randrange(self.k) for _ in inputs]\n",
    "        for _ in itertools.count():\n",
    "            # print(assignments)\n",
    "            # compute means\n",
    "            self.means = cluster_means(self.k, inputs, assignments)\n",
    "            #  and find new assignments\n",
    "            new_assignments = [self.classify(input) for input in inputs]\n",
    "            # check how many assignments have changed and if we're done\n",
    "            num_changed = num_differences(assignments, new_assignments)\n",
    "            if num_changed == 0: \n",
    "                return\n",
    "            # otherwise keep the new assignments, and compute new means\n",
    "            assignments = new_assignments\n",
    "            self.means = cluster_means(self.k, inputs, assignments)\n",
    "            print(f\"changed: {num_changed} / {len(inputs)}\")"
   ]
  },
  {
   "cell_type": "code",
   "execution_count": 8,
   "metadata": {},
   "outputs": [],
   "source": [
    "inputs: List[List[float]] = [[-14,-5],[13,13],[20,23],[-19,-11],[-9,-16],[21,27],[-49,15],[26,13],[-46,5],[-34,-1],[11,15],\n",
    "                             [-49,0],[-22,-16],[19,28],[-12,-8],[-13,-19],[-41,8],[-11,-6],[-25,-9],[-18,-3]]"
   ]
  },
  {
   "cell_type": "code",
   "execution_count": 16,
   "metadata": {},
   "outputs": [
    {
     "name": "stdout",
     "output_type": "stream",
     "text": [
      "changed: 8 / 20\n",
      "changed: 4 / 20\n"
     ]
    },
    {
     "data": {
      "text/plain": [
       "[[-25.857142857142854, -4.714285714285714],\n",
       " [18.333333333333332, 19.833333333333332]]"
      ]
     },
     "execution_count": 16,
     "metadata": {},
     "output_type": "execute_result"
    }
   ],
   "source": [
    "k = 2\n",
    "random.seed(0)\n",
    "clusterer = KMeans(k)\n",
    "clusterer.train(inputs)\n",
    "means = sorted(clusterer.means)\n",
    "\n",
    "assert len(means) == k\n",
    "means"
   ]
  },
  {
   "cell_type": "code",
   "execution_count": 10,
   "metadata": {},
   "outputs": [
    {
     "data": {
      "text/plain": [
       "423.5306122448981"
      ]
     },
     "execution_count": 10,
     "metadata": {},
     "output_type": "execute_result"
    }
   ],
   "source": [
    "# check that the measures are close to what we expect\n",
    "squared_distance(means[0], [-44, 5]) "
   ]
  },
  {
   "cell_type": "markdown",
   "metadata": {},
   "source": [
    "#### Chosing K\n",
    "\n",
    "There are various ways to choose a k. One that is reasonably easy to develop intuition involves plotting the sum of squared errors (between each \n"
   ]
  },
  {
   "cell_type": "code",
   "execution_count": 11,
   "metadata": {},
   "outputs": [],
   "source": [
    "from matplotlib import pyplot as plt\n",
    "\n",
    "def squared_clustering_errors(inputs: List[Vector], k: int) -> float:\n",
    "    \"\"\"finds the total squared error from k-means clustering the inputs\n",
    "    \"\"\"\n",
    "    clusterer = KMeans(k)\n",
    "    clusterer.train(inputs)\n",
    "    means = clusterer.means\n",
    "    # there isnt an assignment attribute\n",
    "    assignments = [clusterer.classify(input) for input in inputs]\n",
    "    return sum(squared_distance(input, means[cluster])\n",
    "               for input, cluster in zip(inputs, assignments))"
   ]
  },
  {
   "cell_type": "code",
   "execution_count": 12,
   "metadata": {},
   "outputs": [
    {
     "name": "stdout",
     "output_type": "stream",
     "text": [
      "changed: 12 / 20\n"
     ]
    }
   ],
   "source": [
    "clusterer = KMeans(3)\n",
    "clusterer.train(inputs)"
   ]
  },
  {
   "cell_type": "code",
   "execution_count": 13,
   "metadata": {},
   "outputs": [
    {
     "data": {
      "text/plain": [
       "[[-43.800000000000004, 5.4],\n",
       " [18.333333333333332, 19.833333333333332],\n",
       " [-15.888888888888888, -10.333333333333332]]"
      ]
     },
     "execution_count": 13,
     "metadata": {},
     "output_type": "execute_result"
    }
   ],
   "source": [
    "means = clusterer.means\n",
    "means"
   ]
  },
  {
   "cell_type": "code",
   "execution_count": 14,
   "metadata": {},
   "outputs": [
    {
     "data": {
      "text/plain": [
       "[2, 1, 1, 2, 2, 1, 0, 1, 0, 0, 1, 0, 2, 1, 2, 2, 0, 2, 2, 2]"
      ]
     },
     "execution_count": 14,
     "metadata": {},
     "output_type": "execute_result"
    }
   ],
   "source": [
    "assignments = [clusterer.classify(input) for input in inputs]\n",
    "assignments"
   ]
  }
 ],
 "metadata": {
  "jupytext": {
   "formats": "ipynb,py:light"
  },
  "kernelspec": {
   "display_name": "Python 3",
   "language": "python",
   "name": "python3"
  },
  "language_info": {
   "codemirror_mode": {
    "name": "ipython",
    "version": 3
   },
   "file_extension": ".py",
   "mimetype": "text/x-python",
   "name": "python",
   "nbconvert_exporter": "python",
   "pygments_lexer": "ipython3",
   "version": "3.7.3"
  }
 },
 "nbformat": 4,
 "nbformat_minor": 4
}
