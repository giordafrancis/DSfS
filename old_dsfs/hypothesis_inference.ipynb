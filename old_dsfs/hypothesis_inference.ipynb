{
 "cells": [
  {
   "cell_type": "code",
   "execution_count": 10,
   "id": "3af13e70-bd2f-4cc8-beaf-27d5991f8ab7",
   "metadata": {},
   "outputs": [],
   "source": [
    "import scipy.stats as st"
   ]
  },
  {
   "cell_type": "code",
   "execution_count": 11,
   "id": "3a396683-50ad-4977-b764-7385c4ae9409",
   "metadata": {},
   "outputs": [],
   "source": [
    "import math, random\n",
    "from scratch.probability import normal_cdf, inverse_normal_cdf\n",
    "\n",
    "def normal_approximation_to_binomial(n:int, p:float)->tuple[float, float]:\n",
    "    \"\"\"\n",
    "    Returns mu and sigma corresponding to a Binomial(n,p)\n",
    "    \"\"\"\n",
    "    mu = p * n\n",
    "    sigma = math.sqrt(p * (1-p) * n)\n",
    "    return mu, sigma\n",
    "\n",
    "normal_probability_below = normal_cdf\n",
    "def normal_probability_above(lo: float, mu: float=0, sigma: float =1)-> float:\n",
    "        \"\"\"\n",
    "        The probability that an N(mu, sigma) is greater then lo\n",
    "        AKA Survival function\n",
    "        \"\"\"\n",
    "        return 1 - normal_cdf(lo, mu, sigma)\n",
    "    \n",
    "def normal_probability_between(lo:float, hi:float,\n",
    "                               mu: float=0, sigma:float=1) -> float:\n",
    "    \"\"\"\n",
    "    The probability that an N(mu, sigma) is between lo and hi\n",
    "    \"\"\"\n",
    "    return normal_cdf(hi, mu, sigma)  - normal_cdf(lo, mu, sigma)\n",
    "\n",
    "def normal_probability_outside(lo:float, hi:float,\n",
    "                               mu: float, sigma: float=1) -> float:\n",
    "    \"\"\"\n",
    "    The probabiluty that an N(mu, sigma) is not between lo and hi\n",
    "    \"\"\"\n",
    "    return 1 - normal_probability_between(lo, hi, mu, sigma)\n",
    "\n",
    "def normal_upper_bound(probability:float,\n",
    "                       mu: float =0,\n",
    "                       sigma: float=1)->float:\n",
    "    \"\"\"\n",
    "    Returns the z for which P(Z <= z) = probability\n",
    "    \"\"\"\n",
    "    return inverse_normal_cdf(probability, mu, sigma)\n",
    "\n",
    "def normal_lower_bound(probability:float,\n",
    "                       mu: float=0,\n",
    "                       sigma:float=1)->float:\n",
    "    \"\"\"\n",
    "    Returns the z for which P(Z > z) = probability\n",
    "    \"\"\"\n",
    "    return inverse_normal_cdf(1- probability, mu, sigma)\n",
    "\n",
    "def normal_two_sided_bounds(probability: float,\n",
    "                             mu: float=0,\n",
    "                             sigma: float=1)-> tuple[float, float]:\n",
    "    \"\"\"\n",
    "    Returns the symetric (about the mean) bounds\n",
    "    that contain the specified probability\n",
    "    \"\"\"\n",
    "    tail_probability = (1 - probability) / 2\n",
    "    \n",
    "    # upper bound should have tail probability above it\n",
    "    upper_bound = normal_lower_bound(tail_probability, mu, sigma)\n",
    "    # lower bound should have tail probability below it\n",
    "    lower_bound = normal_upper_bound(tail_probability, mu, sigma)\n",
    "    \n",
    "    return lower_bound, upper_bound\n",
    "    "
   ]
  },
  {
   "cell_type": "code",
   "execution_count": 12,
   "id": "c08b8926-e51b-4ae5-b845-c81278185041",
   "metadata": {},
   "outputs": [
    {
     "name": "stdout",
     "output_type": "stream",
     "text": [
      "(-0.5243968963623047, 0.5243968963623047)\n"
     ]
    },
    {
     "data": {
      "text/plain": [
       "(-0.5244005127080409, 0.5244005127080407)"
      ]
     },
     "execution_count": 12,
     "metadata": {},
     "output_type": "execute_result"
    }
   ],
   "source": [
    "print(normal_two_sided_bounds(probability=.4))\n",
    "st_norm = st.norm(loc=0, scale=1)\n",
    "st_norm.ppf(.3), st_norm.ppf(.7)"
   ]
  },
  {
   "cell_type": "code",
   "execution_count": 13,
   "id": "841f1186-280c-4b49-9774-df37199f5a2e",
   "metadata": {},
   "outputs": [
    {
     "name": "stdout",
     "output_type": "stream",
     "text": [
      "500.0 15.811388300841896\n"
     ]
    }
   ],
   "source": [
    "# Example fair coin trial\n",
    "# flip a coin 1,000 times, if our hypothesis is true x should be normally \n",
    "# distributed with mean 0 and std 15.8\n",
    "mu_0, sigma_0 = normal_approximation_to_binomial(1000, 0.5)\n",
    "print(mu_0, sigma_0)"
   ]
  },
  {
   "cell_type": "code",
   "execution_count": 14,
   "id": "28b2a42e-c708-4ba0-b031-d6e7f07e962b",
   "metadata": {},
   "outputs": [
    {
     "name": "stdout",
     "output_type": "stream",
     "text": [
      "number of occurrences within bounds 0.9419\n"
     ]
    }
   ],
   "source": [
    "# assuming our p = 0.5, a fair coin, there's just 5% probability we observe an X that lies\n",
    "# outside of this interval\n",
    "lower_bound, upper_bound = normal_two_sided_bounds(0.95, mu_0, sigma_0)\n",
    "lower_bound, upper_bound\n",
    "\n",
    "# simulation test\n",
    "\n",
    "ci = list()\n",
    "for _ in range(10_000):\n",
    "    z = st.binom(n=1000, p=0.5).rvs()\n",
    "    ci.append(lower_bound < z < upper_bound)\n",
    "print(\"number of occurrences within bounds\", sum(ci) / len(ci))"
   ]
  },
  {
   "cell_type": "code",
   "execution_count": 15,
   "id": "a4d78458-00a4-4d89-832f-29bc1f710f88",
   "metadata": {},
   "outputs": [],
   "source": [
    "# the power of a test sis the probability of not making a type 2 error ( false negative)\n",
    "# As we dont know what H0 being false means, lets checks if p is really 0.55, coin biased towards heads\n",
    "\n",
    "# 95% bounds based on assumption p=0.5\n",
    "lo, hi = normal_two_sided_bounds(0.95, mu_0, sigma_0)\n",
    "\n",
    "# actual mu and sigma\n",
    "mu_1, sigma_1 = normal_approximation_to_binomial(1000, p=0.55)\n",
    "type_2_probability = normal_probability_between(lo, hi, mu_1, sigma_1)\n",
    "power = 1 - type_2_probability"
   ]
  },
  {
   "cell_type": "code",
   "execution_count": 16,
   "id": "8494a0b2-66a4-431e-b0f6-3518f1c90069",
   "metadata": {},
   "outputs": [],
   "source": [
    "# p-values\n",
    "# Instead of choosing bounds we compute the probability, assuming H0 is True\n",
    "# that we would see a value at least as extreme as the one we actually observed\n",
    "\n",
    "def two_sided_p_value(x: float, mu:float =0, sigma:float = 1) ->float:\n",
    "    \"\"\"\n",
    "    How likely are we to see a value at least as extreme as x \n",
    "    (in either direction) if our values are from a N(mu, sigma)\n",
    "    \"\"\"\n",
    "    if x >= mu:\n",
    "        # x is greater then the mean, so the tail is everythng greater then x\n",
    "        return 2 * normal_probability_above(x, mu, sigma)\n",
    "    else:\n",
    "        # x is below the mean, so the tail is everything less than x\n",
    "        return 2 * normal_probability_below(x, mu, sigma)\n",
    "    "
   ]
  },
  {
   "cell_type": "code",
   "execution_count": 17,
   "id": "c8fff9f6-c9f6-4d03-be36-ccfc24977cce",
   "metadata": {},
   "outputs": [
    {
     "data": {
      "text/plain": [
       "0.06207721579598835"
      ]
     },
     "execution_count": 17,
     "metadata": {},
     "output_type": "execute_result"
    }
   ],
   "source": [
    "# if we were to observe 530 heads, we would compute\n",
    "# see continuity correction \n",
    "# we would not reject the null \n",
    "two_sided_p_value(529.5, mu_0, sigma_0)"
   ]
  },
  {
   "cell_type": "code",
   "execution_count": 18,
   "id": "13b31b40-c8db-4f11-ad2c-a29e458f0e76",
   "metadata": {},
   "outputs": [],
   "source": [
    "# simulation f above\n",
    "extreme_value_count = 0\n",
    "for _ in range(1000):\n",
    "    num_heads = sum(1 if random.random() < 0.5 else 0\n",
    "                    for _ in range(1000)) # in 1000 flips\n",
    "    if num_heads >= 530 or num_heads <= 470: \n",
    "        extreme_value_count += 1\n",
    "# p-value was 0.062 -> ~62 estreme values out of 1000\n",
    "assert 59 < extreme_value_count < 65, f\"{extreme_value_count}\"    "
   ]
  },
  {
   "cell_type": "code",
   "execution_count": 19,
   "id": "4808f46a-321b-4a82-93d8-e197d4f3ae77",
   "metadata": {},
   "outputs": [
    {
     "data": {
      "text/plain": [
       "0.046345287837786575"
      ]
     },
     "execution_count": 19,
     "metadata": {},
     "output_type": "execute_result"
    }
   ],
   "source": [
    "# if instead we observed 532 heads\n",
    "# we would reject the null\n",
    "# it shows the relative binary nature of using a p-value for inference\n",
    "two_sided_p_value(531.5, mu_0, sigma_0)"
   ]
  },
  {
   "cell_type": "code",
   "execution_count": 32,
   "id": "47dbff13-f707-4528-90fa-34010996f73f",
   "metadata": {},
   "outputs": [
    {
     "data": {
      "text/plain": [
       "(0.4940490278129096, 0.5559509721870904)"
      ]
     },
     "execution_count": 32,
     "metadata": {},
     "output_type": "execute_result"
    }
   ],
   "source": [
    "# confidence intervals\n",
    "# coin flips 525 heads / 1000 tries how confident are we this is a fair coin\n",
    "\n",
    "p_hat = 525 / 1000\n",
    "mu = p_hat\n",
    "sigma = math.sqrt(p_hat * (1- p_hat) / 1000)\n",
    "normal_two_sided_bounds(0.95, mu, sigma)\n",
    "# interpret as if i was to repeat the experiment 95% of the times\n",
    "# p value would be within the below interval\n",
    "# we do not conclude the coin is unfair as 0.5 falls within the interval"
   ]
  },
  {
   "cell_type": "code",
   "execution_count": 38,
   "id": "61410353-c9cc-4561-a26f-18bd684296d7",
   "metadata": {},
   "outputs": [],
   "source": [
    "# p-hacking a procedure that erroneosly rejects the null hypothesis\n",
    "# only 5% of the time\n",
    "\n",
    "def run_experiment()->list[bool]:\n",
    "    \"\"\"\n",
    "    Flips a fair con 1000 times, True=heads\n",
    "    \"\"\"\n",
    "    return [random.random() < 0.5 for _ in range(1000)]\n",
    "\n",
    "def reject_fairness(experiment: list[bool]) -> bool:\n",
    "    \"\"\"\n",
    "    Using the 5% significance levels\n",
    "    \"\"\"\n",
    "    \n",
    "    num_heads = len([flip\n",
    "                     for flip in experiment\n",
    "                     if flip])\n",
    "    return num_heads < 469 or num_heads > 531\n",
    "\n",
    "random.seed(0)\n",
    "experiments = [run_experiment() for _ in range(1000)]\n",
    "num_rejections = len([experiment\n",
    "                     for experiment in experiments\n",
    "                     if reject_fairness(experiment)])\n",
    "\n",
    "assert num_rejections == 46"
   ]
  },
  {
   "cell_type": "code",
   "execution_count": 42,
   "id": "ed6d7b61-ee07-429b-8fca-f7660031005e",
   "metadata": {},
   "outputs": [
    {
     "data": {
      "text/plain": [
       "(469.01026640487555, 530.9897335951244)"
      ]
     },
     "execution_count": 42,
     "metadata": {},
     "output_type": "execute_result"
    }
   ],
   "source": [
    "mu, sigma = normal_approximation_to_binomial(1000, 0.5)\n",
    "normal_two_sided_bounds(0.95, mu, sigma)"
   ]
  },
  {
   "cell_type": "code",
   "execution_count": 49,
   "id": "84b16af1-725f-4e88-b851-7b8ea3134734",
   "metadata": {},
   "outputs": [
    {
     "name": "stdout",
     "output_type": "stream",
     "text": [
      "test statistic z is -> -1.1403464899034472\n",
      "probability of observing a value as such under the null -> 0.254141976542236\n",
      "test statistic z is -> -2.948839123097944\n",
      "probability of observing a value as such under the null -> 0.003189699706216853\n"
     ]
    }
   ],
   "source": [
    "# Example A/B testing\n",
    "\n",
    "def estimated_parameters(N: int, n:int)-> tuple[float, float]:\n",
    "    p = n / N\n",
    "    sigma = math.sqrt(p * (1- p)/ N)\n",
    "    return p, sigma\n",
    "\n",
    "\n",
    "def a_b_test_statistic(N_A:int, n_A:int, N_B:int, n_B:int)->float:\n",
    "    \"\"\"\n",
    "    test H0 p_A = p_B, which means p_A - p_B = 0\n",
    "    calculates test statistic\n",
    "    \"\"\"\n",
    "    p_A, sigma_A = estimated_parameters(N_A, n_A)\n",
    "    p_B, sigma_B = estimated_parameters(N_B, n_B)\n",
    "    return (p_B - p_A) / math.sqrt(sigma_A ** 2 + sigma_B ** 2)\n",
    "\n",
    "# 1000 trials both, 200 vs 100 cicks\n",
    "z = a_b_test_statistic(1000, 200, 1000, 180)\n",
    "print(\"test statistic z is ->\", z)\n",
    "print(\"probability of observing a value as such under the null ->\", two_sided_p_value(z))\n",
    "# 1000 trials both, 200 vs 150 clicks\n",
    "z = a_b_test_statistic(1000, 200, 1000, 150)\n",
    "print(\"test statistic z is ->\", z)\n",
    "print(\"probability of observing a value as such under the null ->\", two_sided_p_value(z))\n",
    "# only a ~ 3% chance to observe such a large difference if the ads were equally effective\n"
   ]
  },
  {
   "cell_type": "code",
   "execution_count": 50,
   "id": "9d8e8a6a-282d-4ddd-95bd-7c246420abe4",
   "metadata": {},
   "outputs": [],
   "source": [
    "# Bayesian inference\n",
    "\n",
    "# An alternative appraoch to inference involves treating the unknown parameters themselves as \n",
    "# random variables. We start with a prior distribution for the parameters\n",
    "# and then use the Bayes's theorem to get an updated posteriro distribution for the parameters\n",
    "# rather then making probability judgements about the tests, you make probability judgements\n",
    "# about the parameters\n",
    "\n",
    "# example coin flipping\n",
    "# prior from beta distrinution [0-1]\n",
    "def B(alpha:float, beta:float)-> float:\n",
    "    \"\"\"\n",
    "    A normalizing constant so that the total probability is 1\n",
    "    \"\"\"\n",
    "    return math.gamma(alpha) * math.gamma(beta) / math.gamma(alpha + beta)\n",
    "\n",
    "def beta_pdf(x:float, alpha:float, beta:float) -> float:\n",
    "    \"\"\"\n",
    "    beta_pdf. This distribution centers its weights at alpha/(alpha + beta)\n",
    "    larger alpha and beta, \"tigther\" the distribution is.\n",
    "    if alpha and beta = 1, uniform distributiuon centered at 0.5\n",
    "    if alpha >> beta, most of the weight is near 1\n",
    "    \"\"\"\n",
    "    if x <= 0 or x >=1: # no weight outside [0, 1]\n",
    "        return 0 \n",
    "    return x ** (alpha - 1) * (1 - x) ** (beta - 1) / B(alpha, beta)"
   ]
  },
  {
   "cell_type": "code",
   "execution_count": 68,
   "id": "bdad1af5-a0c3-43d3-b568-0fa6ba1950a4",
   "metadata": {},
   "outputs": [],
   "source": [
    "import numpy as np\n",
    "\n",
    "vals = [(x / 100, beta_pdf(x / 100, 23, 27))\n",
    " for x in range(0, 100 + 1)]"
   ]
  },
  {
   "cell_type": "code",
   "execution_count": null,
   "id": "cd80857b-4e2e-49b5-a960-703bb6ea3fea",
   "metadata": {},
   "outputs": [],
   "source": []
  }
 ],
 "metadata": {
  "kernelspec": {
   "display_name": "Python 3",
   "language": "python",
   "name": "python3"
  },
  "language_info": {
   "codemirror_mode": {
    "name": "ipython",
    "version": 3
   },
   "file_extension": ".py",
   "mimetype": "text/x-python",
   "name": "python",
   "nbconvert_exporter": "python",
   "pygments_lexer": "ipython3",
   "version": "3.9.2"
  }
 },
 "nbformat": 4,
 "nbformat_minor": 5
}
