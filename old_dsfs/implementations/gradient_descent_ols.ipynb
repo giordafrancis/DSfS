{
 "cells": [
  {
   "cell_type": "markdown",
   "metadata": {},
   "source": [
    "## OLS"
   ]
  },
  {
   "cell_type": "markdown",
   "metadata": {},
   "source": [
    "Based on the book master learning algorithms and data science from scracth  I'm attempting to implement from scratch with python machine learning algorithms. \n",
    "I'm focusing here on the pseudocode of running the algorithms. \n",
    "My objective is to make this code readable and functional. \n",
    "I'm not concerned with vectorization and faster implementation "
   ]
  },
  {
   "cell_type": "code",
   "execution_count": 170,
   "metadata": {},
   "outputs": [],
   "source": [
    "# test data m is 2 and b is 1\n",
    "data_test = [(x, 2 * x + 1) for x in range(10)]\n",
    "xs = [x for x, _ in data_test]\n",
    "ys = [y for _, y in data_test]"
   ]
  },
  {
   "cell_type": "markdown",
   "metadata": {},
   "source": [
    "First I will attempt to find the regression coefficients via the OLS method."
   ]
  },
  {
   "cell_type": "markdown",
   "metadata": {},
   "source": [
    "m = sum((xi - mean(x)) * (yi - mean(y))) / sum(xi - mean(x)) ** 2\n",
    "\n",
    "b = mean(y) - m * mean(x)\n",
    "\n",
    "our hypothesis function is \n",
    "\n",
    "y = b + m*x"
   ]
  },
  {
   "cell_type": "code",
   "execution_count": 171,
   "metadata": {},
   "outputs": [],
   "source": [
    "from typing import List, Tuple\n",
    "import math\n",
    "\n",
    "Vector = List[float]\n",
    "\n",
    "def mean (inputs: Vector) -> float:\n",
    "    \"\"\"computes the mean of the vector\"\"\"\n",
    "    assert inputs, \"cannot compute the mean of an empty vector\"\n",
    "    return sum(inputs)/ len(inputs)\n",
    "\n",
    "def de_mean(inputs: Vector) -> float:\n",
    "    \"\"\"\n",
    "    substracts the mean of inputs to each element\n",
    "    \"\"\"\n",
    "    mean_inputs = mean(inputs)\n",
    "    return [input - mean_inputs for input in inputs]"
   ]
  },
  {
   "cell_type": "code",
   "execution_count": 172,
   "metadata": {},
   "outputs": [],
   "source": [
    "assert -0.001 <mean(de_mean(xs)) < 0.001 # mean should be close to 0"
   ]
  },
  {
   "cell_type": "code",
   "execution_count": 173,
   "metadata": {},
   "outputs": [],
   "source": [
    "def _slope(xs: Vector, ys: Vector) -> float:\n",
    "    \"\"\"computes the slope for OLS simple regression\"\"\"\n",
    "    return sum(xi * yi \n",
    "               for xi, yi in zip(de_mean(xs), de_mean(ys))) / sum(xi ** 2 for xi in de_mean(xs))\n",
    "\n",
    "def _intercept(xs: Vector, ys: Vector) -> float:\n",
    "    \"\"\" computes the intercept term for OLS simple regression\"\"\"\n",
    "    m = _slope(xs, ys)\n",
    "    return mean(ys) - m * mean(xs)\n",
    "\n",
    "def ols (xs: Vector, ys: Vector) -> Tuple:\n",
    "    \"\"\" computes and returns the intercept and slope for OLS simple regression\"\"\"\n",
    "    return _intercept(xs, ys), _slope(xs, ys)"
   ]
  },
  {
   "cell_type": "code",
   "execution_count": 174,
   "metadata": {},
   "outputs": [
    {
     "data": {
      "text/plain": [
       "(1.0, 2.0)"
      ]
     },
     "execution_count": 174,
     "metadata": {},
     "output_type": "execute_result"
    }
   ],
   "source": [
    "b, m = ols(xs, ys)\n",
    "b, m"
   ]
  },
  {
   "cell_type": "code",
   "execution_count": 175,
   "metadata": {},
   "outputs": [],
   "source": [
    "assert 0.99 < b < 1.01\n",
    "assert 1.99 < m < 2.01"
   ]
  },
  {
   "cell_type": "markdown",
   "metadata": {},
   "source": [
    "#### Comparable example\n",
    "\n",
    "Using the example in simple linear regression for DSfS book I will try to create a OLS and gradient descent example below\n",
    "for reference correct result should be theta_0 ~ 22.9, theta_1 ~ 0.9"
   ]
  },
  {
   "cell_type": "code",
   "execution_count": 176,
   "metadata": {},
   "outputs": [],
   "source": [
    "import random\n",
    "\n",
    "\n",
    "# imported the below data so my results are comparable to dsfs book : simple liner regression implementation  \n",
    "daily_minutes = [1,68.77,51.25,52.08,38.36,44.54,57.13,51.4,41.42,31.22,34.76,54.01,38.79,47.59,49.1,27.66,41.03,36.73,48.65,28.12,46.62,35.57,32.98,35,26.07,23.77,39.73,40.57,31.65,31.21,36.32,20.45,21.93,26.02,27.34,23.49,46.94,30.5,33.8,24.23,21.4,27.94,32.24,40.57,25.07,19.42,22.39,18.42,46.96,23.72,26.41,26.97,36.76,40.32,35.02,29.47,30.2,31,38.11,38.18,36.31,21.03,30.86,36.07,28.66,29.08,37.28,15.28,24.17,22.31,30.17,25.53,19.85,35.37,44.6,17.23,13.47,26.33,35.02,32.09,24.81,19.33,28.77,24.26,31.98,25.73,24.86,16.28,34.51,15.23,39.72,40.8,26.06,35.76,34.76,16.13,44.04,18.03,19.65,32.62,35.59,39.43,14.18,35.24,40.13,41.82,35.45,36.07,43.67,24.61,20.9,21.9,18.79,27.61,27.21,26.61,29.77,20.59,27.53,13.82,33.2,25,33.1,36.65,18.63,14.87,22.2,36.81,25.53,24.62,26.25,18.21,28.08,19.42,29.79,32.8,35.99,28.32,27.79,35.88,29.06,36.28,14.1,36.63,37.49,26.9,18.58,38.48,24.48,18.95,33.55,14.24,29.04,32.51,25.63,22.22,19,32.73,15.16,13.9,27.2,32.01,29.27,33,13.74,20.42,27.32,18.23,35.35,28.48,9.08,24.62,20.12,35.26,19.92,31.02,16.49,12.16,30.7,31.22,34.65,13.13,27.51,33.2,31.57,14.1,33.42,17.44,10.12,24.42,9.82,23.39,30.93,15.03,21.67,31.09,33.29,22.61,26.89,23.48,8.38,27.81,32.35,23.84]\n",
    "num_friends = [100.0,49,41,40,25,21,21,19,19,18,18,16,15,15,15,15,14,14,13,13,13,13,12,12,11,10,10,10,10,10,10,10,10,10,10,10,10,10,10,10,9,9,9,9,9,9,9,9,9,9,9,9,9,9,9,9,9,9,8,8,8,8,8,8,8,8,8,8,8,8,8,7,7,7,7,7,7,7,7,7,7,7,7,7,7,7,6,6,6,6,6,6,6,6,6,6,6,6,6,6,6,6,6,6,6,6,6,6,5,5,5,5,5,5,5,5,5,5,5,5,5,5,5,5,5,4,4,4,4,4,4,4,4,4,4,4,4,4,4,4,4,4,4,4,4,3,3,3,3,3,3,3,3,3,3,3,3,3,3,3,3,3,3,3,3,2,2,2,2,2,2,2,2,2,2,2,2,2,2,2,2,2,1,1,1,1,1,1,1,1,1,1,1,1,1,1,1,1,1,1,1,1,1,1]"
   ]
  },
  {
   "cell_type": "code",
   "execution_count": 177,
   "metadata": {},
   "outputs": [],
   "source": [
    "# removal of outlier\n",
    "\n",
    "outlier = num_friends.index(100)\n",
    "\n",
    "num_friends_good = [friends\n",
    "                    for idx, friends in enumerate(num_friends)\n",
    "                    if idx != outlier]\n",
    "\n",
    "daily_minutes_good = [minutes\n",
    "                     for idx, minutes in enumerate(daily_minutes)\n",
    "                     if idx != outlier]"
   ]
  },
  {
   "cell_type": "code",
   "execution_count": 178,
   "metadata": {
    "lines_to_next_cell": 1
   },
   "outputs": [
    {
     "data": {
      "text/plain": [
       "(22.94755241346903, 0.9038659456058649)"
      ]
     },
     "execution_count": 178,
     "metadata": {},
     "output_type": "execute_result"
    }
   ],
   "source": [
    "b, m = ols(num_friends_good, daily_minutes_good)\n",
    "\n",
    "assert 22.9 < b < 23.0\n",
    "assert 0.9 < m < 0.905\n",
    "b, m"
   ]
  },
  {
   "cell_type": "code",
   "execution_count": 179,
   "metadata": {},
   "outputs": [],
   "source": [
    "# y_hat-  the predict values\n",
    "def predict(xs:Vector, ys: Vector, b: float, m: float ) -> float:\n",
    "    return [xi * m + b for xi in xs ]\n",
    "\n",
    "assert len (predict(xs, ys, b, m)) == len(ys)"
   ]
  },
  {
   "cell_type": "code",
   "execution_count": 180,
   "metadata": {},
   "outputs": [],
   "source": [
    "# estimating the error\n",
    "# here we used the root mean squared error\n",
    "\n",
    "def subtract(v1: Vector, v2: Vector) -> float:\n",
    "    assert len(v1) == len(v2)\n",
    "    return [v1_i - v2_i for v1_i, v2_i in zip(v1, v2)]\n",
    "\n",
    "def root_mean_squared_error(ys: Vector, y_hat: Vector) -> float:\n",
    "    assert len(ys) == len(y_hat)\n",
    "    n = len(ys)\n",
    "    return  math.sqrt(sum(error ** 2 for error in subtract(y_hat, ys)) / n)"
   ]
  },
  {
   "cell_type": "code",
   "execution_count": 181,
   "metadata": {},
   "outputs": [
    {
     "data": {
      "text/plain": [
       "8.062752435241086"
      ]
     },
     "execution_count": 181,
     "metadata": {},
     "output_type": "execute_result"
    }
   ],
   "source": [
    "y_hat = predict(num_friends_good, daily_minutes_good, b, m) # predict values y_hat\n",
    "root_mean_squared_error(daily_minutes_good, y_hat)"
   ]
  },
  {
   "cell_type": "markdown",
   "metadata": {},
   "source": [
    "## Stochastic gradient descent"
   ]
  },
  {
   "cell_type": "markdown",
   "metadata": {},
   "source": [
    "Now I'm implementing to implement stochastic gradient descent for the same set of data. Stochastic gradient descent is not used to calculate the coefficients for linear regression in\n",
    "practice unless the dataset prevents traditional Ordinary Least Squares being used (e.g. a very large dataset). \n",
    "\n",
    "Nevertheless, linear regression does provide a useful exercise for practicing\n",
    "stochastic gradient descent which is an important algorithm used for minimizing cost functions\n",
    "by machine learning algorithms.\n",
    "\n",
    "**NOTE** Feature scaling is assumed not to be required in this example"
   ]
  },
  {
   "cell_type": "markdown",
   "metadata": {},
   "source": [
    "Each iteration the coefficients, called weights (w) in machine\n",
    "learning language are updated using the equation:\n",
    "\n",
    " w = w  -  alpha * delta \n",
    "\n",
    "where delta is: \n",
    "\n",
    "delta = derivative (costs) \n",
    "\n",
    "\n",
    "Where w is the coefficient or weight being optimized, alpha is a learning rate that you must\n",
    "configure (e.g. 0.1) and gradient is the error for the model on the training data attributed to\n",
    "the weight.\n",
    "\n",
    "Our hypothesis function is:\n",
    "\n",
    "y = w_0 + w_1 * x"
   ]
  },
  {
   "cell_type": "code",
   "execution_count": 182,
   "metadata": {},
   "outputs": [],
   "source": [
    "# predict the error per point\n",
    "def predict_point(x: float, w_0: float = 0.0, w_1: float = 0.0) -> float:\n",
    "    return w_0 + w_1 * x \n",
    "\n",
    "def error_point(x: float, y: float, w_0: float = 0.0 , w_1: float = 0.0) -> float:\n",
    "    \"\"\" Calculates the prediction error at point x\"\"\"\n",
    "    return predict_point(x, w_0, w_1) - y"
   ]
  },
  {
   "cell_type": "code",
   "execution_count": 183,
   "metadata": {},
   "outputs": [],
   "source": [
    "assert error_point(0, 1) == -1"
   ]
  },
  {
   "cell_type": "code",
   "execution_count": 184,
   "metadata": {},
   "outputs": [],
   "source": [
    "# calculate the derivatives of the costs for both weights and update \n",
    "\n",
    "alpha = 0.01 # set initial learning rate\n",
    "def _update_w0(x: float, y: float, w_0: float,w_1: float, alpha: float) -> float:\n",
    "    \"\"\"Update w0, we will use just the error as the gradient\"\"\"\n",
    "    return w_0 - alpha * error_point(x, y, w_0, w_1)\n",
    "\n",
    "def _update_w1(x: float, y: float, w_0: float,w_1: float, alpha: float) -> float:\n",
    "    \"\"\"Update w1, the error is filtered by the input x that caused it\"\"\"\n",
    "    return w_1 - alpha * error_point(x, y, w_0, w_1) * x\n",
    "\n",
    "def update_W(x: float, y: float, w_0: float,w_1: float, alpha: float) -> Tuple[float]:\n",
    "    \"\"\" Update w_0 and w_1 in one step\"\"\"\n",
    "    return _update_w0(x, y, w_0, w_1, alpha), _update_w1(x, y, w_0, w_1, alpha)"
   ]
  },
  {
   "cell_type": "code",
   "execution_count": 185,
   "metadata": {},
   "outputs": [],
   "source": [
    "w_0, w_1 = (0, 0) # test only\n",
    "assert update_W(1, 1, w_0, w_1, 0.01) == (0.01, 0.01)"
   ]
  },
  {
   "cell_type": "code",
   "execution_count": 186,
   "metadata": {},
   "outputs": [],
   "source": [
    "import itertools"
   ]
  },
  {
   "cell_type": "code",
   "execution_count": 187,
   "metadata": {},
   "outputs": [],
   "source": [
    "from matplotlib import pyplot as plt\n",
    "%matplotlib inline\n",
    "\n",
    "def plot_loss(data: List[Tuple[int, float]]) -> None:\n",
    "    \"\"\" Plots error vs epoch \"\"\"\n",
    "    \n",
    "    epochs = [epoch for epoch, _ in data]\n",
    "    loss = [error for _, error in data]\n",
    "    \n",
    "    plt.plot(epochs, loss , color='green', marker='o', linestyle='solid')\n",
    "    # add a title\n",
    "    plt.title(\"loss vs epoch\")\n",
    "    # add a label to the x and y-axis\n",
    "    plt.ylabel(\"loss\")\n",
    "    plt.xlabel(\"epoch\")\n",
    "    plt.show()\n",
    "    return None"
   ]
  },
  {
   "cell_type": "code",
   "execution_count": 188,
   "metadata": {},
   "outputs": [],
   "source": [
    "def stochastic_gradient_descent(xs: List[float], ys: List[float], alpha: float,  epochs: int = 20) -> Tuple[float]:\n",
    "    \"\"\"update of vectors weights w_0 and w_1 with stochastic gradient descent\"\"\"\n",
    "    \n",
    "    w_0, w_1 = (random.random(), random.random()) # initialize thetas randomly   \n",
    "    loss = [] \n",
    "    data = [(x,y) for x, y in zip(xs, ys)] # (x, y) pairs\n",
    "    data_copy = data.copy()\n",
    "    \n",
    "    for epoch in range(epochs):\n",
    "        random.shuffle(data_copy) # shuffle the entries prior to an epoch\n",
    "        for x, y in data_copy:\n",
    "            w_0, w_1 = update_W(x, y, w_0,w_1, alpha)\n",
    "            loss.append((epoch, error_point(x, y, w_0, w_1)))\n",
    "    plot_loss(loss)\n",
    "    return w_0, w_1"
   ]
  },
  {
   "cell_type": "code",
   "execution_count": 189,
   "metadata": {},
   "outputs": [
    {
     "data": {
      "text/plain": [
       "(22.94755241346903, 0.9038659456058649)"
      ]
     },
     "execution_count": 189,
     "metadata": {},
     "output_type": "execute_result"
    }
   ],
   "source": [
    "b, m"
   ]
  },
  {
   "cell_type": "code",
   "execution_count": 190,
   "metadata": {},
   "outputs": [
    {
     "data": {
      "image/png": "[encoded data removed]",
      "text/plain": [
       "<Figure size 432x288 with 1 Axes>"
      ]
     },
     "metadata": {
      "needs_background": "light"
     },
     "output_type": "display_data"
    },
    {
     "data": {
      "text/plain": [
       "(22.94751856120152, 0.9043909806639854)"
      ]
     },
     "execution_count": 190,
     "metadata": {},
     "output_type": "execute_result"
    }
   ],
   "source": [
    "random.seed(0)\n",
    "theta_0, theta_1 = stochastic_gradient_descent(num_friends_good, \n",
    "                                               daily_minutes_good, alpha = 0.00001, epochs= 10000)\n",
    "assert 22.9 < theta_0 < 22.97\n",
    "assert 0.90 < theta_1 < 0.95\n",
    "theta_0, theta_1"
   ]
  },
  {
   "cell_type": "markdown",
   "metadata": {},
   "source": [
    "### Batch gradient descent\n",
    "\n",
    "Now I will try to implement a batch version of gradient descent.  I've update the gradient functions below\n",
    "not these will only work for a simple liner regression\n",
    "beyond that proably best to use numpy"
   ]
  },
  {
   "cell_type": "code",
   "execution_count": 191,
   "metadata": {},
   "outputs": [],
   "source": [
    "# helper function for gradient update \n",
    "\n",
    "def add(v1: Vector, v2: Vector) -> Vector:\n",
    "    \"\"\"adds 2 vectors of equal length\"\"\"\n",
    "    assert len(v1) == len(v2)\n",
    "    return [v1_i + v2_i for v1_i, v2_i in zip(v1, v2)]\n",
    "\n",
    "assert add([1, 2], [-1, -2]) == [0, 0]\n",
    "\n",
    "def scalar_multiply(s: float, v1: Vector) -> Vector:\n",
    "    return [v1_i * s for v1_i in v1]\n",
    "\n",
    "assert scalar_multiply(2, [1, 2]) == [2, 4]"
   ]
  },
  {
   "cell_type": "code",
   "execution_count": 192,
   "metadata": {},
   "outputs": [],
   "source": [
    "def sum_sq_error(data: List[Vector], w_0: float, w_1: float) -> float:\n",
    "    \"\"\"Computer sum of square error for all xs, ys pairs \"\"\"\n",
    "    return sum(error_point(x, y, w_0, w_1) ** 2 for x, y in data)\n",
    "    \n",
    "def _gradient_0(x: int, y: int, w_0: float, w_1: float) -> float:\n",
    "    \"\"\"Calculates the gradient update for 1 point for theta 1 param\"\"\"\n",
    "    return error_point(x, y, w_0, w_1)\n",
    "\n",
    "def _gradient_1(x: int, y: int, w_0: float, w_1: float) -> float:\n",
    "    \"\"\"Calculates the gradient update for 1 point for theta 1 param\"\"\"\n",
    "    return error_point(x, y, w_0, w_1) *  x\n",
    "\n",
    "def gradient_step(grad_0: float, grad_1: float, alpha: float) -> Vector:\n",
    "    \"\"\" takes one gradient step\"\"\"\n",
    "    return scalar_multiply(alpha, [grad_0, grad_1])\n",
    "\n",
    "def gradient_update(w_0: float, w_1: float, grad_0: float, grad_1: float, alpha: float) -> Vector:\n",
    "    return add([w_0, w_1], gradient_step(grad_0, grad_1, -alpha))"
   ]
  },
  {
   "cell_type": "code",
   "execution_count": 193,
   "metadata": {},
   "outputs": [
    {
     "data": {
      "text/plain": [
       "(0.99, 0.99)"
      ]
     },
     "execution_count": 193,
     "metadata": {},
     "output_type": "execute_result"
    }
   ],
   "source": [
    "theta_0, theta_1 = gradient_update(1, 1, 1, 1, 0.01)\n",
    "assert 0.985 < theta_0 < 0.995 \n",
    "assert 0.985 < theta_1 < 0.995 \n",
    "theta_0, theta_1"
   ]
  },
  {
   "cell_type": "code",
   "execution_count": 194,
   "metadata": {},
   "outputs": [],
   "source": [
    "def batch_gradient_descent(xs: List[float], ys: List[float] , alpha: float,  epochs: int = 20) -> Tuple[float]:\n",
    "    \"\"\"update of vectors weights w_0 and w_1 with batch gradient descent\"\"\"\n",
    "    \n",
    "    w_0, w_1 = (random.random(), random.random()) # initialize W randomly  \n",
    "    data = [(x,y) for x, y in zip(xs, ys)] # (x, y) pairs\n",
    "    data_copy = data.copy() # defensive data copy not used\n",
    "    loss = [] \n",
    "    m = len(data_copy)\n",
    "    \n",
    "    for epoch in range(epochs):\n",
    "        grad_0 = sum(_gradient_0(x, y, w_0, w_1) for x, y in data_copy)\n",
    "        grad_1 = sum(_gradient_1(x, y, w_0, w_1) for x, y in data_copy)\n",
    "        w_0, w_1 = gradient_update(w_0, w_1, grad_0, grad_1, alpha)\n",
    "        epoch_loss = (1/ (2 * m)) * sum_sq_error(data_copy, w_0, w_1)\n",
    "        loss.append((epoch, epoch_loss))\n",
    "    plot_loss(loss)\n",
    "    return w_0, w_1"
   ]
  },
  {
   "cell_type": "code",
   "execution_count": 195,
   "metadata": {},
   "outputs": [
    {
     "data": {
      "image/png": "[encoded data removed]",
      "text/plain": [
       "<Figure size 432x288 with 1 Axes>"
      ]
     },
     "metadata": {
      "needs_background": "light"
     },
     "output_type": "display_data"
    },
    {
     "data": {
      "text/plain": [
       "(22.945162119011258, 0.9040573579394636)"
      ]
     },
     "execution_count": 195,
     "metadata": {},
     "output_type": "execute_result"
    }
   ],
   "source": [
    "# i've had to look into results as previous rate was to high and nan results were generated. \n",
    "# decrease rate for a smoother loss curve\n",
    "learning_rate = 0.00001 \n",
    "random.seed(0)\n",
    "theta_0, theta_1 = batch_gradient_descent(num_friends_good, daily_minutes_good,  learning_rate, 10000)\n",
    "\n",
    "theta_0, theta_1"
   ]
  },
  {
   "cell_type": "code",
   "execution_count": 196,
   "metadata": {},
   "outputs": [],
   "source": [
    "#\n",
    "# Now mini-batch gradient descent\n",
    "# same principle generating chunks of data\n",
    "def chunks(data: Vector, chunk_size):\n",
    "    \"\"\"Yield successive chunks from data.\"\"\"\n",
    "    chunk_size = max(1, chunk_size)\n",
    "    for i in range(0, len(data), chunk_size):\n",
    "        yield data[i:i + chunk_size]"
   ]
  },
  {
   "cell_type": "code",
   "execution_count": 197,
   "metadata": {},
   "outputs": [],
   "source": [
    "def mini_batch_gradient_descent(xs: List[float], ys: List[float] , alpha: float, chunk_size: int=10, epochs: int=1000) -> Tuple[float]:\n",
    "    \"\"\"update of vectors weights w_0 and w_1 with mini-batch gradient descent\"\"\"\n",
    "    \n",
    "    w_0, w_1 = (random.random(), random.random()) # initialize W randomly  \n",
    "    data = [(x,y) for x, y in zip(xs, ys)] # (x, y) pairs\n",
    "    data_copy = data.copy() # create a data copy\n",
    "    loss =[]\n",
    "    \n",
    "    for epoch in range(epochs):\n",
    "        chunks_loss = [] # chunk loss to be used per epoch\n",
    "        for chunk in chunks(data_copy, chunk_size):\n",
    "            # calculate grads for theta\n",
    "            grad_0 = sum(_gradient_0(x, y, w_0, w_1) for x, y in chunk)\n",
    "            grad_1 = sum(_gradient_1(x, y, w_0, w_1) for x, y in chunk)\n",
    "            # update weights\n",
    "            w_0, w_1 = gradient_update(w_0, w_1, grad_0, grad_1, alpha)\n",
    "            \n",
    "            # now compute loss per chunk and append\n",
    "            m = len(chunk)\n",
    "            loss_per_chunk = (1/ (2 * m)) * sum_sq_error(data_copy, w_0, w_1)\n",
    "            chunks_loss.append(loss_per_chunk)\n",
    "        # average chunk loss at the end of an epoch and append for plotting\n",
    "        average_epoch_loss = sum(chunks_loss) / len(chunks_loss)\n",
    "        loss.append((epoch, average_epoch_loss))\n",
    "    plot_loss(loss)\n",
    "    return w_0, w_1"
   ]
  },
  {
   "cell_type": "code",
   "execution_count": 198,
   "metadata": {},
   "outputs": [
    {
     "data": {
      "image/png": "[encoded data removed]",
      "text/plain": [
       "<Figure size 432x288 with 1 Axes>"
      ]
     },
     "metadata": {
      "needs_background": "light"
     },
     "output_type": "display_data"
    },
    {
     "data": {
      "text/plain": [
       "(22.931749564280853, 0.9035572883550291)"
      ]
     },
     "execution_count": 198,
     "metadata": {},
     "output_type": "execute_result"
    }
   ],
   "source": [
    "learning_rate = 0.0001\n",
    "chunk_size = 10\n",
    "epochs = 750\n",
    "random.seed(0)\n",
    "theta_0, theta_1 = mini_batch_gradient_descent(num_friends_good, daily_minutes_good, \n",
    "                                               learning_rate,\n",
    "                                               chunk_size,\n",
    "                                               epochs)\n",
    "assert 22.9 < theta_0 < 22.95\n",
    "assert 0.85 < theta_1 < 0.91\n",
    "theta_0, theta_1"
   ]
  },
  {
   "cell_type": "code",
   "execution_count": 199,
   "metadata": {},
   "outputs": [
    {
     "data": {
      "text/plain": [
       "(22.94755241346903, 0.9038659456058649)"
      ]
     },
     "execution_count": 199,
     "metadata": {},
     "output_type": "execute_result"
    }
   ],
   "source": [
    "b, m"
   ]
  },
  {
   "cell_type": "markdown",
   "metadata": {},
   "source": [
    "I will attemp a multivariate least squares fit in the next notebook based on bacth_gradiendednt descent update"
   ]
  }
 ],
 "metadata": {
  "kernelspec": {
   "display_name": "Python 3",
   "language": "python",
   "name": "python3"
  },
  "language_info": {
   "codemirror_mode": {
    "name": "ipython",
    "version": 3
   },
   "file_extension": ".py",
   "mimetype": "text/x-python",
   "name": "python",
   "nbconvert_exporter": "python",
   "pygments_lexer": "ipython3",
   "version": "3.7.3"
  }
 },
 "nbformat": 4,
 "nbformat_minor": 4
}
