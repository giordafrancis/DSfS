{
 "cells": [
  {
   "cell_type": "markdown",
   "metadata": {},
   "source": [
    "#### Attemping a multivariate least squares fit"
   ]
  },
  {
   "cell_type": "code",
   "execution_count": 1,
   "metadata": {
    "lines_to_next_cell": 1
   },
   "outputs": [
    {
     "data": {
      "text/plain": [
       "<Figure size 640x480 with 1 Axes>"
      ]
     },
     "metadata": {},
     "output_type": "display_data"
    },
    {
     "data": {
      "text/plain": [
       "<Figure size 640x480 with 1 Axes>"
      ]
     },
     "metadata": {},
     "output_type": "display_data"
    },
    {
     "data": {
      "text/plain": [
       "<Figure size 640x480 with 1 Axes>"
      ]
     },
     "metadata": {},
     "output_type": "display_data"
    }
   ],
   "source": [
    "from gradient_descent_ols import Vector, num_friends_good, daily_minutes_good, add, scalar_multiply, plot_loss, ols\n",
    "from typing import List, Tuple\n",
    "import random"
   ]
  },
  {
   "cell_type": "code",
   "execution_count": 2,
   "metadata": {},
   "outputs": [],
   "source": [
    "def dot(v1: Vector, v2: Vector) -> float:\n",
    "    \"\"\"Computes v1_1*v2_1 + v1_2*v2_2 ...\"\"\"\n",
    "    assert len(v1)==len(v2)\n",
    "    return sum(v1_i * v2_i for v1_i, v2_i in zip(v1,v2))\n",
    "\n",
    "def vector_sum(vectors:List[Vector]) -> Vector:\n",
    "    \"\"\"Sums all corresponding elements\"\"\"\n",
    "    # check that vector is not empty\n",
    "    assert vectors, \"no vectors provided!\"\n",
    "    # check that vectors are all the same size\n",
    "    num_elements = len(vectors[0])\n",
    "    assert all(len(v) == num_elements for v in vectors), \"different sizes!\"\n",
    "    # the i-th element of the result is the sum of every vector[i]\n",
    "    return [sum(vector[i] for vector in vectors) \n",
    "            for i in range(num_elements)]\n",
    "\n",
    "def vector_mean(vectors: List[Vector]) -> Vector:\n",
    "    \"\"\"Returns the mean of correspoding elements\"\"\"\n",
    "    return scalar_multiply(1 /len(vectors), vector_sum(vectors))"
   ]
  },
  {
   "cell_type": "code",
   "execution_count": 3,
   "metadata": {},
   "outputs": [],
   "source": [
    "assert dot([1, 2], [2, 0]) == 2\n",
    "assert vector_sum([[1, 3], [1, -3]]) == [2, 0]\n",
    "assert vector_mean([[1, 3], [1, -3]]) == [1, 0]"
   ]
  },
  {
   "cell_type": "code",
   "execution_count": 4,
   "metadata": {},
   "outputs": [],
   "source": [
    "def add_intercept_vectors(xs: List[Vector]) -> List[Vector]:\n",
    "    \"\"\"add intercept 1 to xs vector\"\"\"\n",
    "    return [[1] + x for x in xs]\n",
    "\n",
    "def add_intercept(xs: Vector) -> List[Vector]:\n",
    "    return [[1, x] for x in xs]\n"
   ]
  },
  {
   "cell_type": "code",
   "execution_count": 5,
   "metadata": {},
   "outputs": [],
   "source": [
    "# predict the error per point\n",
    "def predict_point(x: Vector, theta: Vector) -> float:\n",
    "    return dot(x, theta)\n",
    "\n",
    "def error_point(x: Vector, y: float, theta: Vector) -> float:\n",
    "    \"\"\" Calculates the prediction error at point x\"\"\"\n",
    "    return predict_point(x, theta) - y\n",
    "\n",
    "assert error_point([1,3], 4, [1,1]) == 0"
   ]
  },
  {
   "cell_type": "code",
   "execution_count": 6,
   "metadata": {},
   "outputs": [],
   "source": [
    "def sum_sq_error(data: List[List[Vector]], theta: Vector) -> float:\n",
    "    \"\"\"Computer sum of square error for all xs, ys pairs \"\"\"\n",
    "    m = len(data)\n",
    "    return (1/ (2 * m)) * sum(error_point(x, y, theta) ** 2 for x, y in data)\n",
    "    \n",
    "def gradient(x: List[Vector], y: float, theta: Vector) -> List:\n",
    "    \"\"\"Calculates the gradient update for 1 point for theta \"\"\"\n",
    "    return scalar_multiply(error_point(x, y, theta), x)\n",
    "\n",
    "def evaluate_gradient(data: List[List[Vector]], theta: Vector) -> float:\n",
    "    \"\"\"evaluates gradient for provided data structure \n",
    "    [[x_0, x_1,.., x_i],[x_0, x_1,.., x_i]] -> [y_1,y_2]\"\"\"\n",
    "    return vector_mean([gradient(x, y, theta) for x, y in data]) \n",
    "    \n",
    "def gradient_step(gradient: Vector, alpha: float) -> Vector:\n",
    "    \"\"\" takes one gradient step\"\"\"\n",
    "    return scalar_multiply(alpha, gradient)\n",
    "\n",
    "def theta_update(theta: Vector, gradient: Vector , alpha: float) -> Vector:\n",
    "    return add(theta, gradient_step(gradient, -alpha))"
   ]
  },
  {
   "cell_type": "code",
   "execution_count": 7,
   "metadata": {},
   "outputs": [],
   "source": [
    "data_test = [[[1, 1], 1], [[1, 1], 1]]"
   ]
  },
  {
   "cell_type": "code",
   "execution_count": 8,
   "metadata": {},
   "outputs": [
    {
     "data": {
      "text/plain": [
       "[-1.0, -1.0]"
      ]
     },
     "execution_count": 8,
     "metadata": {},
     "output_type": "execute_result"
    }
   ],
   "source": [
    "theta = evaluate_gradient(data_test, [0, 0] )\n",
    "# assert 0.985 < theta[0] < 0.995 \n",
    "# assert 0.985 < theta[1] < 0.995 \n",
    "theta"
   ]
  },
  {
   "cell_type": "code",
   "execution_count": 9,
   "metadata": {},
   "outputs": [],
   "source": [
    "def chunks(data: Vector, chunk_size: int):\n",
    "    \"\"\"Yield successive chunks from data.\"\"\"\n",
    "    chunk_size = max(1, chunk_size)\n",
    "    data_copy = data.copy()\n",
    "    random.shuffle(data_copy)\n",
    "    for i in range(0, len(data_copy), chunk_size):\n",
    "        yield data_copy[i:i + chunk_size]\n",
    "        \n",
    "assert len(list(chunks(list(range(10)), 5))[0]) == 5"
   ]
  },
  {
   "cell_type": "code",
   "execution_count": 10,
   "metadata": {},
   "outputs": [],
   "source": [
    "def least_squares_fit(xs: List[float], ys: List[float] , \n",
    "                       alpha: float,  epochs: int = 1000, \n",
    "                       batch_size: int = 10) -> Vector:\n",
    "    \"\"\"\n",
    "    Find the theta that minimizes the sum of squared errors \n",
    "    assuming the model y = dot(x, theta)\n",
    "    \"\"\"\n",
    "    data = [[x, y] for x, y in zip(xs, ys)]     # zip data structure  \n",
    "    n = len(xs[0])                              # number of features\n",
    "    theta = [random.random() for _ in range(n)] # random guess for theta\n",
    "                                                # number trainning examples\n",
    "    loss = []                                   # to plot the avg. loss per epoch\n",
    "    \n",
    "    for epoch in range(epochs):\n",
    "        chunks_loss = []                                # for avg. loss\n",
    "        for chunk in chunks(data, batch_size):\n",
    "            grad = evaluate_gradient(chunk, theta)      # evaluate the gradient    \n",
    "            theta = theta_update(theta, grad, alpha)    # update theta \n",
    "            loss_per_chunk = sum_sq_error(chunk, theta)  # loss per chunk iter\n",
    "            chunks_loss.append(loss_per_chunk)                          \n",
    "        \n",
    "        average_epoch_loss = sum(chunks_loss) / len(chunks_loss)       \n",
    "        loss.append((epoch, average_epoch_loss))                # plot the avg per epoch\n",
    "    plot_loss(loss)\n",
    "    return theta"
   ]
  },
  {
   "cell_type": "code",
   "execution_count": 11,
   "metadata": {},
   "outputs": [
    {
     "data": {
      "image/png": "[encoded data removed]",
      "text/plain": [
       "<Figure size 432x288 with 1 Axes>"
      ]
     },
     "metadata": {
      "needs_background": "light"
     },
     "output_type": "display_data"
    },
    {
     "data": {
      "text/plain": [
       "[22.948807629458205, 0.9046883604614456]"
      ]
     },
     "execution_count": 11,
     "metadata": {},
     "output_type": "execute_result"
    }
   ],
   "source": [
    "# i've had to look into results as previous rate was to high and nan results were generated. \n",
    "# decrease rate for a smoother loss curve\n",
    "learning_rate = 0.0001\n",
    "epochs = 10000\n",
    "random.seed(0)\n",
    "\n",
    "theta = least_squares_fit(add_intercept(num_friends_good), daily_minutes_good,  \n",
    "                               learning_rate, epochs, 10)\n",
    "\n",
    "\n",
    "assert 22.93 < theta[0] < 22.96 \n",
    "assert 0.9 < theta[1] < 0.91\n",
    "theta"
   ]
  },
  {
   "cell_type": "code",
   "execution_count": 12,
   "metadata": {},
   "outputs": [
    {
     "data": {
      "text/plain": [
       "[22.948807629458205, 0.9046883604614456]"
      ]
     },
     "execution_count": 12,
     "metadata": {},
     "output_type": "execute_result"
    }
   ],
   "source": [
    "theta"
   ]
  },
  {
   "cell_type": "markdown",
   "metadata": {},
   "source": [
    "#### for a multivariate example"
   ]
  },
  {
   "cell_type": "code",
   "execution_count": 13,
   "metadata": {},
   "outputs": [],
   "source": [
    "inputs: List[List[float]] = [[1.,49,4,0],[1,41,9,0],[1,40,8,0],[1,25,6,0],[1,21,1,0],[1,21,0,0],[1,19,3,0],[1,19,0,0],[1,18,9,0],[1,18,8,0],[1,16,4,0],[1,15,3,0],[1,15,0,0],[1,15,2,0],[1,15,7,0],[1,14,0,0],[1,14,1,0],[1,13,1,0],[1,13,7,0],[1,13,4,0],[1,13,2,0],[1,12,5,0],[1,12,0,0],[1,11,9,0],[1,10,9,0],[1,10,1,0],[1,10,1,0],[1,10,7,0],[1,10,9,0],[1,10,1,0],[1,10,6,0],[1,10,6,0],[1,10,8,0],[1,10,10,0],[1,10,6,0],[1,10,0,0],[1,10,5,0],[1,10,3,0],[1,10,4,0],[1,9,9,0],[1,9,9,0],[1,9,0,0],[1,9,0,0],[1,9,6,0],[1,9,10,0],[1,9,8,0],[1,9,5,0],[1,9,2,0],[1,9,9,0],[1,9,10,0],[1,9,7,0],[1,9,2,0],[1,9,0,0],[1,9,4,0],[1,9,6,0],[1,9,4,0],[1,9,7,0],[1,8,3,0],[1,8,2,0],[1,8,4,0],[1,8,9,0],[1,8,2,0],[1,8,3,0],[1,8,5,0],[1,8,8,0],[1,8,0,0],[1,8,9,0],[1,8,10,0],[1,8,5,0],[1,8,5,0],[1,7,5,0],[1,7,5,0],[1,7,0,0],[1,7,2,0],[1,7,8,0],[1,7,10,0],[1,7,5,0],[1,7,3,0],[1,7,3,0],[1,7,6,0],[1,7,7,0],[1,7,7,0],[1,7,9,0],[1,7,3,0],[1,7,8,0],[1,6,4,0],[1,6,6,0],[1,6,4,0],[1,6,9,0],[1,6,0,0],[1,6,1,0],[1,6,4,0],[1,6,1,0],[1,6,0,0],[1,6,7,0],[1,6,0,0],[1,6,8,0],[1,6,4,0],[1,6,2,1],[1,6,1,1],[1,6,3,1],[1,6,6,1],[1,6,4,1],[1,6,4,1],[1,6,1,1],[1,6,3,1],[1,6,4,1],[1,5,1,1],[1,5,9,1],[1,5,4,1],[1,5,6,1],[1,5,4,1],[1,5,4,1],[1,5,10,1],[1,5,5,1],[1,5,2,1],[1,5,4,1],[1,5,4,1],[1,5,9,1],[1,5,3,1],[1,5,10,1],[1,5,2,1],[1,5,2,1],[1,5,9,1],[1,4,8,1],[1,4,6,1],[1,4,0,1],[1,4,10,1],[1,4,5,1],[1,4,10,1],[1,4,9,1],[1,4,1,1],[1,4,4,1],[1,4,4,1],[1,4,0,1],[1,4,3,1],[1,4,1,1],[1,4,3,1],[1,4,2,1],[1,4,4,1],[1,4,4,1],[1,4,8,1],[1,4,2,1],[1,4,4,1],[1,3,2,1],[1,3,6,1],[1,3,4,1],[1,3,7,1],[1,3,4,1],[1,3,1,1],[1,3,10,1],[1,3,3,1],[1,3,4,1],[1,3,7,1],[1,3,5,1],[1,3,6,1],[1,3,1,1],[1,3,6,1],[1,3,10,1],[1,3,2,1],[1,3,4,1],[1,3,2,1],[1,3,1,1],[1,3,5,1],[1,2,4,1],[1,2,2,1],[1,2,8,1],[1,2,3,1],[1,2,1,1],[1,2,9,1],[1,2,10,1],[1,2,9,1],[1,2,4,1],[1,2,5,1],[1,2,0,1],[1,2,9,1],[1,2,9,1],[1,2,0,1],[1,2,1,1],[1,2,1,1],[1,2,4,1],[1,1,0,1],[1,1,2,1],[1,1,2,1],[1,1,5,1],[1,1,3,1],[1,1,10,1],[1,1,6,1],[1,1,0,1],[1,1,8,1],[1,1,6,1],[1,1,4,1],[1,1,9,1],[1,1,9,1],[1,1,4,1],[1,1,2,1],[1,1,9,1],[1,1,0,1],[1,1,8,1],[1,1,6,1],[1,1,1,1],[1,1,1,1],[1,1,5,1]]"
   ]
  },
  {
   "cell_type": "code",
   "execution_count": 20,
   "metadata": {},
   "outputs": [
    {
     "data": {
      "image/png": "[encoded data removed]",
      "text/plain": [
       "<Figure size 432x288 with 1 Axes>"
      ]
     },
     "metadata": {
      "needs_background": "light"
     },
     "output_type": "display_data"
    }
   ],
   "source": [
    "random.seed(0)\n",
    "learning_rate = 0.001 # trial and error\n",
    "epochs = 5000\n",
    "\n",
    "\n",
    "theta  = least_squares_fit(inputs, daily_minutes_good, \n",
    "                            learning_rate, epochs, 10)"
   ]
  },
  {
   "cell_type": "code",
   "execution_count": 21,
   "metadata": {},
   "outputs": [
    {
     "data": {
      "text/plain": [
       "[30.58711136356187, 1.0162876413707889, -1.83040502450729, 0.9263104115029371]"
      ]
     },
     "execution_count": 21,
     "metadata": {},
     "output_type": "execute_result"
    }
   ],
   "source": [
    "# minutes= 30.58 + 0.972 friends -1.87 work hours + 0.923 phd\n",
    "\n",
    "assert 30.50 < theta[0] < 30.70\n",
    "assert 0.96 < theta[1] < 1.1 \n",
    "assert -1.89 < theta[2] < -1.80\n",
    "assert 0.91 < theta[3] < 0.94\n",
    "theta"
   ]
  }
 ],
 "metadata": {
  "jupytext": {
   "formats": "ipynb,py:light"
  },
  "kernelspec": {
   "display_name": "Python 3",
   "language": "python",
   "name": "python3"
  },
  "language_info": {
   "codemirror_mode": {
    "name": "ipython",
    "version": 3
   },
   "file_extension": ".py",
   "mimetype": "text/x-python",
   "name": "python",
   "nbconvert_exporter": "python",
   "pygments_lexer": "ipython3",
   "version": "3.7.3"
  }
 },
 "nbformat": 4,
 "nbformat_minor": 4
}
