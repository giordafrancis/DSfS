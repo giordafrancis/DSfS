{
 "cells": [
  {
   "cell_type": "markdown",
   "metadata": {},
   "source": [
    "My attempt to implment logictic regression from scracth. data is from master machine learnng algorithms. "
   ]
  },
  {
   "cell_type": "code",
   "execution_count": 79,
   "metadata": {},
   "outputs": [],
   "source": [
    "data =[\n",
    "[2.7810836, 2.550537003, 0],\n",
    "[1.465489372, 2.362125076, 0],\n",
    "[3.396561688, 4.400293529, 0],\n",
    "[1.38807019, 1.850220317,0],\n",
    "[3.06407232, 3.005305973, 0],\n",
    "[7.627531214, 2.759262235, 1],\n",
    "[5.332441248, 2.088626775, 1],\n",
    "[6.922596716, 1.77106367, 1],\n",
    "[8.675418651, -0.242068655, 1],\n",
    "[7.673756466, 3.508563011, 1]]"
   ]
  },
  {
   "cell_type": "code",
   "execution_count": 80,
   "metadata": {},
   "outputs": [],
   "source": [
    "from gradient_descent_ols import Vector, add, plot_loss\n",
    "from Multivariate_linear_regression import chunks, vector_mean, scalar_multiply, predict_point,add_intercept_vectors\n",
    "import math\n",
    "import random\n",
    "from typing import List"
   ]
  },
  {
   "cell_type": "code",
   "execution_count": 81,
   "metadata": {},
   "outputs": [],
   "source": [
    "def logit(z: float) -> float:\n",
    "    return 1 / (1 + math.exp(-z))\n",
    "\n",
    "assert 0 < logit(-5.4) < 0.01"
   ]
  },
  {
   "cell_type": "code",
   "execution_count": 82,
   "metadata": {},
   "outputs": [],
   "source": [
    "def predict_point_logit(x: Vector, theta: Vector) -> float:\n",
    "    return logit(predict_point(x, theta))\n",
    "\n",
    "def error_point(x: Vector, y: float, theta: Vector) -> float:\n",
    "    \"\"\" Calculates the prediction error at point x\"\"\"\n",
    "    return predict_point_logit(x, theta) - y\n",
    "    \n",
    "def gradient(x: List[Vector], y: float, theta: Vector) -> List:\n",
    "    \"\"\"Calculates the gradient update for 1 point for theta \"\"\"\n",
    "    return scalar_multiply(error_point(x, y, theta), x)\n",
    "\n",
    "def evaluate_gradient(data: List[List[Vector]], theta: Vector) -> float:\n",
    "    \"\"\"evaluates gradient for provided data structure \n",
    "    [[x_0, x_1,.., x_i],[x_0, x_1,.., x_i]] -> [y_1,y_2]\"\"\"\n",
    "    return vector_mean([gradient(x, y, theta) for x, y in data]) \n",
    "    \n",
    "def gradient_step(gradient: Vector, alpha: float) -> Vector:\n",
    "    \"\"\" takes one gradient step\"\"\"\n",
    "    return scalar_multiply(alpha, gradient)\n",
    "\n",
    "def theta_update(theta: Vector, gradient: Vector , alpha: float) -> Vector:\n",
    "    return add(theta, gradient_step(gradient, -alpha))"
   ]
  },
  {
   "cell_type": "code",
   "execution_count": 83,
   "metadata": {},
   "outputs": [],
   "source": [
    "def _point_loss_function_logistic(y_hat:float, y: float) -> float:\n",
    "    \"\"\"for one point calculate the loss\"\"\"\n",
    "    return y * math.log(y_hat) + (1 - y) * (math.log(1 - y_hat))\n",
    "\n",
    "def loss_function_logistic(y_hats: Vector, ys: Vector) -> float:\n",
    "    \"\"\"for a pair of y_hat and y vectors calculate  the loss value\"\"\"\n",
    "    assert len(y_hats) == len(ys)\n",
    "    m = len(y_hats)\n",
    "    return (-1/ m ) * sum( _point_loss_function_logistic(y_hat, y)\n",
    "                         for y_hat, y in zip(y_hats, ys))"
   ]
  },
  {
   "cell_type": "code",
   "execution_count": 84,
   "metadata": {},
   "outputs": [],
   "source": [
    "xs = [vector[:-1] for vector in data]\n",
    "ys = [vector[-1] for vector in data]"
   ]
  },
  {
   "cell_type": "code",
   "execution_count": 85,
   "metadata": {},
   "outputs": [
    {
     "data": {
      "text/plain": [
       "[[[1, 3.06407232, 3.005305973], 0], [[1, 5.332441248, 2.088626775], 1]]"
      ]
     },
     "execution_count": 85,
     "metadata": {},
     "output_type": "execute_result"
    }
   ],
   "source": [
    "data_copy = [[x, y] for x, y in zip(add_intercept_vectors(xs), ys)]\n",
    "data_copy\n",
    "chunk = list(chunks(data_copy, 2))[-1]\n",
    "chunk"
   ]
  },
  {
   "cell_type": "code",
   "execution_count": 86,
   "metadata": {},
   "outputs": [
    {
     "data": {
      "text/plain": [
       "[0.46484984569463583, 1.3716534649614682, 1.4183047654517755]"
      ]
     },
     "execution_count": 86,
     "metadata": {},
     "output_type": "execute_result"
    }
   ],
   "source": [
    "grad = evaluate_gradient(chunk, [0.4, 0.1, 1])\n",
    "grad"
   ]
  },
  {
   "cell_type": "code",
   "execution_count": 87,
   "metadata": {},
   "outputs": [],
   "source": [
    "def negative_log_fit(xs: List[float] , ys: List[float], \n",
    "                       alpha: float,  epochs: int = 1000, \n",
    "                       batch_size: int = 10) -> Vector:\n",
    "    \"\"\"\n",
    "    Find the theta that minimizes the loss function\n",
    "    \"\"\"      \n",
    "    n = len(xs[0])                              # number of features\n",
    "    theta = [random.random() for _ in range(n)] # initial random guess for theta\n",
    "                                                # number trainning examples\n",
    "    loss = []                                   # to plot the avg. loss per epoch\n",
    "    \n",
    "    data = [[x, y] for x, y in zip(xs, ys)]     # zip data structure \n",
    "    for epoch in range(epochs):\n",
    "        chunks_loss = []                                # for avg. loss\n",
    "        for chunk in chunks(data, batch_size):\n",
    "            grad = evaluate_gradient(chunk, theta)               # evaluate the gradient    \n",
    "            theta = theta_update(theta, grad, alpha)             # update theta \n",
    "            y_hats = [predict_point_logit(x, theta) for x in xs]\n",
    "            loss_per_chunk = loss_function_logistic(y_hats, ys)  # loss per chunk iter\n",
    "            chunks_loss.append(loss_per_chunk)                          \n",
    "        average_epoch_loss = sum(chunks_loss) / len(chunks_loss)       \n",
    "        loss.append((epoch, average_epoch_loss))                # plot the avg per epoch\n",
    "    plot_loss(loss)\n",
    "    return theta"
   ]
  },
  {
   "cell_type": "code",
   "execution_count": 88,
   "metadata": {},
   "outputs": [
    {
     "data": {
      "image/png": "[encoded data removed]",
      "text/plain": [
       "<Figure size 432x288 with 1 Axes>"
      ]
     },
     "metadata": {
      "needs_background": "light"
     },
     "output_type": "display_data"
    }
   ],
   "source": [
    "theta  = negative_log_fit(add_intercept_vectors(xs), ys, 0.1, 1000, 5)"
   ]
  },
  {
   "cell_type": "code",
   "execution_count": 89,
   "metadata": {},
   "outputs": [
    {
     "data": {
      "text/plain": [
       "[(0.019137096796483254, 0),\n",
       " (0.001354332652129273, 0),\n",
       " (6.183395459300739e-05, 0),\n",
       " (0.008413369426560362, 0),\n",
       " (0.006628752675126651, 0),\n",
       " (0.9995963049991338, 1),\n",
       " (0.9892507136388534, 1),\n",
       " (0.999950433036449, 1),\n",
       " (0.9999999998245226, 1),\n",
       " (0.9930104691952216, 1)]"
      ]
     },
     "execution_count": 89,
     "metadata": {},
     "output_type": "execute_result"
    }
   ],
   "source": [
    "y_hats = [predict_point_logit(x, theta) for x in add_intercept_vectors(xs)]\n",
    "[(yhat, y) for yhat, y in zip(y_hats, ys)]"
   ]
  },
  {
   "cell_type": "code",
   "execution_count": 90,
   "metadata": {},
   "outputs": [],
   "source": [
    "from log_regression_data import rescaled_xs, ys"
   ]
  },
  {
   "cell_type": "code",
   "execution_count": 91,
   "metadata": {},
   "outputs": [
    {
     "data": {
      "text/plain": [
       "[[1.0, -1.5094614661118109, -1.2035820048365877],\n",
       " [1.0, -1.0880203866948324, -1.2035820048365877]]"
      ]
     },
     "execution_count": 91,
     "metadata": {},
     "output_type": "execute_result"
    }
   ],
   "source": [
    "rescaled_xs[:2]"
   ]
  },
  {
   "cell_type": "code",
   "execution_count": 92,
   "metadata": {},
   "outputs": [
    {
     "data": {
      "image/png": "[encoded data removed]",
      "text/plain": [
       "<Figure size 432x288 with 1 Axes>"
      ]
     },
     "metadata": {
      "needs_background": "light"
     },
     "output_type": "display_data"
    }
   ],
   "source": [
    "theta  = negative_log_fit(rescaled_xs, ys, 0.01, 1000, 5)"
   ]
  },
  {
   "cell_type": "code",
   "execution_count": 93,
   "metadata": {},
   "outputs": [
    {
     "data": {
      "text/plain": [
       "[-2.0316163480738965, 4.306518671661927, -4.184318748168664]"
      ]
     },
     "execution_count": 93,
     "metadata": {},
     "output_type": "execute_result"
    }
   ],
   "source": [
    "theta"
   ]
  },
  {
   "cell_type": "code",
   "execution_count": 94,
   "metadata": {},
   "outputs": [
    {
     "data": {
      "text/plain": [
       "[(0.02942712596154923, 1),\n",
       " (0.156959695644949, 0),\n",
       " (0.01789246565382585, 1),\n",
       " (0.09603374119986174, 0),\n",
       " (0.04649686211359515, 0),\n",
       " (0.4062876189399303, 0),\n",
       " (0.32036867496911237, 0),\n",
       " (0.044092416752292446, 0),\n",
       " (0.3052689144016113, 1),\n",
       " (0.758387163992181, 1),\n",
       " (0.11939681901137641, 0),\n",
       " (0.006280294172631896, 0),\n",
       " (0.9021295267904771, 1),\n",
       " (0.05368140823395663, 0),\n",
       " (0.048527496453833384, 0),\n",
       " (0.0665349611272837, 0),\n",
       " (0.04504790965675245, 0),\n",
       " (0.08742229742431153, 0),\n",
       " (0.0055040865225074054, 0),\n",
       " (0.3550458269783451, 0),\n",
       " (0.015583620634376873, 0),\n",
       " (0.7474965303864026, 1),\n",
       " (0.012943278302229116, 0),\n",
       " (0.09477047417981038, 0),\n",
       " (0.14184407337973345, 1),\n",
       " (0.7924867228505579, 1),\n",
       " (0.004800059219764594, 0),\n",
       " (0.07305492503722992, 0),\n",
       " (0.963353150568117, 1),\n",
       " (0.0033502687756335574, 0),\n",
       " (0.003603757849029665, 0),\n",
       " (0.002147514917443449, 0),\n",
       " (0.04275443502813533, 1),\n",
       " (0.03406835033246139, 0),\n",
       " (0.22393316006711636, 1),\n",
       " (0.055238461411756506, 0),\n",
       " (0.7406194712101033, 1),\n",
       " (0.010398405503163524, 0),\n",
       " (0.3157108558759972, 1),\n",
       " (0.02593867464470187, 0),\n",
       " (0.23637860950843123, 0),\n",
       " (0.06751050468916552, 0),\n",
       " (0.02942712596154923, 0),\n",
       " (0.2452961230367233, 0),\n",
       " (0.5142029020523063, 1),\n",
       " (0.5985271041641939, 1),\n",
       " (0.6807972315890668, 1),\n",
       " (0.24241940842254076, 0),\n",
       " (0.0009763647779710853, 0),\n",
       " (0.30921468996279816, 1),\n",
       " (0.06751050468916552, 0),\n",
       " (0.9690149966157169, 1),\n",
       " (0.5617054585140302, 0),\n",
       " (0.17058377241967443, 0),\n",
       " (0.1064122214191946, 0),\n",
       " (0.008603806513047329, 0),\n",
       " (0.759277199298663, 1),\n",
       " (0.02214559099020624, 0),\n",
       " (0.00902138905878041, 0),\n",
       " (0.011822236888314231, 0),\n",
       " (0.3815996368869362, 0),\n",
       " (0.77359960630222, 1),\n",
       " (0.029735366539376692, 0),\n",
       " (0.03296258448104565, 0),\n",
       " (0.9741964050976176, 1),\n",
       " (0.06545166738603446, 0),\n",
       " (0.43793079827195047, 0),\n",
       " (0.780695959802905, 1),\n",
       " (0.7376111951852207, 1),\n",
       " (0.33498482333486823, 1),\n",
       " (0.0010617561900900132, 0),\n",
       " (0.9695668005760042, 1),\n",
       " (0.9693357816929149, 1),\n",
       " (0.0016477297584061616, 0),\n",
       " (0.24313643102490282, 0),\n",
       " (0.26475634764333345, 0),\n",
       " (0.06362611412834393, 0),\n",
       " (0.036048646673479026, 0),\n",
       " (0.01194834152904955, 0),\n",
       " (0.003998719620818891, 0),\n",
       " (0.14605074662395387, 0),\n",
       " (0.5789196911526848, 1),\n",
       " (0.015870584545691152, 0),\n",
       " (0.0017015814649992483, 0),\n",
       " (0.1074375943790455, 0),\n",
       " (0.0007764534189708309, 0),\n",
       " (0.02053624942167878, 0),\n",
       " (0.662945104824836, 0),\n",
       " (0.0051676234510174435, 0),\n",
       " (0.20061815055233825, 0),\n",
       " (0.1400715739702613, 0),\n",
       " (0.5215125295875798, 0),\n",
       " (0.1918473551218944, 1),\n",
       " (0.008325381185078735, 0),\n",
       " (0.019728002872844944, 0),\n",
       " (0.156959695644949, 0),\n",
       " (0.9837983970942671, 1),\n",
       " (0.030940668971094196, 0),\n",
       " (0.014696441044841269, 0),\n",
       " (0.0013652792192819594, 0),\n",
       " (0.08390763846196797, 0),\n",
       " (0.2465641328143536, 0),\n",
       " (0.13831765387721726, 0),\n",
       " (0.2383223181451312, 0),\n",
       " (0.9999307336177741, 1),\n",
       " (0.0033146050993924344, 0),\n",
       " (0.14148691836546742, 0),\n",
       " (0.0034763783877148676, 0),\n",
       " (0.004317795958809134, 0),\n",
       " (0.260597045359539, 0),\n",
       " (0.07226650750820264, 0),\n",
       " (0.5195656610195882, 1),\n",
       " (0.00905632482239228, 0),\n",
       " (0.029820225903018815, 0),\n",
       " (0.006932981156181324, 0),\n",
       " (0.5185920001611504, 1),\n",
       " (0.07351930289337615, 0),\n",
       " (0.01475302654302286, 0),\n",
       " (0.06145256118315568, 0),\n",
       " (0.685445945099892, 1),\n",
       " (0.0036887725616108497, 0),\n",
       " (0.0674498997578656, 0),\n",
       " (0.3069257825496746, 0),\n",
       " (0.7103289748902153, 1),\n",
       " (0.9452428195184724, 1),\n",
       " (0.21196108707183423, 0),\n",
       " (0.10429730940510723, 0),\n",
       " (0.08656942096699395, 0),\n",
       " (0.016460195856173147, 0),\n",
       " (0.7881218338743344, 0),\n",
       " (0.039264464866292356, 0),\n",
       " (0.6709666452999921, 1),\n",
       " (0.24801612424376726, 0),\n",
       " (0.4233393317569079, 1),\n",
       " (0.03308713812868237, 0),\n",
       " (0.9542116445339728, 1),\n",
       " (0.010438617657950705, 0),\n",
       " (0.008763385121616837, 0),\n",
       " (0.2562966723427549, 0),\n",
       " (0.036698414111126926, 0),\n",
       " (0.00024396433432628874, 0),\n",
       " (0.1319316753021383, 0),\n",
       " (0.12409176724099547, 0),\n",
       " (0.13623619817148136, 0),\n",
       " (0.008087120030720046, 0),\n",
       " (0.008570601290405294, 0),\n",
       " (0.9674240157268998, 1),\n",
       " (0.971572778893448, 1),\n",
       " (0.3660691796184382, 0),\n",
       " (0.00043547426690734305, 0),\n",
       " (0.5796355354599854, 1),\n",
       " (0.868680964630607, 1),\n",
       " (0.505671528866319, 1),\n",
       " (0.4744674594276978, 0),\n",
       " (0.20599159407088335, 0),\n",
       " (0.2907751360597634, 0),\n",
       " (3.6645620266426314e-05, 0),\n",
       " (0.0035035070537609175, 0),\n",
       " (0.8645061609067755, 1),\n",
       " (0.010745407672714157, 0),\n",
       " (0.4360116281037405, 1),\n",
       " (0.022941288907639853, 0),\n",
       " (0.16232747923405283, 0),\n",
       " (0.7178981135798314, 0),\n",
       " (0.00819755890634378, 0),\n",
       " (0.9518982902808273, 1),\n",
       " (0.04364204334053697, 0),\n",
       " (0.00017577830010989017, 0),\n",
       " (0.0028617911592968177, 0),\n",
       " (0.41526141677761114, 0),\n",
       " (0.2492935500668345, 0),\n",
       " (0.9634905984632953, 1),\n",
       " (0.07129122774299207, 0),\n",
       " (0.05715369945823052, 0),\n",
       " (0.5489356596518836, 0),\n",
       " (0.9432917710166832, 1),\n",
       " (0.11327962056604508, 0),\n",
       " (0.04126246707079682, 0),\n",
       " (0.015992881822468673, 0),\n",
       " (0.015360644615655252, 0),\n",
       " (0.09410337633104938, 0),\n",
       " (0.03735943952455555, 0),\n",
       " (0.14327434384560772, 0),\n",
       " (0.7887724006497107, 0),\n",
       " (0.13148562888546383, 1),\n",
       " (0.015479074148562692, 0),\n",
       " (0.0018665380519906395, 0),\n",
       " (0.010912520740830057, 0),\n",
       " (0.830722420544204, 0),\n",
       " (0.04184545644379258, 0),\n",
       " (0.07901610629679227, 0),\n",
       " (0.0656315599176662, 0),\n",
       " (0.017502399195756132, 0),\n",
       " (0.5959441686387811, 1),\n",
       " (0.013966074364455247, 0),\n",
       " (0.01190238349441238, 0),\n",
       " (0.29909562068565115, 0),\n",
       " (0.03540996086388618, 0),\n",
       " (0.9721599505111221, 1),\n",
       " (0.8719847525408859, 1)]"
      ]
     },
     "execution_count": 94,
     "metadata": {},
     "output_type": "execute_result"
    }
   ],
   "source": [
    "y_hats = [predict_point_logit(x, theta) for x in rescaled_xs]\n",
    "[(yhat, y) for yhat, y in zip(y_hats, ys)]"
   ]
  },
  {
   "cell_type": "code",
   "execution_count": null,
   "metadata": {},
   "outputs": [],
   "source": []
  }
 ],
 "metadata": {
  "jupytext": {
   "formats": "ipynb,py:light"
  },
  "kernelspec": {
   "display_name": "Python 3",
   "language": "python",
   "name": "python3"
  },
  "language_info": {
   "codemirror_mode": {
    "name": "ipython",
    "version": 3
   },
   "file_extension": ".py",
   "mimetype": "text/x-python",
   "name": "python",
   "nbconvert_exporter": "python",
   "pygments_lexer": "ipython3",
   "version": "3.7.3"
  }
 },
 "nbformat": 4,
 "nbformat_minor": 4
}
