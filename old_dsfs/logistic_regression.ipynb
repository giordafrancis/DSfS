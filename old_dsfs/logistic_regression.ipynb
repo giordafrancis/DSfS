{
 "cells": [
  {
   "cell_type": "code",
   "execution_count": 1,
   "metadata": {},
   "outputs": [],
   "source": [
    "tuples = [(0.7,48000,1), (1.9,48000,0),\n",
    "          (2.5,60000,1),(4.2,63000,0),\n",
    "          (6,76000,0),(6.5,69000,0),\n",
    "          (7.5,76000,0),(8.1,88000,0),\n",
    "          (8.7,83000,1),(10,83000,1),\n",
    "          (0.8,43000,0),(1.8,60000,0),\n",
    "          (10,79000,1),(6.1,76000,0),\n",
    "          (1.4,50000,0),(9.1,92000,0),\n",
    "          (5.8,75000,0),(5.2,69000,0),\n",
    "          (1,56000,0),(6,67000,0),\n",
    "          (4.9,74000,0),(6.4,63000,1),\n",
    "          (6.2,82000,0),(3.3,58000,0),\n",
    "          (9.3,90000,1),(5.5,57000,1),\n",
    "          (9.1,102000,0),(2.4,54000,0),\n",
    "          (8.2,65000,1),(5.3,82000,0),(9.8,107000,0),(1.8,64000,0),(0.6,46000,1),\n",
    "          (0.8,48000,0),(8.6,84000,1),(0.6,45000,0),(0.5,30000,1),(7.3,89000,0),\n",
    "          (2.5,48000,1),(5.6,76000,0),(7.4,77000,0),(2.7,56000,0),(0.7,48000,0),\n",
    "          (1.2,42000,0),(0.2,32000,1),(4.7,56000,1),(2.8,44000,1),(7.6,78000,0),\n",
    "          (1.1,63000,0),(8,79000,1),(2.7,56000,0),(6,52000,1),(4.6,56000,0),\n",
    "          (2.5,51000,0),(5.7,71000,0),(2.9,65000,0),(1.1,33000,1),(3,62000,0),\n",
    "          (4,71000,0),(2.4,61000,0),(7.5,75000,0),(9.7,81000,1),(3.2,62000,0),\n",
    "          (7.9,88000,0),(4.7,44000,1),(2.5,55000,0),(1.6,41000,0),(6.7,64000,1),\n",
    "          (6.9,66000,1),(7.9,78000,1),(8.1,102000,0),(5.3,48000,1),(8.5,66000,1),\n",
    "          (0.2,56000,0),(6,69000,0),(7.5,77000,0),(8,86000,0),(4.4,68000,0),\n",
    "          (4.9,75000,0),(1.5,60000,0),(2.2,50000,0),(3.4,49000,1),(4.2,70000,0),\n",
    "          (7.7,98000,0),(8.2,85000,0),(5.4,88000,0),(0.1,46000,0),(1.5,37000,0),\n",
    "          (6.3,86000,0),(3.7,57000,0),(8.4,85000,0),(2,42000,0),(5.8,69000,1),\n",
    "          (2.7,64000,0),(3.1,63000,0),(1.9,48000,0),(10,72000,1),(0.2,45000,0),\n",
    "          (8.6,95000,0),(1.5,64000,0),(9.8,95000,0),(5.3,65000,0),(7.5,80000,0),\n",
    "          (9.9,91000,0),(9.7,50000,1),(2.8,68000,0),(3.6,58000,0),(3.9,74000,0),\n",
    "          (4.4,76000,0),(2.5,49000,0),(7.2,81000,0),(5.2,60000,1),(2.4,62000,0),(8.9,94000,0),(2.4,63000,0),(6.8,69000,1),(6.5,77000,0),(7,86000,0),(9.4,94000,0),(7.8,72000,1),(0.2,53000,0),(10,97000,0),(5.5,65000,0),(7.7,71000,1),(8.1,66000,1),(9.8,91000,0),(8,84000,0),(2.7,55000,0),(2.8,62000,0),(9.4,79000,0),(2.5,57000,0),(7.4,70000,1),(2.1,47000,0),(5.3,62000,1),(6.3,79000,0),(6.8,58000,1),(5.7,80000,0),(2.2,61000,0),(4.8,62000,0),(3.7,64000,0),(4.1,85000,0),(2.3,51000,0),(3.5,58000,0),(0.9,43000,0),(0.9,54000,0),(4.5,74000,0),(6.5,55000,1),(4.1,41000,1),(7.1,73000,0),(1.1,66000,0),(9.1,81000,1),(8,69000,1),(7.3,72000,1),(3.3,50000,0),(3.9,58000,0),(2.6,49000,0),(1.6,78000,0),(0.7,56000,0),(2.1,36000,1),(7.5,90000,0),(4.8,59000,1),(8.9,95000,0),(6.2,72000,0),(6.3,63000,0),(9.1,100000,0),(7.3,61000,1),(5.6,74000,0),(0.5,66000,0),(1.1,59000,0),(5.1,61000,0),(6.2,70000,0),(6.6,56000,1),(6.3,76000,0),(6.5,78000,0),(5.1,59000,0),(9.5,74000,1),(4.5,64000,0),(2,54000,0),(1,52000,0),(4,69000,0),(6.5,76000,0),(3,60000,0),(4.5,63000,0),(7.8,70000,0),(3.9,60000,1),(0.8,51000,0),(4.2,78000,0),(1.1,54000,0),(6.2,60000,0),(2.9,59000,0),(2.1,52000,0),(8.2,87000,0),(4.8,73000,0),(2.2,42000,1),(9.1,98000,0),(6.5,84000,0),(6.9,73000,0),(5.1,72000,0),(9.1,69000,1),(9.8,79000,1),]"
   ]
  },
  {
   "cell_type": "code",
   "execution_count": 11,
   "metadata": {},
   "outputs": [
    {
     "data": {
      "text/plain": [
       "(0.7, 48000, 1)"
      ]
     },
     "execution_count": 11,
     "metadata": {},
     "output_type": "execute_result"
    }
   ],
   "source": [
    "# tuples example\n",
    "(0.7, # years experience\n",
    " 48000, # salary\n",
    " 1 )# with premium account"
   ]
  },
  {
   "cell_type": "code",
   "execution_count": 26,
   "metadata": {},
   "outputs": [],
   "source": [
    "# lets mutate the data to the format we require\n",
    "data = [list(row) for row in tuples]\n",
    "xs = [[1.0] + row[:2] for row in data]\n",
    "ys = [row[2] for row in data]\n",
    "salary = [x[2] for x in xs]\n",
    "years = [x[1] for x in xs]\n",
    "premium = [\".\" if y else \"+\" for y in ys]"
   ]
  },
  {
   "cell_type": "code",
   "execution_count": 29,
   "metadata": {},
   "outputs": [
    {
     "data": {
      "image/png": "[encoded data removed]",
      "text/plain": [
       "<Figure size 432x288 with 1 Axes>"
      ]
     },
     "metadata": {
      "needs_background": "light"
     },
     "output_type": "display_data"
    }
   ],
   "source": [
    "from matplotlib import pyplot as plt\n",
    "\n",
    "plt.scatter(years, salary);"
   ]
  },
  {
   "cell_type": "code",
   "execution_count": 31,
   "metadata": {},
   "outputs": [
    {
     "ename": "AssertionError",
     "evalue": "",
     "output_type": "error",
     "traceback": [
      "\u001b[1;31m-----------------------------------------------------------\u001b[0m",
      "\u001b[1;31mAssertionError\u001b[0m            Traceback (most recent call last)",
      "\u001b[1;32m<ipython-input-31-48d55637a7de>\u001b[0m in \u001b[0;36m<module>\u001b[1;34m\u001b[0m\n\u001b[0;32m      1\u001b[0m \u001b[1;31m# lets attempt to model the problem with linear regression\u001b[0m\u001b[1;33m\u001b[0m\u001b[1;33m\u001b[0m\u001b[1;33m\u001b[0m\u001b[0m\n\u001b[0;32m      2\u001b[0m \u001b[1;33m\u001b[0m\u001b[0m\n\u001b[1;32m----> 3\u001b[1;33m \u001b[1;32mfrom\u001b[0m \u001b[0mscratch\u001b[0m\u001b[1;33m.\u001b[0m\u001b[0mworking_with_data\u001b[0m \u001b[1;32mimport\u001b[0m \u001b[0mrescale\u001b[0m\u001b[1;33m\u001b[0m\u001b[1;33m\u001b[0m\u001b[0m\n\u001b[0m\u001b[0;32m      4\u001b[0m \u001b[1;32mfrom\u001b[0m \u001b[0mscratch\u001b[0m\u001b[1;33m.\u001b[0m\u001b[0mmultiple_linear_regression\u001b[0m \u001b[1;32mimport\u001b[0m \u001b[0mleast_squares_fit\u001b[0m\u001b[1;33m,\u001b[0m \u001b[0mpredict\u001b[0m\u001b[1;33m\u001b[0m\u001b[1;33m\u001b[0m\u001b[0m\n\u001b[0;32m      5\u001b[0m \u001b[1;32mfrom\u001b[0m \u001b[0mscratch\u001b[0m\u001b[1;33m.\u001b[0m\u001b[0mgradient_descent\u001b[0m \u001b[1;32mimport\u001b[0m \u001b[0mgradient_step\u001b[0m\u001b[1;33m\u001b[0m\u001b[1;33m\u001b[0m\u001b[0m\n",
      "\u001b[1;32m~\\DataAnalyst\\Python\\DSfS\\scratch\\working_with_data.py\u001b[0m in \u001b[0;36m<module>\u001b[1;34m\u001b[0m\n\u001b[0;32m     47\u001b[0m \u001b[1;33m\u001b[0m\u001b[0m\n\u001b[0;32m     48\u001b[0m \u001b[1;32massert\u001b[0m \u001b[1;36m0.89\u001b[0m \u001b[1;33m<\u001b[0m \u001b[0mcorrelation\u001b[0m\u001b[1;33m(\u001b[0m\u001b[0mxs\u001b[0m\u001b[1;33m,\u001b[0m \u001b[0mys1\u001b[0m\u001b[1;33m)\u001b[0m \u001b[1;33m<\u001b[0m \u001b[1;36m0.91\u001b[0m\u001b[1;33m\u001b[0m\u001b[1;33m\u001b[0m\u001b[0m\n\u001b[1;32m---> 49\u001b[1;33m \u001b[1;32massert\u001b[0m \u001b[1;33m-\u001b[0m\u001b[1;36m0.91\u001b[0m \u001b[1;33m<\u001b[0m \u001b[0mcorrelation\u001b[0m\u001b[1;33m(\u001b[0m\u001b[0mxs\u001b[0m\u001b[1;33m,\u001b[0m \u001b[0mys2\u001b[0m\u001b[1;33m)\u001b[0m \u001b[1;33m<\u001b[0m \u001b[1;33m-\u001b[0m\u001b[1;36m0.89\u001b[0m\u001b[1;33m\u001b[0m\u001b[1;33m\u001b[0m\u001b[0m\n\u001b[0m\u001b[0;32m     50\u001b[0m \u001b[1;33m\u001b[0m\u001b[0m\n\u001b[0;32m     51\u001b[0m \u001b[1;32mfrom\u001b[0m \u001b[0mscratch\u001b[0m\u001b[1;33m.\u001b[0m\u001b[0mlinear_algebra\u001b[0m \u001b[1;32mimport\u001b[0m \u001b[0mMatrix\u001b[0m\u001b[1;33m,\u001b[0m \u001b[0mVector\u001b[0m\u001b[1;33m,\u001b[0m \u001b[0mmake_matrix\u001b[0m\u001b[1;33m\u001b[0m\u001b[1;33m\u001b[0m\u001b[0m\n",
      "\u001b[1;31mAssertionError\u001b[0m: "
     ]
    },
    {
     "data": {
      "image/png": "[encoded data removed]",
      "text/plain": [
       "<Figure size 432x288 with 1 Axes>"
      ]
     },
     "metadata": {
      "needs_background": "light"
     },
     "output_type": "display_data"
    }
   ],
   "source": [
    "# lets attempt to model the problem with linear regression\n",
    "\n",
    "from scratch.working_with_data import rescale\n",
    "from scratch.multiple_linear_regression import least_squares_fit, predict\n",
    "from scratch.gradient_descent import gradient_step"
   ]
  },
  {
   "cell_type": "code",
   "execution_count": 8,
   "metadata": {},
   "outputs": [
    {
     "ename": "NameError",
     "evalue": "name 'rescale' is not defined",
     "output_type": "error",
     "traceback": [
      "\u001b[1;31m-----------------------------------------------------------\u001b[0m",
      "\u001b[1;31mNameError\u001b[0m                 Traceback (most recent call last)",
      "\u001b[1;32m<ipython-input-8-b1b3cca8daa6>\u001b[0m in \u001b[0;36m<module>\u001b[1;34m\u001b[0m\n\u001b[0;32m      1\u001b[0m \u001b[0mlearning_rate\u001b[0m \u001b[1;33m=\u001b[0m \u001b[1;36m0.001\u001b[0m\u001b[1;33m\u001b[0m\u001b[1;33m\u001b[0m\u001b[0m\n\u001b[1;32m----> 2\u001b[1;33m \u001b[0mrescaled_xs\u001b[0m \u001b[1;33m=\u001b[0m \u001b[0mrescale\u001b[0m\u001b[1;33m(\u001b[0m\u001b[0mxs\u001b[0m\u001b[1;33m)\u001b[0m\u001b[1;33m\u001b[0m\u001b[1;33m\u001b[0m\u001b[0m\n\u001b[0m\u001b[0;32m      3\u001b[0m \u001b[0mtheta\u001b[0m \u001b[1;33m=\u001b[0m \u001b[0mleast_squares_fit\u001b[0m\u001b[1;33m(\u001b[0m\u001b[0mrescaled_xs\u001b[0m\u001b[1;33m,\u001b[0m \u001b[0mys\u001b[0m\u001b[1;33m,\u001b[0m \u001b[0mlearning_rate\u001b[0m\u001b[1;33m,\u001b[0m \u001b[1;36m1000\u001b[0m\u001b[1;33m,\u001b[0m \u001b[1;36m1\u001b[0m\u001b[1;33m)\u001b[0m\u001b[1;33m\u001b[0m\u001b[1;33m\u001b[0m\u001b[0m\n",
      "\u001b[1;31mNameError\u001b[0m: name 'rescale' is not defined"
     ]
    }
   ],
   "source": [
    "learning_rate = 0.001\n",
    "rescaled_xs = rescale(xs)\n",
    "theta = least_squares_fit(rescaled_xs, ys, learning_rate, 1000, 1)"
   ]
  },
  {
   "cell_type": "code",
   "execution_count": null,
   "metadata": {},
   "outputs": [],
   "source": [
    "ys"
   ]
  },
  {
   "cell_type": "code",
   "execution_count": null,
   "metadata": {},
   "outputs": [],
   "source": [
    "theta"
   ]
  },
  {
   "cell_type": "code",
   "execution_count": null,
   "metadata": {},
   "outputs": [],
   "source": [
    "predictions = [predict(x_i, theta) for x_i in rescaled_xs]\n",
    "predictions[:10]"
   ]
  },
  {
   "cell_type": "code",
   "execution_count": null,
   "metadata": {},
   "outputs": [],
   "source": [
    "plt.scatter(predictions, ys)\n",
    "plt.xlabel(\"predicted\")\n",
    "plt.ylabel(\"actual\");"
   ]
  },
  {
   "cell_type": "markdown",
   "metadata": {},
   "source": [
    "This approach leads to a couple of immediate problems:\n",
    "\n",
    "- We’d like for our predicted outputs to be 0 or 1, to indicate class membership. It’s fine  if  they’re  between  0  and  1,  since  we  can  interpret  these  as  probabilities\n",
    "- an output of 0.25 could mean 25% chance of being a paid member. But the outputsof  the  linear  model  can  be  huge  positive  numbers  or  even  negative  numbers,which  it’s  not  clear  how  to  interpret.  Indeed,  here  a  lot  of  our  predictions  were negative.\n",
    "- The  linear  regression  model  assumed  that  the  errors  were  uncorrelated  with  thecolumns of x. But here, the regression coefficent for experience is 0.43, indicat‐ing that more experience leads to a greater likelihood of a premium account. This means  that  our  model  outputs  very  large  values  for  people  with  lots  of  experi‐ence.  But  we  know  that  the  actual  values  must  be  at  most  1,  which  means  thatnecessarily  very  large  outputs  (and  therefore  very  large  values  of  experience)correspond  to  very  large  negative  values  of  the  error  term.  Because  this  is  thecase, our estimate of beta is biased"
   ]
  },
  {
   "cell_type": "markdown",
   "metadata": {},
   "source": [
    "#### The logistic(sigmoid) function"
   ]
  },
  {
   "cell_type": "code",
   "execution_count": null,
   "metadata": {},
   "outputs": [],
   "source": [
    "import math"
   ]
  },
  {
   "cell_type": "code",
   "execution_count": null,
   "metadata": {},
   "outputs": [],
   "source": [
    "def logistic(x: float) -> float:\n",
    "    return 1.0/ (1 + math.exp(-x))\n",
    "\n",
    "# a convenient property to be used later\n",
    "\n",
    "def logistic_prime(x: float) -> float:\n",
    "    y = logistic(x)\n",
    "    return y * (1 - y)\n"
   ]
  },
  {
   "cell_type": "code",
   "execution_count": null,
   "metadata": {},
   "outputs": [],
   "source": [
    "from linear_algebra import Vector, dot\n",
    "\n",
    "def _negative_log_likelihood(x: Vector, y: float, theta: Vector) -> float:\n",
    "    \"\"\"The negative log likelihood for one data point\"\"\"\n",
    "    if y==1:\n",
    "        return -math.log(logistic(dot(x, theta)))\n",
    "    else:\n",
    "        return -math.log(1 - logistic(dot(x, theta)))\n",
    "\n",
    "\n"
   ]
  },
  {
   "cell_type": "markdown",
   "metadata": {},
   "source": [
    "if we assume different data points are independent from one another the overall likelihood is just the product of the individual likehoods (naive bayes?)\n",
    "\n",
    "That means overall likehood is the sum of the individual log likelihoods. \n",
    "\n"
   ]
  },
  {
   "cell_type": "code",
   "execution_count": null,
   "metadata": {},
   "outputs": [],
   "source": [
    "from typing import List"
   ]
  },
  {
   "cell_type": "code",
   "execution_count": null,
   "metadata": {},
   "outputs": [],
   "source": [
    "def negative_log_likelihood(xs: List[Vector], ys: List[float], theta: Vector) -> float:\n",
    "    \"\"\"\n",
    "    the loss function for logistic regression\n",
    "    \"\"\"\n",
    "    return sum(_negative_log_likelihood(x, y, theta) \n",
    "               for x, y in zip(xs, ys))\n",
    "\n",
    "# now the gradient \n",
    "\n",
    "from linear_algebra import vector_sum\n",
    "\n",
    "def _negative_log_partial_j(x: Vector, y: float, theta: Vector, j: int) -> float:\n",
    "    \"\"\"\n",
    "    The jth partial derivative for one data point.\n",
    "    Here i is the index of the data point\n",
    "    \"\"\"\n",
    "    return -(y - logistic(dot(x, theta))) * x[j]\n",
    "\n",
    "def _negative_log_gradient(x: Vector, y: float, theta: Vector) -> Vector:\n",
    "    \"\"\"\n",
    "    The gradient for one data point\n",
    "    \"\"\"\n",
    "    return [_negative_log_partial_j(x, y, theta, j) for j in range(len(theta))]\n",
    "\n",
    "def negative_log_gradient(xs: List[Vector], ys: List[float], theta: Vector) -> Vector:\n",
    "    return vector_sum([_negative_log_gradient(x, y, theta) for x, y in zip(xs, ys)])"
   ]
  },
  {
   "cell_type": "code",
   "execution_count": null,
   "metadata": {},
   "outputs": [],
   "source": [
    "from machine_learning import train_test_split\n",
    "import random\n",
    "random.seed(0)"
   ]
  },
  {
   "cell_type": "code",
   "execution_count": null,
   "metadata": {},
   "outputs": [],
   "source": [
    "x_train, x_test, y_train, y_test = train_test_split(rescaled_xs, ys, 0.33)\n",
    "\n",
    "learning_rate = 0.01\n",
    "\n",
    "# start with a random guess for theta\n",
    "\n",
    "theta = [random.random() for _ in range(3)]\n",
    "\n",
    "for epoch in range(5000):\n",
    "    gradient = negative_log_gradient(x_train, y_train, theta)\n",
    "    theta = gradient_step(theta, gradient, -learning_rate)\n",
    "    loss = negative_log_likelihood(x_train, y_train, theta)\n",
    "    print(f\"epoch {epoch}; loss {loss:.3f}\")"
   ]
  },
  {
   "cell_type": "code",
   "execution_count": null,
   "metadata": {},
   "outputs": [],
   "source": []
  },
  {
   "cell_type": "code",
   "execution_count": null,
   "metadata": {},
   "outputs": [],
   "source": [
    "theta"
   ]
  },
  {
   "cell_type": "code",
   "execution_count": null,
   "metadata": {},
   "outputs": [],
   "source": [
    "# transform back to the original data\n",
    "\n",
    "from working_with_data import scale\n",
    "\n",
    "means, stdevs = scale(xs)\n",
    "theta_unscaled = [(theta[0] - theta[1] * means[1] / stdevs[1]\n",
    "                  - theta[2] * means[2] / stdevs[2]), \n",
    "                  theta[1] / stdevs[1], theta[2]/ stdevs[2] ]\n"
   ]
  },
  {
   "cell_type": "code",
   "execution_count": null,
   "metadata": {},
   "outputs": [],
   "source": [
    "theta_unscaled\n",
    "# not easy to interpret as linear regression, all else equal, an extra year experience adds 1.6 to the input of logistic\n",
    "# all else equal an extra $10,000 of salary substracts -2.88 from the input of logistic"
   ]
  },
  {
   "cell_type": "code",
   "execution_count": null,
   "metadata": {
    "lines_to_next_cell": 2
   },
   "outputs": [],
   "source": [
    "# lets use the test data and assume paid account whenever probability exceeds 0.5\n",
    "\n",
    "tp = fp = fn = tn = 0\n",
    "\n",
    "for x_i, y_i in zip(x_test, y_test):\n",
    "    prediction = logistic(dot(theta, x_i))\n",
    "    if y_i == 1 and prediction >= 0.5: # tp: paid and predicted paid\n",
    "        tp += 1\n",
    "    elif y_i == 1:                     # fn: paid and predicted unpaid\n",
    "        fn += 1\n",
    "    elif prediction >= 0.5:            # fp: unpaid and we predict paid\n",
    "        fp += 1\n",
    "    else:\n",
    "        tn += 1                        # tn: unpaid and predicted unpaid"
   ]
  },
  {
   "cell_type": "code",
   "execution_count": null,
   "metadata": {},
   "outputs": [],
   "source": [
    "precision = tp / (tp + fp)\n",
    "recal = tp/ (tp + fn)\n",
    "\n",
    "precision, recal\n",
    "# precision when we predicted paid account we were right 75% of times\n",
    "# recall: when a user has a paid account 80% of the time we were right. "
   ]
  },
  {
   "cell_type": "code",
   "execution_count": null,
   "metadata": {},
   "outputs": [],
   "source": [
    "predictions = [logistic(dot(theta, x_i)) for x_i in x_test]\n",
    "plt.scatter(predictions, y_test, marker= '+')\n",
    "plt.xlabel(\"predicted probability\")\n",
    "plt.ylabel(\"actual outcome\")\n",
    "plt.title(\"Logistic regression Predicted vs. Actual\")"
   ]
  },
  {
   "cell_type": "markdown",
   "metadata": {},
   "source": [
    "Small dive into support vector machines, hyperplanes and kernel trick but not implemented as not suitable for a from scratch routine. "
   ]
  },
  {
   "cell_type": "code",
   "execution_count": null,
   "metadata": {},
   "outputs": [],
   "source": []
  }
 ],
 "metadata": {
  "jupytext": {
   "encoding": "# -*- coding: utf-8 -*-",
   "formats": "ipynb,py:light"
  },
  "kernelspec": {
   "display_name": "Python 3",
   "language": "python",
   "name": "python3"
  },
  "language_info": {
   "codemirror_mode": {
    "name": "ipython",
    "version": 3
   },
   "file_extension": ".py",
   "mimetype": "text/x-python",
   "name": "python",
   "nbconvert_exporter": "python",
   "pygments_lexer": "ipython3",
   "version": "3.9.2"
  }
 },
 "nbformat": 4,
 "nbformat_minor": 4
}
