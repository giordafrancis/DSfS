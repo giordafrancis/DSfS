{
 "cells": [
  {
   "cell_type": "markdown",
   "metadata": {},
   "source": [
    "### Classification and regression Trees"
   ]
  },
  {
   "cell_type": "markdown",
   "metadata": {},
   "source": [
    "Classi\f",
    "cation and Regression Trees or CART for short is a term introduced by Leo Breiman\n",
    "to refer to Decision Tree algorithms that can be used for classi\f",
    "cation or regression predictive\n",
    "modeling problems."
   ]
  },
  {
   "cell_type": "markdown",
   "metadata": {},
   "source": [
    "The representation for the CART model is a binary tree. This is your binary tree from algorithms\n",
    "and data structures, nothing too fancy. Each node represents a single input variable (x) and\n",
    "a split point on that variable (assuming the variable is numeric). The leaf nodes of the tree contain an output variable (y) which is used to make a prediction.\n",
    "\n"
   ]
  },
  {
   "cell_type": "markdown",
   "metadata": {},
   "source": [
    "Creating a binary decision tree is actually a process of dividing up the input space. A greedy\n",
    "approach is used to divide the space called recursive binary splitting. This is a numerical\n",
    "procedure where all the values are lined up and di\u000b",
    "erent split points are tried and tested using\n",
    "a cost function. The split with the best cost (lowest cost because we minimize cost) is selected."
   ]
  },
  {
   "cell_type": "markdown",
   "metadata": {},
   "source": [
    "For regression predictive modeling problems\n",
    "the cost function that is minimized to choose spit points is the sum squared error across all\n",
    "training samples that fall within the rectangle. For classi\f",
    "cation the Gini cost function is used which provides an indication of how\n",
    "pure the leaf nodes are (how mixed the training data assigned to each node is).\n",
    "\n",
    "**A node that has all classes of the same type (perfect class purity)\n",
    "will have G = 0, where as a G that has a 50-50 split of classes for a binary classi\f",
    "cation problem\n",
    "(worst purity) will have a G = 0.5.**\n",
    "\n",
    "17.2) \n",
    "\n",
    "The recursive binary splitting procedure described above needs to know when to stop splitting\n",
    "as it works its way down the tree with the training data. The most common stopping procedure\n",
    "is to use a minimum count on the number of training instances assigned to each leaf node. If\n",
    "the count is less than some minimum then the split is not accepted and the node is taken as a\n",
    "\f",
    "nal leaf node. The count of training members is tuned to the dataset, e.g. 5 or 10.\n",
    " \n",
    "### Pruning the tree\n",
    " \n",
    " The stopping criterion is important as it strongly in\n",
    "uences the performance of your tree. You\n",
    "can use pruning after learning your tree to further lift performance. The complexity of a decision\n",
    "tree is de\f",
    "ned as the number of splits in the tree. Simpler trees are preferred. They are easy to\n",
    "understand (you can print them out and show them to subject matter experts), and they are\n",
    "less likely to over\f",
    "t your data.\n",
    "\n",
    "### Preparing Data For CART\n",
    "\n",
    "CART does not require any special data preparation other than a good representation of the\n",
    "problem.\n",
    "\n",
    "In this chapter you will discover how to implement\n",
    "the CART machine learning algorithm from scratch step-by-step. After completing this chapter\n",
    "you will know:\n",
    "\n",
    "- How to calculate the Gini index for a given split in a decision tree.\n",
    "- How to evaluate di\u000b",
    "erent split points when constructing a decision tree.\n",
    "- How to make predictions on new data with a learned decision tree.\n",
    "\n",
    "### Tutorial Dataset\n",
    "\n",
    "In this tutorial we will work through a simple binary (two-class) classi\f",
    "cation problem for\n",
    "CART. To keep things simple we will work with a two input variables (X1 and X2) and a single\n",
    "output variable (Y ). This is not a real problem but a contrived problem to demonstrate how\n",
    "to implement the CART model and make predictions. The example was designed so that the\n",
    "algorithm will find at least two split points in order to best classify the training dataset. The\n",
    "raw data for this problem is as follows:\n"
   ]
  },
  {
   "cell_type": "code",
   "execution_count": 111,
   "metadata": {},
   "outputs": [],
   "source": [
    "from io import StringIO\n",
    "import pandas as pd\n",
    "import numpy as np"
   ]
  },
  {
   "cell_type": "code",
   "execution_count": 112,
   "metadata": {},
   "outputs": [],
   "source": [
    "dataset = StringIO(\"\"\"X1 X2 Y\n",
    "2.771244718 1.784783929 0\n",
    "1.728571309 1.169761413 0\n",
    "3.678319846 2.81281357 0\n",
    "3.961043357 2.61995032 0\n",
    "2.999208922 2.209014212 0\n",
    "7.497545867 3.162953546 1\n",
    "9.00220326 3.339047188 1\n",
    "7.444542326 0.476683375 1\n",
    "10.12493903 3.234550982 1\n",
    "6.642287351 3.319983761 1\n",
    "\"\"\")"
   ]
  },
  {
   "cell_type": "code",
   "execution_count": 113,
   "metadata": {},
   "outputs": [
    {
     "data": {
      "text/html": [
       "<div>\n",
       "<style scoped>\n",
       "    .dataframe tbody tr th:only-of-type {\n",
       "        vertical-align: middle;\n",
       "    }\n",
       "\n",
       "    .dataframe tbody tr th {\n",
       "        vertical-align: top;\n",
       "    }\n",
       "\n",
       "    .dataframe thead th {\n",
       "        text-align: right;\n",
       "    }\n",
       "</style>\n",
       "<table border=\"1\" class=\"dataframe\">\n",
       "  <thead>\n",
       "    <tr style=\"text-align: right;\">\n",
       "      <th></th>\n",
       "      <th>X1</th>\n",
       "      <th>X2</th>\n",
       "      <th>Y</th>\n",
       "    </tr>\n",
       "  </thead>\n",
       "  <tbody>\n",
       "    <tr>\n",
       "      <th>0</th>\n",
       "      <td>2.771245</td>\n",
       "      <td>1.784784</td>\n",
       "      <td>0</td>\n",
       "    </tr>\n",
       "    <tr>\n",
       "      <th>1</th>\n",
       "      <td>1.728571</td>\n",
       "      <td>1.169761</td>\n",
       "      <td>0</td>\n",
       "    </tr>\n",
       "    <tr>\n",
       "      <th>2</th>\n",
       "      <td>3.678320</td>\n",
       "      <td>2.812814</td>\n",
       "      <td>0</td>\n",
       "    </tr>\n",
       "    <tr>\n",
       "      <th>3</th>\n",
       "      <td>3.961043</td>\n",
       "      <td>2.619950</td>\n",
       "      <td>0</td>\n",
       "    </tr>\n",
       "    <tr>\n",
       "      <th>4</th>\n",
       "      <td>2.999209</td>\n",
       "      <td>2.209014</td>\n",
       "      <td>0</td>\n",
       "    </tr>\n",
       "    <tr>\n",
       "      <th>5</th>\n",
       "      <td>7.497546</td>\n",
       "      <td>3.162954</td>\n",
       "      <td>1</td>\n",
       "    </tr>\n",
       "    <tr>\n",
       "      <th>6</th>\n",
       "      <td>9.002203</td>\n",
       "      <td>3.339047</td>\n",
       "      <td>1</td>\n",
       "    </tr>\n",
       "    <tr>\n",
       "      <th>7</th>\n",
       "      <td>7.444542</td>\n",
       "      <td>0.476683</td>\n",
       "      <td>1</td>\n",
       "    </tr>\n",
       "    <tr>\n",
       "      <th>8</th>\n",
       "      <td>10.124939</td>\n",
       "      <td>3.234551</td>\n",
       "      <td>1</td>\n",
       "    </tr>\n",
       "    <tr>\n",
       "      <th>9</th>\n",
       "      <td>6.642287</td>\n",
       "      <td>3.319984</td>\n",
       "      <td>1</td>\n",
       "    </tr>\n",
       "  </tbody>\n",
       "</table>\n",
       "</div>"
      ],
      "text/plain": [
       "          X1        X2  Y\n",
       "0   2.771245  1.784784  0\n",
       "1   1.728571  1.169761  0\n",
       "2   3.678320  2.812814  0\n",
       "3   3.961043  2.619950  0\n",
       "4   2.999209  2.209014  0\n",
       "5   7.497546  3.162954  1\n",
       "6   9.002203  3.339047  1\n",
       "7   7.444542  0.476683  1\n",
       "8  10.124939  3.234551  1\n",
       "9   6.642287  3.319984  1"
      ]
     },
     "execution_count": 113,
     "metadata": {},
     "output_type": "execute_result"
    }
   ],
   "source": [
    "dataset = pd.read_csv(dataset, sep=\" \")\n",
    "dataset"
   ]
  },
  {
   "cell_type": "markdown",
   "metadata": {},
   "source": [
    "### Learning the CART Model\n",
    "\n",
    "The CART model is learned by looking for split points in the data. A split point is a single\n",
    "value of a single attribute, e.g. the \f",
    "rst value of the X1 attribute 2.771244718. Partitioning\n",
    "data at a split point involves separating all data at that node into two groups, left of the split\n",
    "point and right of the split point. If we are working on the \f",
    "rst split point in the tree, then all\n",
    "of the dataset is a\u000b",
    "ected. If we are working on say a split point one level deep, then only the\n",
    "data that has \f",
    "ltered down the tree from nodes above and is sitting at that node is a\u000b",
    "ected by\n",
    "the split point.\n",
    "\n",
    "We are not concerned with what the class value is of the chosen split point. We only care\n",
    "about the composition of the data assigned to the LEFT and to the RIGHT child nodes of the\n",
    "split point. A cost function is used to evaluate the mix of classes of training data assigned to\n",
    "each side of the split. In classi\f",
    "cation problems the Gini index cost function is used.\n",
    "\n",
    "**For each class (k), for each group (left and right). Where p is the proportion of training\n",
    "instances with a given class in a given group. We will always have two groups, a left and right\n",
    "group because we are using a binary tree**. And we know from our dataset that we only have\n",
    "two classes. Therefore we can calculate the Gini index of any split point in our dataset as the\n",
    "sum of:\n",
    "\n",
    "Gini(split) = (left(0) x (1 - left(0))) + (right(0) x (1 - right(0))+\n",
    "(left(1) X (1 - left(1))) + (right(1) x (1 - right(1))"
   ]
  },
  {
   "cell_type": "code",
   "execution_count": 114,
   "metadata": {},
   "outputs": [
    {
     "data": {
      "text/html": [
       "<div>\n",
       "<style scoped>\n",
       "    .dataframe tbody tr th:only-of-type {\n",
       "        vertical-align: middle;\n",
       "    }\n",
       "\n",
       "    .dataframe tbody tr th {\n",
       "        vertical-align: top;\n",
       "    }\n",
       "\n",
       "    .dataframe thead th {\n",
       "        text-align: right;\n",
       "    }\n",
       "</style>\n",
       "<table border=\"1\" class=\"dataframe\">\n",
       "  <thead>\n",
       "    <tr style=\"text-align: right;\">\n",
       "      <th></th>\n",
       "      <th>X1</th>\n",
       "      <th>Y</th>\n",
       "      <th>Group</th>\n",
       "    </tr>\n",
       "  </thead>\n",
       "  <tbody>\n",
       "    <tr>\n",
       "      <th>0</th>\n",
       "      <td>2.771245</td>\n",
       "      <td>0</td>\n",
       "      <td>RIGHT</td>\n",
       "    </tr>\n",
       "    <tr>\n",
       "      <th>1</th>\n",
       "      <td>1.728571</td>\n",
       "      <td>0</td>\n",
       "      <td>LEFT</td>\n",
       "    </tr>\n",
       "    <tr>\n",
       "      <th>2</th>\n",
       "      <td>3.678320</td>\n",
       "      <td>0</td>\n",
       "      <td>RIGHT</td>\n",
       "    </tr>\n",
       "    <tr>\n",
       "      <th>3</th>\n",
       "      <td>3.961043</td>\n",
       "      <td>0</td>\n",
       "      <td>RIGHT</td>\n",
       "    </tr>\n",
       "    <tr>\n",
       "      <th>4</th>\n",
       "      <td>2.999209</td>\n",
       "      <td>0</td>\n",
       "      <td>RIGHT</td>\n",
       "    </tr>\n",
       "    <tr>\n",
       "      <th>5</th>\n",
       "      <td>7.497546</td>\n",
       "      <td>1</td>\n",
       "      <td>RIGHT</td>\n",
       "    </tr>\n",
       "    <tr>\n",
       "      <th>6</th>\n",
       "      <td>9.002203</td>\n",
       "      <td>1</td>\n",
       "      <td>RIGHT</td>\n",
       "    </tr>\n",
       "    <tr>\n",
       "      <th>7</th>\n",
       "      <td>7.444542</td>\n",
       "      <td>1</td>\n",
       "      <td>RIGHT</td>\n",
       "    </tr>\n",
       "    <tr>\n",
       "      <th>8</th>\n",
       "      <td>10.124939</td>\n",
       "      <td>1</td>\n",
       "      <td>RIGHT</td>\n",
       "    </tr>\n",
       "    <tr>\n",
       "      <th>9</th>\n",
       "      <td>6.642287</td>\n",
       "      <td>1</td>\n",
       "      <td>RIGHT</td>\n",
       "    </tr>\n",
       "  </tbody>\n",
       "</table>\n",
       "</div>"
      ],
      "text/plain": [
       "          X1  Y  Group\n",
       "0   2.771245  0  RIGHT\n",
       "1   1.728571  0   LEFT\n",
       "2   3.678320  0  RIGHT\n",
       "3   3.961043  0  RIGHT\n",
       "4   2.999209  0  RIGHT\n",
       "5   7.497546  1  RIGHT\n",
       "6   9.002203  1  RIGHT\n",
       "7   7.444542  1  RIGHT\n",
       "8  10.124939  1  RIGHT\n",
       "9   6.642287  1  RIGHT"
      ]
     },
     "execution_count": 114,
     "metadata": {},
     "output_type": "execute_result"
    }
   ],
   "source": [
    "gini = StringIO(\"\"\"X1 Y Group\n",
    "2.771244718 0 RIGHT\n",
    "1.728571309 0 LEFT\n",
    "3.678319846 0 RIGHT\n",
    "3.961043357 0 RIGHT\n",
    "2.999208922 0 RIGHT\n",
    "7.497545867 1 RIGHT\n",
    "9.00220326 1 RIGHT\n",
    "7.444542326 1 RIGHT\n",
    "10.12493903 1 RIGHT\n",
    "6.642287351 1 RIGHT\n",
    "\"\"\")\n",
    "df_gini = pd.read_csv(gini, sep=\" \")\n",
    "df_gini\n"
   ]
  },
  {
   "cell_type": "markdown",
   "metadata": {},
   "source": [
    "### First Candidate Split Point\n",
    "\n",
    "The fist step is to choose a split that will become the stump or root node of our decision tree.\n",
    "We will start with the first candidate split point which is the X1 attribute and the value of X1\n",
    "in the first instance: X1 = 2:771244718.\n",
    "\n",
    "- IF X1 < 2.771244718 THEN LEFT\n",
    "- IF X1 >= 2.771244718 THEN RIGHT\n",
    "\n",
    "How good was this split? We can evaluate the mixture of the classes in each of the LEFT\n",
    "and RIGHT nodes as a single cost of choosing this split point for our root node. The LEFT\n",
    "group only has one member, where as the RIGHT group has 9 members. Starting with the\n",
    "LEFT group, we can calculate the proportion of training instances that have each class:"
   ]
  },
  {
   "cell_type": "code",
   "execution_count": 115,
   "metadata": {},
   "outputs": [],
   "source": [
    "# set the conditions to calculate the proportions of which group\n",
    "zeros = df_gini.Y.eq(0)\n",
    "ones = df_gini.Y.eq(1)\n",
    "left = df_gini.Group.eq('LEFT')\n",
    "right = df_gini.Group.eq('RIGHT')"
   ]
  },
  {
   "cell_type": "code",
   "execution_count": 116,
   "metadata": {},
   "outputs": [
    {
     "data": {
      "text/plain": [
       "(1.0, 0.0)"
      ]
     },
     "execution_count": 116,
     "metadata": {},
     "output_type": "execute_result"
    }
   ],
   "source": [
    "# starting with the left group\n",
    "total_left = left.sum()\n",
    "left_0 = np.sum(left & zeros) / total_left\n",
    "left_1 = np.sum(left & ones) / total_left\n",
    "left_0, left_1"
   ]
  },
  {
   "cell_type": "code",
   "execution_count": 117,
   "metadata": {},
   "outputs": [
    {
     "data": {
      "text/plain": [
       "(0.4444444444444444, 0.5555555555555556)"
      ]
     },
     "execution_count": 117,
     "metadata": {},
     "output_type": "execute_result"
    }
   ],
   "source": [
    "# now with the right group \n",
    "total_right = right.sum()\n",
    "right_0 = np.sum(right & zeros) / total_right\n",
    "right_1 = np.sum(right & ones) / total_right\n",
    "right_0, right_1"
   ]
  },
  {
   "cell_type": "markdown",
   "metadata": {},
   "source": [
    "We have now enough information to calculate the gini index for this split. Remembering the below:\n",
    "\n",
    "Gini(split) = (left(0) x (1 - left(0))) + (right(0) x (1 - right(0))+\n",
    "(left(1) X (1 - left(1))) + (right(1) x (1 - right(1))"
   ]
  },
  {
   "cell_type": "code",
   "execution_count": 118,
   "metadata": {},
   "outputs": [
    {
     "data": {
      "text/plain": [
       "0.49382716049382713"
      ]
     },
     "execution_count": 118,
     "metadata": {},
     "output_type": "execute_result"
    }
   ],
   "source": [
    "# X1 = 2.7712, as a bad gini index\n",
    "gini = left_0 * (1 - left_0) + right_0 * (1- right_0) + (left_1* (1- left_1)) + (right_1 * (1- right_1))\n",
    "gini"
   ]
  },
  {
   "cell_type": "markdown",
   "metadata": {},
   "source": [
    "Creating a function to resolve the gini score for this dataset based on any split point for X1"
   ]
  },
  {
   "cell_type": "code",
   "execution_count": 119,
   "metadata": {},
   "outputs": [],
   "source": [
    "from typing import Tuple\n",
    "\n",
    "def _class_proportions(df, group:str) -> Tuple[float, float]:\n",
    "    \"\"\"Based on the requested group provided returns the class proportions\n",
    "    left and right\"\"\"\n",
    "    \n",
    "    # set the conditions to calculate the proportions of which group\n",
    "    zeros = df.Y.eq(0)\n",
    "    ones = df.Y.eq(1)\n",
    "    group = df.group.eq(group)\n",
    "    \n",
    "    # now for the group\n",
    "    total_group = group.sum()\n",
    "    group_0 = np.sum(group & zeros) / total_group\n",
    "    group_1 = np.sum(group & ones) / total_group\n",
    "    \n",
    "    return group_0, group_1\n",
    "    \n",
    "def gini_score(df, split:float)-> float:\n",
    "    \"\"\"Calculates gini score for dataset \n",
    "    with one feature X1 based on split point provided\"\"\"\n",
    "    df_gini = df.copy()\n",
    "    # define LEFT and RIGHT groups\n",
    "    df_gini.loc[df_gini['X1'] < split, 'group'] = 'LEFT'\n",
    "    df_gini.loc[df_gini['X1'] >= split, 'group'] = 'RIGHT'\n",
    "    \n",
    "    # calculate class proportions for each group\n",
    "    left_0, left_1 = _class_proportions(df_gini, \"LEFT\")\n",
    "    right_0, right_1 = _class_proportions(df_gini, \"RIGHT\")\n",
    "    \n",
    "    return left_0 * (1 - left_0) + right_0 * (1- right_0) + (left_1* (1- left_1)) + (right_1 * (1- right_1))\n"
   ]
  },
  {
   "cell_type": "code",
   "execution_count": 120,
   "metadata": {},
   "outputs": [
    {
     "data": {
      "text/html": [
       "<div>\n",
       "<style scoped>\n",
       "    .dataframe tbody tr th:only-of-type {\n",
       "        vertical-align: middle;\n",
       "    }\n",
       "\n",
       "    .dataframe tbody tr th {\n",
       "        vertical-align: top;\n",
       "    }\n",
       "\n",
       "    .dataframe thead th {\n",
       "        text-align: right;\n",
       "    }\n",
       "</style>\n",
       "<table border=\"1\" class=\"dataframe\">\n",
       "  <thead>\n",
       "    <tr style=\"text-align: right;\">\n",
       "      <th></th>\n",
       "      <th>X1</th>\n",
       "      <th>X2</th>\n",
       "      <th>Y</th>\n",
       "    </tr>\n",
       "  </thead>\n",
       "  <tbody>\n",
       "    <tr>\n",
       "      <th>0</th>\n",
       "      <td>2.771245</td>\n",
       "      <td>1.784784</td>\n",
       "      <td>0</td>\n",
       "    </tr>\n",
       "    <tr>\n",
       "      <th>1</th>\n",
       "      <td>1.728571</td>\n",
       "      <td>1.169761</td>\n",
       "      <td>0</td>\n",
       "    </tr>\n",
       "    <tr>\n",
       "      <th>2</th>\n",
       "      <td>3.678320</td>\n",
       "      <td>2.812814</td>\n",
       "      <td>0</td>\n",
       "    </tr>\n",
       "    <tr>\n",
       "      <th>3</th>\n",
       "      <td>3.961043</td>\n",
       "      <td>2.619950</td>\n",
       "      <td>0</td>\n",
       "    </tr>\n",
       "    <tr>\n",
       "      <th>4</th>\n",
       "      <td>2.999209</td>\n",
       "      <td>2.209014</td>\n",
       "      <td>0</td>\n",
       "    </tr>\n",
       "    <tr>\n",
       "      <th>5</th>\n",
       "      <td>7.497546</td>\n",
       "      <td>3.162954</td>\n",
       "      <td>1</td>\n",
       "    </tr>\n",
       "    <tr>\n",
       "      <th>6</th>\n",
       "      <td>9.002203</td>\n",
       "      <td>3.339047</td>\n",
       "      <td>1</td>\n",
       "    </tr>\n",
       "    <tr>\n",
       "      <th>7</th>\n",
       "      <td>7.444542</td>\n",
       "      <td>0.476683</td>\n",
       "      <td>1</td>\n",
       "    </tr>\n",
       "    <tr>\n",
       "      <th>8</th>\n",
       "      <td>10.124939</td>\n",
       "      <td>3.234551</td>\n",
       "      <td>1</td>\n",
       "    </tr>\n",
       "    <tr>\n",
       "      <th>9</th>\n",
       "      <td>6.642287</td>\n",
       "      <td>3.319984</td>\n",
       "      <td>1</td>\n",
       "    </tr>\n",
       "  </tbody>\n",
       "</table>\n",
       "</div>"
      ],
      "text/plain": [
       "          X1        X2  Y\n",
       "0   2.771245  1.784784  0\n",
       "1   1.728571  1.169761  0\n",
       "2   3.678320  2.812814  0\n",
       "3   3.961043  2.619950  0\n",
       "4   2.999209  2.209014  0\n",
       "5   7.497546  3.162954  1\n",
       "6   9.002203  3.339047  1\n",
       "7   7.444542  0.476683  1\n",
       "8  10.124939  3.234551  1\n",
       "9   6.642287  3.319984  1"
      ]
     },
     "execution_count": 120,
     "metadata": {},
     "output_type": "execute_result"
    }
   ],
   "source": [
    "dataset"
   ]
  },
  {
   "cell_type": "code",
   "execution_count": 121,
   "metadata": {},
   "outputs": [],
   "source": [
    "# same score 0.49382716049382713\n",
    "split = 2.771244718\n",
    "assert 0.49 < gini_score(dataset, split) < 0.50"
   ]
  },
  {
   "cell_type": "markdown",
   "metadata": {},
   "source": [
    "#### Best Candidate Split Point\n",
    "\n",
    "We can evaluate each candidate split point using the process above with the values from X1\n",
    "and X2. If we look at the graph of the data, we can see that we can probably draw a vertical\n",
    "line to separate the classes. This would translate to a split point for X1 with a value around\n",
    "0.5. A close fit would be the value for X1 in the last instance: X1 = 6.642287351.\n"
   ]
  },
  {
   "cell_type": "code",
   "execution_count": 125,
   "metadata": {},
   "outputs": [
    {
     "data": {
      "image/png": "[encoded data removed]",
      "text/plain": [
       "<Figure size 432x288 with 1 Axes>"
      ]
     },
     "metadata": {
      "needs_background": "light"
     },
     "output_type": "display_data"
    }
   ],
   "source": [
    "%matplotlib inline\n",
    "import matplotlib.pyplot as plt\n",
    "\n",
    "colors = {0:'red', 1:'blue'}\n",
    "dataset.plot(x = 'X1', y='X2', c= dataset.Y.map(colors), kind= 'scatter');"
   ]
  },
  {
   "cell_type": "code",
   "execution_count": 140,
   "metadata": {},
   "outputs": [],
   "source": [
    "# perfect split\n",
    "split = 6.642287351\n",
    "assert gini_score(dataset, split) == 0"
   ]
  },
  {
   "cell_type": "code",
   "execution_count": 141,
   "metadata": {},
   "outputs": [],
   "source": [
    "def cart_classifier(series, split:float):\n",
    "    \"\"\"based on split point returns a series of predictions\"\"\"\n",
    "    return pd.Series(series >= split).astype(int)"
   ]
  },
  {
   "cell_type": "code",
   "execution_count": 142,
   "metadata": {},
   "outputs": [],
   "source": [
    "dataset['predictions'] = cart_classifier(dataset['X1'], split)"
   ]
  },
  {
   "cell_type": "code",
   "execution_count": 139,
   "metadata": {},
   "outputs": [
    {
     "data": {
      "text/html": [
       "<div>\n",
       "<style scoped>\n",
       "    .dataframe tbody tr th:only-of-type {\n",
       "        vertical-align: middle;\n",
       "    }\n",
       "\n",
       "    .dataframe tbody tr th {\n",
       "        vertical-align: top;\n",
       "    }\n",
       "\n",
       "    .dataframe thead th {\n",
       "        text-align: right;\n",
       "    }\n",
       "</style>\n",
       "<table border=\"1\" class=\"dataframe\">\n",
       "  <thead>\n",
       "    <tr style=\"text-align: right;\">\n",
       "      <th></th>\n",
       "      <th>X1</th>\n",
       "      <th>X2</th>\n",
       "      <th>Y</th>\n",
       "      <th>predictions</th>\n",
       "    </tr>\n",
       "  </thead>\n",
       "  <tbody>\n",
       "    <tr>\n",
       "      <th>0</th>\n",
       "      <td>2.771245</td>\n",
       "      <td>1.784784</td>\n",
       "      <td>0</td>\n",
       "      <td>0</td>\n",
       "    </tr>\n",
       "    <tr>\n",
       "      <th>1</th>\n",
       "      <td>1.728571</td>\n",
       "      <td>1.169761</td>\n",
       "      <td>0</td>\n",
       "      <td>0</td>\n",
       "    </tr>\n",
       "    <tr>\n",
       "      <th>2</th>\n",
       "      <td>3.678320</td>\n",
       "      <td>2.812814</td>\n",
       "      <td>0</td>\n",
       "      <td>0</td>\n",
       "    </tr>\n",
       "    <tr>\n",
       "      <th>3</th>\n",
       "      <td>3.961043</td>\n",
       "      <td>2.619950</td>\n",
       "      <td>0</td>\n",
       "      <td>0</td>\n",
       "    </tr>\n",
       "    <tr>\n",
       "      <th>4</th>\n",
       "      <td>2.999209</td>\n",
       "      <td>2.209014</td>\n",
       "      <td>0</td>\n",
       "      <td>0</td>\n",
       "    </tr>\n",
       "    <tr>\n",
       "      <th>5</th>\n",
       "      <td>7.497546</td>\n",
       "      <td>3.162954</td>\n",
       "      <td>1</td>\n",
       "      <td>1</td>\n",
       "    </tr>\n",
       "    <tr>\n",
       "      <th>6</th>\n",
       "      <td>9.002203</td>\n",
       "      <td>3.339047</td>\n",
       "      <td>1</td>\n",
       "      <td>1</td>\n",
       "    </tr>\n",
       "    <tr>\n",
       "      <th>7</th>\n",
       "      <td>7.444542</td>\n",
       "      <td>0.476683</td>\n",
       "      <td>1</td>\n",
       "      <td>1</td>\n",
       "    </tr>\n",
       "    <tr>\n",
       "      <th>8</th>\n",
       "      <td>10.124939</td>\n",
       "      <td>3.234551</td>\n",
       "      <td>1</td>\n",
       "      <td>1</td>\n",
       "    </tr>\n",
       "    <tr>\n",
       "      <th>9</th>\n",
       "      <td>6.642287</td>\n",
       "      <td>3.319984</td>\n",
       "      <td>1</td>\n",
       "      <td>1</td>\n",
       "    </tr>\n",
       "  </tbody>\n",
       "</table>\n",
       "</div>"
      ],
      "text/plain": [
       "          X1        X2  Y  predictions\n",
       "0   2.771245  1.784784  0            0\n",
       "1   1.728571  1.169761  0            0\n",
       "2   3.678320  2.812814  0            0\n",
       "3   3.961043  2.619950  0            0\n",
       "4   2.999209  2.209014  0            0\n",
       "5   7.497546  3.162954  1            1\n",
       "6   9.002203  3.339047  1            1\n",
       "7   7.444542  0.476683  1            1\n",
       "8  10.124939  3.234551  1            1\n",
       "9   6.642287  3.319984  1            1"
      ]
     },
     "execution_count": 139,
     "metadata": {},
     "output_type": "execute_result"
    }
   ],
   "source": [
    "dataset"
   ]
  },
  {
   "cell_type": "code",
   "execution_count": null,
   "metadata": {},
   "outputs": [],
   "source": []
  }
 ],
 "metadata": {
  "kernelspec": {
   "display_name": "Python 3",
   "language": "python",
   "name": "python3"
  },
  "language_info": {
   "codemirror_mode": {
    "name": "ipython",
    "version": 3
   },
   "file_extension": ".py",
   "mimetype": "text/x-python",
   "name": "python",
   "nbconvert_exporter": "python",
   "pygments_lexer": "ipython3",
   "version": "3.7.3"
  }
 },
 "nbformat": 4,
 "nbformat_minor": 4
}
