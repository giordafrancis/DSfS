{
 "cells": [
  {
   "cell_type": "code",
   "execution_count": null,
   "metadata": {},
   "outputs": [],
   "source": [
    "from linear_algebra import dot, Vector\n",
    "\n",
    "def predict(x: Vector, theta: Vector) -> float:\n",
    "    \"\"\"assumes that first element of x is 1\"\"\"\n",
    "    return dot(x, theta)\n"
   ]
  },
  {
   "cell_type": "markdown",
   "metadata": {},
   "source": [
    "Further assumptions of the Least Squares Model:\n",
    "\n",
    "- the first is that features of vector X are linearly independent;meaning there is no way to write any one as a weighted sum of some of the others. It this assumtion fails it's is impossible to correctly estimate theta\n",
    "\n",
    "- the second assumption is that the features of X are all uncorrelated with the errors E. If this fals to be the case, our estimate theta will systematiclly be incorrect\n",
    "\n",
    "pag 191 to 193 have more details on this. Also more detail in this [article](https://statisticsbyjim.com/regression/ols-linear-regression-assumptions/)"
   ]
  },
  {
   "cell_type": "markdown",
   "metadata": {},
   "source": [
    "#### Fitting the model"
   ]
  },
  {
   "cell_type": "code",
   "execution_count": null,
   "metadata": {},
   "outputs": [],
   "source": [
    "from typing import List\n",
    "from linear_algebra import Vector\n",
    "\n",
    "def error(x: Vector, y: float, theta: Vector) -> float:\n",
    "    return predict(x, theta) - y\n",
    "\n",
    "def squared_error(x: Vector, y: float, theta: Vector) -> float:\n",
    "    return error(x, y, theta) ** 2\n",
    "\n",
    "x = [1, 2, 3]\n",
    "y = 30\n",
    "theta = [4, 4, 4] # so prediction = 4 + 8 + 12 = 24\n",
    "\n",
    "assert error(x, y, theta) == -6\n",
    "assert squared_error(x, y, theta) == 36"
   ]
  },
  {
   "cell_type": "code",
   "execution_count": null,
   "metadata": {},
   "outputs": [],
   "source": [
    "def sqerror_gradient(x: Vector, y: float, theta: Vector) -> Vector:\n",
    "    err = error(x, y, theta)\n",
    "    return [2 * err * x_i for x_i in x]\n",
    "\n",
    "assert sqerror_gradient(x, y, theta) == [-12, -24, -36]"
   ]
  },
  {
   "cell_type": "markdown",
   "metadata": {},
   "source": [
    "Using gradient descent we can know compute the optimal theta. first lets write a least_squares_fit function that can work with any dataset:\n"
   ]
  },
  {
   "cell_type": "code",
   "execution_count": null,
   "metadata": {},
   "outputs": [],
   "source": [
    "import random\n",
    "from linear_algebra import vector_mean\n",
    "from gradient_descent import gradient_step"
   ]
  },
  {
   "cell_type": "code",
   "execution_count": null,
   "metadata": {},
   "outputs": [],
   "source": [
    "def least_squares_fit(xs: List[Vector], ys: List[float], learning_rate: float = 0.001, num_steps: int = 1000, batch_size: int = 1) -> Vector:\n",
    "    \"\"\"\n",
    "    Find the theta that minimizes the sum of squared errors assuming the model y = dot(x, theta)\n",
    "    \"\"\"\n",
    "    # start with a random guess\n",
    "    guess = [random.random() for _ in xs[0]]\n",
    "    for epoch in range(num_steps):\n",
    "        for start in range(0, len(xs), batch_size):\n",
    "            batch_xs = xs[start:start+batch_size]\n",
    "            batch_ys = ys[start:start+batch_size]\n",
    "\n",
    "            gradient = vector_mean([sqerror_gradient(x, y, guess)\n",
    "                                   for x, y in zip(batch_xs, batch_ys)])\n",
    "            guess = gradient_step(guess, gradient, - learning_rate)\n",
    "        print(f'epoch is {epoch}; current guess is {guess}')\n",
    "    return guess  "
   ]
  },
  {
   "cell_type": "code",
   "execution_count": null,
   "metadata": {},
   "outputs": [],
   "source": [
    "random.seed(0)\n",
    "\n",
    "learning_rate = 0.001\n",
    "\n",
    "theta = least_squares_fit(inputs, daily_minutes_good, learning_rate, 5000, 25)"
   ]
  },
  {
   "cell_type": "code",
   "execution_count": null,
   "metadata": {},
   "outputs": [],
   "source": [
    "# minutes= 30.58 + 0.972 friends -1.87 work hours + 0.923 phd\n",
    "assert 30.50 < theta[0] < 30.70\n",
    "assert 0.96 < theta[1] < 1.00 \n",
    "assert -1.89 < theta[2] < -1.85\n",
    "assert 0.91 < theta[3] < 0.94"
   ]
  },
  {
   "cell_type": "markdown",
   "metadata": {},
   "source": [
    "You should think of the coefficients of the model as representing all-else-being-equalestimates  of  the  impacts  of  each  factor.  All  else  being  equal,  each  additional  friendcorresponds to an extra minute spent on the site each day. All else being equal, eachadditional hour in a user’s workday corresponds to about two fewer minutes spent onthe  site  each  day.  All  else  being  equal,  having  a  PhD  is  associated  with  spending  an extra minute on the site each day.\n",
    "\n",
    "What this doesnt capture is interactions between features. It's possible works hours effect is sifferent with people with many friends. One way to handle this is to introduce a new variable with the product of friends and work hours. \n",
    "\n",
    "Or  it’s  possible  that  the  more  friends  you  have,  the  more  time  you  spend  on  the  siteup  to  a  point,  after  which  further  friends  cause  you  to  spend  less  time  on  the  site.(Perhaps  with  too  many  friends  the  experience  is  just  too  overwhelming?)  We  couldtry  to  capture  this  in  our  model  by  adding  another  variable  that’s  the  square  of  thenumber of friends.\n",
    "\n",
    "Once we start adding varaibles we need to worry about weather their coefficients matter. There are no limits to the numbers of products, logs, squares and high powers that can be added. "
   ]
  },
  {
   "cell_type": "markdown",
   "metadata": {},
   "source": [
    "#### Goodness of fit "
   ]
  },
  {
   "cell_type": "code",
   "execution_count": null,
   "metadata": {},
   "outputs": [],
   "source": [
    "from simple_linear_regression import total_sum_squares"
   ]
  },
  {
   "cell_type": "code",
   "execution_count": null,
   "metadata": {},
   "outputs": [],
   "source": [
    "def multiple_r_squared(xs: List[Vector], ys:Vector, theta: Vector) -> float:\n",
    "    sum_of_squared_errors = sum(error(x, y, theta) ** 2\n",
    "                                for x, y in zip(xs, ys))\n",
    "    return 1.0 - sum_of_squared_errors / total_sum_squares(ys)"
   ]
  },
  {
   "cell_type": "code",
   "execution_count": null,
   "metadata": {},
   "outputs": [],
   "source": [
    "assert 0.67 < multiple_r_squared(inputs, daily_minutes_good, theta) < 0.68"
   ]
  },
  {
   "cell_type": "markdown",
   "metadata": {},
   "source": [
    "R squared tends to increase the more varables are added to the model. Because of this, in a multiple regression, we also need to look at the standard errors ofthe  coefficients,  which  measure  how  certain  we  are  about  our  estimates  of  each  theta_i.\n",
    "The regression as a whole may fit our data very well, but if some of the independentvariables are correlated (or irrelevant), their coefficients might not mean much.The typical approach to measuring these errors starts with another assumption—that the errors **εi** are independent normal random variables with mean 0 and some shared(unknown) standard deviation σ. In that case, we (or, more likely, our statistical soft‐ware) can use some linear algebra to find the standard error of each coefficient. Thelarger it is, the less sure our model is about that coefficient. Unfortunately, we’re notset up to do that kind of linear algebra from scratch."
   ]
  },
  {
   "cell_type": "markdown",
   "metadata": {},
   "source": [
    "Digression: The bootstrap\n",
    "\n",
    "- used below as an estimate to error coeficients for features\n"
   ]
  },
  {
   "cell_type": "code",
   "execution_count": null,
   "metadata": {},
   "outputs": [],
   "source": [
    "from typing import TypeVar, Callable"
   ]
  },
  {
   "cell_type": "code",
   "execution_count": null,
   "metadata": {},
   "outputs": [],
   "source": [
    "X = TypeVar('X') # Generic type data\n",
    "Stat = TypeVar('Stat') # Generic type for 'statistic'\n",
    "\n",
    "def bootstrap_sample(data: List[X]) -> List[X]:\n",
    "    \"\"\" randomly samples len(data) elements with replacement\"\"\"\n",
    "    return [random.choice(data) for _ in data]\n",
    "\n",
    "def bootstrap_statistic(data: List[X],\n",
    "                        stats_fn: Callable[[List[X]], Stat],\n",
    "                        num_samples: int) -> List[Stat]:\n",
    "    \"\"\" evaluates stats_fn on num_samples bootstrap samples from data\"\"\"\n",
    "    return [stats_fn(bootstrap_sample(data)) for _ in range(num_samples)]"
   ]
  },
  {
   "cell_type": "code",
   "execution_count": null,
   "metadata": {},
   "outputs": [],
   "source": [
    "# 101 points very close to 100\n",
    "close_to_100 = [99.5 + random.random() for _ in range(101)]\n",
    "# 101 points, 50 near 0 , 50 near 200\n",
    "far_from_100 = ([99.5 + random.random()] + [random.random() for _ in range(50)] + [200 + random.random() for _ in range(50)])"
   ]
  },
  {
   "cell_type": "code",
   "execution_count": null,
   "metadata": {},
   "outputs": [],
   "source": [
    "from statistics import median, standard_deviation\n",
    "# both medians are very close values although distribution \n",
    "median(close_to_100), median(far_from_100)"
   ]
  },
  {
   "cell_type": "code",
   "execution_count": null,
   "metadata": {},
   "outputs": [],
   "source": [
    "# if we compute the bootstrap_statistic\n",
    "\n",
    "medians_close = bootstrap_statistic(close_to_100, median, 100)\n",
    "medians_far = bootstrap_statistic(far_from_100, median, 100)\n",
    "\n",
    "assert standard_deviation(medians_close) < 1\n",
    "assert standard_deviation(medians_far) > 90"
   ]
  },
  {
   "cell_type": "markdown",
   "metadata": {},
   "source": [
    "#### Standard Errors of regression coeficients\n",
    "\n",
    "We  can  take  the  same  approach  to  estimating  the  standard  errors  of  our  regression coefficients.  We  repeatedly  take  a  bootstrap_sample  of  our  data  and  estimate  theta based on that sample. If the coefficient corresponding to one of the independent vari‐ables (say num_friends) doesn’t vary much across samples, then we can be confident that  our  estimate  is  relatively  tight.  If  the  coefficient  varies  greatly  across  samples,then we can’t be at all confident in our estimate."
   ]
  },
  {
   "cell_type": "code",
   "execution_count": null,
   "metadata": {},
   "outputs": [],
   "source": [
    "from typing import Tuple\n",
    "import datetime"
   ]
  },
  {
   "cell_type": "code",
   "execution_count": null,
   "metadata": {},
   "outputs": [],
   "source": [
    "def estimate_sample_beta(pairs: List[Tuple[Vector, float]]):\n",
    "    x_sample = [x for x, _ in pairs]\n",
    "    y_sample = [y for _, y in pairs]\n",
    "    theta = least_squares_fit(x_sample, y_sample, learning_rate, 5000, 25)\n",
    "    print(\"bootstrap sample\", theta)\n",
    "    return theta"
   ]
  },
  {
   "cell_type": "code",
   "execution_count": null,
   "metadata": {},
   "outputs": [],
   "source": [
    "random.seed(0) \n",
    "# takes really long to run; run once saved at .py file as an instance\n",
    "#bootstrap_betas = bootstrap_statistic(list(zip(inputs, daily_minutes_good)), \n",
    "# estimate_sample_beta, 100)\n",
    "from multiple_linear_regression_data import bootstrap_betas"
   ]
  },
  {
   "cell_type": "code",
   "execution_count": 88,
   "metadata": {},
   "outputs": [],
   "source": [
    "#  now we can estimate the standard deviation of each coefficient \n",
    "bootstrap_standard_errors = [\n",
    "    standard_deviation([beta[i] for beta in bootstrap_betas])\n",
    "    for i in range(len(bootstrap_betas[0]))\n",
    "]"
   ]
  },
  {
   "cell_type": "code",
   "execution_count": 89,
   "metadata": {},
   "outputs": [
    {
     "data": {
      "text/plain": [
       "[1.2715078186272781,\n",
       " 0.10318410116073963,\n",
       " 0.15510591689663628,\n",
       " 1.2490975248051257]"
      ]
     },
     "execution_count": 89,
     "metadata": {},
     "output_type": "execute_result"
    }
   ],
   "source": [
    "bootstrap_standard_errors"
   ]
  },
  {
   "cell_type": "code",
   "execution_count": 94,
   "metadata": {},
   "outputs": [
    {
     "data": {
      "text/plain": [
       "[30.514795945185586, 0.9748274277323267, -1.8506912934343662, 0.91407780744768]"
      ]
     },
     "execution_count": 94,
     "metadata": {},
     "output_type": "execute_result"
    }
   ],
   "source": [
    "theta"
   ]
  },
  {
   "cell_type": "code",
   "execution_count": 92,
   "metadata": {},
   "outputs": [],
   "source": [
    "# now compute the p-values with the approximation to normal_cdf as it gets closer to a \n",
    "# t- distributuion for a large number of degrees of freedom ( hard to implement from scratch)\n",
    "\n",
    "from probability import normal_cdf\n",
    "# not fully undesrtood the p- value calc below. but good example of accessing \n",
    "# coeficients errors \n",
    "\n",
    "def p_value(beta_hat_j: float, sigma_hat_j: float)-> float:\n",
    "    if beta_hat_j > 0: # twice the probability an even *larger* value\n",
    "        return 2 * (1 - normal_cdf(beta_hat_j / sigma_hat_j))\n",
    "    else:# otherwise twice the probability of seeing a *smaller* value\n",
    "        return 2 * normal_cdf(beta_hat_j / sigma_hat_j)"
   ]
  },
  {
   "cell_type": "code",
   "execution_count": 120,
   "metadata": {},
   "outputs": [],
   "source": [
    "# based on my theta values and the bootstrap standard errors\n",
    "\n",
    "assert p_value(30.51, 1.27) < 0.001\n",
    "assert p_value(0.975, 0.10 ) < 0.001\n",
    "assert p_value(-1.851, 0.155) < 0.001\n",
    "assert 0.45 < p_value(0.914, 1.249) < 0.47 # phd theta_3\n",
    "\n",
    "\n"
   ]
  },
  {
   "cell_type": "markdown",
   "metadata": {},
   "source": [
    "Most coeficients have very small p-values (suggesting they are indeed non-zero). The phd coeficient is different then 0 meaning is  random rather then meaningful."
   ]
  },
  {
   "cell_type": "code",
   "execution_count": 97,
   "metadata": {},
   "outputs": [
    {
     "data": {
      "text/plain": [
       "0.4642995444053648"
      ]
     },
     "execution_count": 97,
     "metadata": {},
     "output_type": "execute_result"
    }
   ],
   "source": [
    "p_value(0.914, 1.249) "
   ]
  },
  {
   "cell_type": "markdown",
   "metadata": {},
   "source": [
    "## Regularization\n",
    "\n",
    "Regularization  is  an  approach  in  which  we  add  to  the  error  term  a  penalty  that  getslarger  as  beta  gets  larger.  We  then  minimize  the  combined  error  and  penalty.  Themore importance we place on the penalty term, the more we discourage large coeffi‐cients.For  example,  in  ridge  regression,  we  add  a  penalty  proportional  to  the  sum  of  thesquares  of  the  beta_i.  (Except  that  typically  we  don’t  penalize  beta_0,  the  constant term.)"
   ]
  },
  {
   "cell_type": "markdown",
   "metadata": {},
   "source": [
    "### Ridge regression"
   ]
  },
  {
   "cell_type": "code",
   "execution_count": null,
   "metadata": {},
   "outputs": [],
   "source": [
    "# alpha is the tuning parameter aka lambda\n",
    "\n",
    "def ridge_penalty(theta: Vector, alpha: float) -> float:\n",
    "    return alpha * dot(theta[1:], theta[1:]) # theta_0 not regularized \n",
    "\n",
    "def squared_error_ridge(x: Vector, y: float, theta: Vector, alpha: float) -> float:\n",
    "    \"\"\" estimate error plus ridge penalty on theta\"\"\"\n",
    "    return error(x, y, theta) ** 2 + ridge_penalty(theta, alpha)\n"
   ]
  },
  {
   "cell_type": "code",
   "execution_count": 103,
   "metadata": {},
   "outputs": [],
   "source": [
    "# now lets plug this to gradient descent\n",
    "\n",
    "from linear_algebra import add\n",
    "\n",
    "# different then Andrew ng overal update to theta\n",
    "def ridge_penalty_gradient(theta: Vector, alpha: float) -> Vector:\n",
    "    \"\"\" Gradient of just the ridge penalty\"\"\"\n",
    "    return [0.] + [2 * alpha * theta_j for theta_j in theta[1:]]\n",
    "\n",
    "def sqerror_ridge_gradient(x: Vector, y: float, theta: Vector, alpha: float) -> Vector:\n",
    "    \"\"\"\n",
    "    The gradient corresponding to the ith squared error term including the ridge penalty\n",
    "    \"\"\"\n",
    "    return add(sqerror_gradient(x, y, theta), ridge_penalty_gradient(theta, alpha))\n"
   ]
  },
  {
   "cell_type": "code",
   "execution_count": 109,
   "metadata": {},
   "outputs": [],
   "source": [
    "def least_squares_fit_ridge(xs: List[Vector], ys: List[float], alpha: float = 0.0, \n",
    "                            learning_rate: float = 0.001, num_steps: int = 1000, batch_size: int = 1) -> Vector:\n",
    "    \"\"\"\n",
    "    Find the theta that minimizes the sum of squared errors assuming the model y = dot(x, theta) using ridge regularization\n",
    "    \"\"\"\n",
    "    # start with a random guess\n",
    "    guess = [random.random() for _ in xs[0]]\n",
    "    for epoch in range(num_steps):\n",
    "        for start in range(0, len(xs), batch_size):\n",
    "            batch_xs = xs[start:start+batch_size]\n",
    "            batch_ys = ys[start:start+batch_size]\n",
    "\n",
    "            gradient = vector_mean([sqerror_ridge_gradient(x, y, guess, alpha)\n",
    "                                   for x, y in zip(batch_xs, batch_ys)])\n",
    "            guess = gradient_step(guess, gradient, - learning_rate)\n",
    "        #print(f'epoch is {epoch}; current guess is {guess}')\n",
    "    return guess  "
   ]
  },
  {
   "cell_type": "code",
   "execution_count": 113,
   "metadata": {},
   "outputs": [
    {
     "data": {
      "text/plain": [
       "[30.514795945185586, 0.9748274277323267, -1.8506912934343662, 0.91407780744768]"
      ]
     },
     "execution_count": 113,
     "metadata": {},
     "output_type": "execute_result"
    }
   ],
   "source": [
    "random.seed(0)\n",
    "theta_t0 = least_squares_fit_ridge(inputs, daily_minutes_good,0.0, learning_rate, 5000, 25)\n",
    "theta_t0"
   ]
  },
  {
   "cell_type": "code",
   "execution_count": 114,
   "metadata": {},
   "outputs": [
    {
     "data": {
      "text/plain": [
       "[30.80152599845916, 0.9507225777158704, -1.833142990416332, 0.5384447644638315]"
      ]
     },
     "execution_count": 114,
     "metadata": {},
     "output_type": "execute_result"
    }
   ],
   "source": [
    "# as we increase the alpha the goodness of fit gets worst but hte size of theta gets smaller\n",
    "theta_t1 = least_squares_fit_ridge(inputs, daily_minutes_good, 0.1, learning_rate, 5000, 25)\n",
    "theta_t1"
   ]
  },
  {
   "cell_type": "code",
   "execution_count": 115,
   "metadata": {},
   "outputs": [
    {
     "data": {
      "text/plain": [
       "[30.64980857808465,\n",
       " 0.8971525641581909,\n",
       " -1.6767995323859526,\n",
       " 0.10444589873012239]"
      ]
     },
     "execution_count": 115,
     "metadata": {},
     "output_type": "execute_result"
    }
   ],
   "source": [
    "# as we increase the alpha the goodness of fit gets worst but the size of theta gets smaller, parameters move towards 0\n",
    "theta_t2 = least_squares_fit_ridge(inputs, daily_minutes_good, 1, learning_rate, 5000, 25)\n",
    "theta_t2"
   ]
  },
  {
   "cell_type": "markdown",
   "metadata": {},
   "source": [
    "in particular theta_3 phd vanishes which is line line with the previous result as it wasnt significantly different from 0; p value bigger then 0.05"
   ]
  },
  {
   "cell_type": "code",
   "execution_count": 119,
   "metadata": {},
   "outputs": [
    {
     "data": {
      "text/plain": [
       "[28.30708308025664,\n",
       " 0.6726275942984854,\n",
       " -0.9045499907700505,\n",
       " -0.0052131931011540865]"
      ]
     },
     "execution_count": 119,
     "metadata": {},
     "output_type": "execute_result"
    }
   ],
   "source": [
    "theta_t3 = least_squares_fit_ridge(inputs, daily_minutes_good, 10, learning_rate, 5000, 25)\n",
    "theta_t3"
   ]
  },
  {
   "cell_type": "markdown",
   "metadata": {},
   "source": [
    "#### Lasso regression"
   ]
  },
  {
   "cell_type": "code",
   "execution_count": null,
   "metadata": {},
   "outputs": [],
   "source": [
    "# another approach is the lasso regression which uses the penalty:\n",
    "\n",
    "def lasso_penalty(theta, alpha):\n",
    "    return alpha * sum(abs(theta_i) for theta_i in theta[1:])\n",
    "    "
   ]
  },
  {
   "cell_type": "markdown",
   "metadata": {},
   "source": [
    "Whereas  the  ridge  penalty  shrank  the  coefficients  overall,  the  lasso  penalty  tends  to force  coefficients  to  be  zero,  which  makes  it  good  for  learning  sparse  models.Unfortunately,  it’s  not  amenable  to  gradient  descent,  which  means  that  we  won’t  beable to solve it from scratch"
   ]
  },
  {
   "cell_type": "code",
   "execution_count": null,
   "metadata": {},
   "outputs": [],
   "source": []
  },
  {
   "cell_type": "code",
   "execution_count": null,
   "metadata": {},
   "outputs": [],
   "source": []
  },
  {
   "cell_type": "code",
   "execution_count": null,
   "metadata": {},
   "outputs": [],
   "source": []
  }
 ],
 "metadata": {
  "kernelspec": {
   "display_name": "Python 3",
   "language": "python",
   "name": "python3"
  },
  "language_info": {
   "codemirror_mode": {
    "name": "ipython",
    "version": 3
   },
   "file_extension": ".py",
   "mimetype": "text/x-python",
   "name": "python",
   "nbconvert_exporter": "python",
   "pygments_lexer": "ipython3",
   "version": "3.7.3"
  }
 },
 "nbformat": 4,
 "nbformat_minor": 4
}
