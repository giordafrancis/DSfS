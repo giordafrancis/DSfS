{
 "cells": [
  {
   "cell_type": "markdown",
   "metadata": {},
   "source": [
    "#### stdin and stdout **Not so for me now relevant so skipped**\n",
    "\n",
    "piping data at the command line if you run Python scripts through it. "
   ]
  },
  {
   "cell_type": "code",
   "execution_count": 6,
   "metadata": {},
   "outputs": [],
   "source": [
    "import sys, re"
   ]
  },
  {
   "cell_type": "code",
   "execution_count": 7,
   "metadata": {},
   "outputs": [
    {
     "data": {
      "text/plain": [
       "'C:\\\\Users\\\\FGiordano-silva\\\\AppData\\\\Local\\\\Continuum\\\\anaconda3\\\\envs\\\\scripts\\\\lib\\\\site-packages\\\\ipykernel_launcher.py'"
      ]
     },
     "execution_count": 7,
     "metadata": {},
     "output_type": "execute_result"
    }
   ],
   "source": [
    "sys.argv[0]"
   ]
  },
  {
   "cell_type": "code",
   "execution_count": 8,
   "metadata": {},
   "outputs": [],
   "source": [
    "# sys.argv is the list of command-line arguments\n",
    "# sys.argv[0] is the name of the program itself\n",
    "# sys.argv[1] will be the regex specified at the command line\n",
    "regex = sys.argv[1]\n",
    "\n",
    "for line in sys.stdin:\n",
    "    if re.search(regex, line):\n",
    "        sys.stdout.write(line)"
   ]
  },
  {
   "cell_type": "markdown",
   "metadata": {},
   "source": [
    "#### Reading and writting files"
   ]
  },
  {
   "cell_type": "markdown",
   "metadata": {},
   "source": [
    "For example, imagine you have a file full of email addresses, one per line, and that\n",
    "you need to generate a histogram of the domains. The rules for correctly extracting\n",
    "domains are somewhat subtle (e.g., the Public Suffix List), but a good first approximation\n",
    "is to just take the parts of the email addresses that come after the @. (Which\n",
    "gives the wrong answer for email addresses like joel@mail.datasciencester.com.)"
   ]
  },
  {
   "cell_type": "code",
   "execution_count": 11,
   "metadata": {},
   "outputs": [],
   "source": [
    "def get_domain(email_address: str) -> str:\n",
    "    \"\"\"Split on '@' and return the las piece\"\"\"\n",
    "    return email_address.lower().split(\"@\")[-1]\n",
    "\n",
    "# a couple of tests\n",
    "assert get_domain(\"abola@gmail.com\") == \"gmail.com\"\n",
    "assert get_domain(\"abola@hotmail.com\") == \"hotmail.com\"\n"
   ]
  },
  {
   "cell_type": "code",
   "execution_count": 53,
   "metadata": {},
   "outputs": [],
   "source": [
    "# Just stick some data there\n",
    "with open('data/email_addresses.txt', 'w') as f:\n",
    "    f.write(\"joelgrus@gmail.com\\n\")\n",
    "    f.write(\"joel@m.datasciencester.com\\n\")\n",
    "    f.write(\"this is a fake line\\n\")\n",
    "    f.write(\"joelgrus@m.datasciencester.com\\n\")\n",
    "    f.write(\"joel@hotmail.com\\n\")\n",
    "    "
   ]
  },
  {
   "cell_type": "code",
   "execution_count": 54,
   "metadata": {},
   "outputs": [],
   "source": [
    "from collections import Counter\n",
    "\n",
    "with open('data/email_addresses.txt', 'r') as f:\n",
    "    domain_counts = Counter(get_domain(line.strip())\n",
    "                            for line in f\n",
    "                            if \"@\" in line)"
   ]
  },
  {
   "cell_type": "code",
   "execution_count": 55,
   "metadata": {},
   "outputs": [
    {
     "data": {
      "text/plain": [
       "Counter({'gmail.com': 1, 'm.datasciencester.com': 2, 'hotmail.com': 1})"
      ]
     },
     "execution_count": 55,
     "metadata": {},
     "output_type": "execute_result"
    }
   ],
   "source": [
    "domain_counts"
   ]
  },
  {
   "cell_type": "markdown",
   "metadata": {},
   "source": [
    "Delimited files"
   ]
  },
  {
   "cell_type": "code",
   "execution_count": 27,
   "metadata": {},
   "outputs": [],
   "source": [
    "import csv"
   ]
  },
  {
   "cell_type": "code",
   "execution_count": 57,
   "metadata": {},
   "outputs": [],
   "source": [
    "with open('data/colon_delimited_stock_prices.txt', 'w') as f:\n",
    "    f.write(\"\"\"date:symbol:closing_price\n",
    "6/20/2014:AAPL:90.91\n",
    "6/20/2014:MSFT:41.68\n",
    "6/20/2014:FB:64.5\n",
    "\"\"\")"
   ]
  },
  {
   "cell_type": "code",
   "execution_count": 44,
   "metadata": {},
   "outputs": [],
   "source": [
    "def process_row(closing_price:float) -> float:\n",
    "    return closing_price > 61"
   ]
  },
  {
   "cell_type": "code",
   "execution_count": 58,
   "metadata": {},
   "outputs": [
    {
     "name": "stdout",
     "output_type": "stream",
     "text": [
      "True\n",
      "False\n",
      "True\n"
     ]
    }
   ],
   "source": [
    "with open('data/colon_delimited_stock_prices.txt') as f:\n",
    "    colon_reader  = csv.DictReader(f, delimiter = \":\")\n",
    "    for dict_row in colon_reader:\n",
    "        #print(dict_row)\n",
    "        date = dict_row[\"date\"]\n",
    "        symbol = dict_row[\"symbol\"]\n",
    "        closing_price = float(dict_row[\"closing_price\"])\n",
    "        bigger_61 = process_row(closing_price)\n",
    "        print(bigger_61)\n",
    "        \n",
    "      "
   ]
  },
  {
   "cell_type": "code",
   "execution_count": 59,
   "metadata": {},
   "outputs": [],
   "source": [
    "today_prices = { 'AAPL' : 90.91, 'MSFT' : 41.68, 'FB' : 64.5 }"
   ]
  },
  {
   "cell_type": "code",
   "execution_count": 65,
   "metadata": {},
   "outputs": [],
   "source": [
    "with open(\"data/comma_delimited_stock_prices.txt\", \"w\") as f:\n",
    "    csv_writer = csv.DictWriter(f, delimiter = ',', fieldnames=[\"stock\", \"price\"])\n",
    "    csv_writer.writeheader()\n",
    "    for stock, price in today_prices.items():\n",
    "        csv_writer.writerow({\"stock\": stock, \"price\": price})"
   ]
  },
  {
   "cell_type": "markdown",
   "metadata": {},
   "source": [
    "\n",
    "#### Scrapping the web **fun but not completed now**"
   ]
  },
  {
   "cell_type": "markdown",
   "metadata": {},
   "source": [
    "Using an Unauthenticated API **same as above**\n",
    "\n",
    "- goot twitter authentication example and use of Twython API\n"
   ]
  },
  {
   "cell_type": "code",
   "execution_count": 2,
   "metadata": {},
   "outputs": [],
   "source": [
    "import requests, json"
   ]
  },
  {
   "cell_type": "code",
   "execution_count": 3,
   "metadata": {},
   "outputs": [],
   "source": [
    "github_user = \"giordafrancis\"\n",
    "endpoint = f\"https://api.github.com/users/{github_user}\""
   ]
  },
  {
   "cell_type": "code",
   "execution_count": 4,
   "metadata": {},
   "outputs": [
    {
     "data": {
      "text/plain": [
       "{'login': 'giordafrancis',\n",
       " 'id': 38807481,\n",
       " 'node_id': 'MDQ6VXNlcjM4ODA3NDgx',\n",
       " 'avatar_url': 'https://avatars2.githubusercontent.com/u/38807481?v=4',\n",
       " 'gravatar_id': '',\n",
       " 'url': 'https://api.github.com/users/giordafrancis',\n",
       " 'html_url': 'https://github.com/giordafrancis',\n",
       " 'followers_url': 'https://api.github.com/users/giordafrancis/followers',\n",
       " 'following_url': 'https://api.github.com/users/giordafrancis/following{/other_user}',\n",
       " 'gists_url': 'https://api.github.com/users/giordafrancis/gists{/gist_id}',\n",
       " 'starred_url': 'https://api.github.com/users/giordafrancis/starred{/owner}{/repo}',\n",
       " 'subscriptions_url': 'https://api.github.com/users/giordafrancis/subscriptions',\n",
       " 'organizations_url': 'https://api.github.com/users/giordafrancis/orgs',\n",
       " 'repos_url': 'https://api.github.com/users/giordafrancis/repos',\n",
       " 'events_url': 'https://api.github.com/users/giordafrancis/events{/privacy}',\n",
       " 'received_events_url': 'https://api.github.com/users/giordafrancis/received_events',\n",
       " 'type': 'User',\n",
       " 'site_admin': False,\n",
       " 'name': 'Francisco Giordano Silva',\n",
       " 'company': None,\n",
       " 'blog': '',\n",
       " 'location': None,\n",
       " 'email': None,\n",
       " 'hireable': None,\n",
       " 'bio': None,\n",
       " 'public_repos': 6,\n",
       " 'public_gists': 1,\n",
       " 'followers': 0,\n",
       " 'following': 5,\n",
       " 'created_at': '2018-04-28T08:44:28Z',\n",
       " 'updated_at': '2019-07-26T10:32:46Z'}"
      ]
     },
     "execution_count": 4,
     "metadata": {},
     "output_type": "execute_result"
    }
   ],
   "source": [
    "repos = json.loads(requests.get(endpoint).text)\n",
    "repos"
   ]
  },
  {
   "cell_type": "code",
   "execution_count": 1,
   "metadata": {},
   "outputs": [
    {
     "ename": "NameError",
     "evalue": "name 'repos' is not defined",
     "output_type": "error",
     "traceback": [
      "\u001b[1;31m---------------------------------------------------------------------------\u001b[0m",
      "\u001b[1;31mNameError\u001b[0m                                 Traceback (most recent call last)",
      "\u001b[1;32m<ipython-input-1-23ff074883ae>\u001b[0m in \u001b[0;36m<module>\u001b[1;34m\u001b[0m\n\u001b[1;32m----> 1\u001b[1;33m \u001b[0mrepos\u001b[0m\u001b[1;33m\u001b[0m\u001b[1;33m\u001b[0m\u001b[0m\n\u001b[0m",
      "\u001b[1;31mNameError\u001b[0m: name 'repos' is not defined"
     ]
    }
   ],
   "source": [
    "repos"
   ]
  },
  {
   "cell_type": "code",
   "execution_count": null,
   "metadata": {},
   "outputs": [],
   "source": []
  }
 ],
 "metadata": {
  "jupytext": {
   "formats": "ipynb,py:light"
  },
  "kernelspec": {
   "display_name": "Python 3",
   "language": "python",
   "name": "python3"
  },
  "language_info": {
   "codemirror_mode": {
    "name": "ipython",
    "version": 3
   },
   "file_extension": ".py",
   "mimetype": "text/x-python",
   "name": "python",
   "nbconvert_exporter": "python",
   "pygments_lexer": "ipython3",
   "version": "3.7.3"
  }
 },
 "nbformat": 4,
 "nbformat_minor": 4
}
