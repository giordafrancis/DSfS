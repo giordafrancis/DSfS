{
 "cells": [
  {
   "cell_type": "markdown",
   "metadata": {},
   "source": [
    "The K-Nearest Neighbors (KNN) algorithm is very simple and very effective. In this chapter\n",
    "you will discover exactly how to implement it from scratch, step-by-step. After reading this\n",
    "chapter you will know:\n",
    "\n",
    "How to calculate the Euclidean distance between real valued vectors.\n",
    "- How to calculate the Euclidean distance between real valued vectors.\n",
    "- How to use Euclidean distance and the training dataset to make predictions for new data.\n",
    "\n"
   ]
  },
  {
   "cell_type": "code",
   "execution_count": 12,
   "metadata": {},
   "outputs": [],
   "source": [
    "from linear_algebra import distance\n",
    "from io import StringIO\n",
    "\n",
    "import pandas as pd\n",
    "import numpy as np"
   ]
  },
  {
   "cell_type": "code",
   "execution_count": 13,
   "metadata": {},
   "outputs": [],
   "source": [
    "def clean_cols(cols): return cols.lower().strip() "
   ]
  },
  {
   "cell_type": "markdown",
   "metadata": {},
   "source": [
    "The problem is a binary (two-class) classification problem. This problem was contrived for this\n",
    "tutorial. The dataset contains two input variables (X1 and X1) and the class output variable\n",
    "with the values 0 and 1. The dataset contains 10 records, 5 that belong to each class."
   ]
  },
  {
   "cell_type": "code",
   "execution_count": 14,
   "metadata": {},
   "outputs": [],
   "source": [
    "dataset = StringIO(\"\"\"X1 X2 Y\n",
    "3.393533211 2.331273381 0\n",
    "3.110073483 1.781539638 0\n",
    "1.343808831 3.368360954 0\n",
    "3.582294042 4.67917911 0\n",
    "2.280362439 2.866990263 0\n",
    "7.423436942 4.696522875 1\n",
    "5.745051997 3.533989803 1\n",
    "9.172168622 2.511101045 1\n",
    "7.792783481 3.424088941 1\n",
    "7.939820817 0.791637231 1\n",
    "\"\"\")\n",
    "\n",
    "knn = pd.read_csv(dataset, sep=' ').rename(columns=clean_cols)"
   ]
  },
  {
   "cell_type": "code",
   "execution_count": 15,
   "metadata": {},
   "outputs": [
    {
     "data": {
      "text/html": [
       "<div>\n",
       "<style scoped>\n",
       "    .dataframe tbody tr th:only-of-type {\n",
       "        vertical-align: middle;\n",
       "    }\n",
       "\n",
       "    .dataframe tbody tr th {\n",
       "        vertical-align: top;\n",
       "    }\n",
       "\n",
       "    .dataframe thead th {\n",
       "        text-align: right;\n",
       "    }\n",
       "</style>\n",
       "<table border=\"1\" class=\"dataframe\">\n",
       "  <thead>\n",
       "    <tr style=\"text-align: right;\">\n",
       "      <th></th>\n",
       "      <th>x1</th>\n",
       "      <th>x2</th>\n",
       "      <th>y</th>\n",
       "    </tr>\n",
       "  </thead>\n",
       "  <tbody>\n",
       "    <tr>\n",
       "      <th>3</th>\n",
       "      <td>3.582294</td>\n",
       "      <td>4.679179</td>\n",
       "      <td>0</td>\n",
       "    </tr>\n",
       "    <tr>\n",
       "      <th>5</th>\n",
       "      <td>7.423437</td>\n",
       "      <td>4.696523</td>\n",
       "      <td>1</td>\n",
       "    </tr>\n",
       "    <tr>\n",
       "      <th>0</th>\n",
       "      <td>3.393533</td>\n",
       "      <td>2.331273</td>\n",
       "      <td>0</td>\n",
       "    </tr>\n",
       "    <tr>\n",
       "      <th>8</th>\n",
       "      <td>7.792783</td>\n",
       "      <td>3.424089</td>\n",
       "      <td>1</td>\n",
       "    </tr>\n",
       "    <tr>\n",
       "      <th>2</th>\n",
       "      <td>1.343809</td>\n",
       "      <td>3.368361</td>\n",
       "      <td>0</td>\n",
       "    </tr>\n",
       "  </tbody>\n",
       "</table>\n",
       "</div>"
      ],
      "text/plain": [
       "         x1        x2  y\n",
       "3  3.582294  4.679179  0\n",
       "5  7.423437  4.696523  1\n",
       "0  3.393533  2.331273  0\n",
       "8  7.792783  3.424089  1\n",
       "2  1.343809  3.368361  0"
      ]
     },
     "execution_count": 15,
     "metadata": {},
     "output_type": "execute_result"
    }
   ],
   "source": [
    "knn.sample(5)"
   ]
  },
  {
   "cell_type": "markdown",
   "metadata": {},
   "source": [
    "Euclidian distance is the squared root for the sum of the squared difference. \n"
   ]
  },
  {
   "cell_type": "code",
   "execution_count": 16,
   "metadata": {},
   "outputs": [],
   "source": [
    "# assuming indx 0 and 1 are vectors of knn\n",
    "a = knn.loc[0][:-1]\n",
    "b = knn.loc[1][:-1]"
   ]
  },
  {
   "cell_type": "markdown",
   "metadata": {},
   "source": [
    "The frst step is to calculate the **Euclidean distance between the new input instance and\n",
    "all instances in the training dataset**. The table below lists the distance between each training\n",
    "instance and the new data."
   ]
  },
  {
   "cell_type": "code",
   "execution_count": 17,
   "metadata": {},
   "outputs": [
    {
     "data": {
      "text/html": [
       "<div>\n",
       "<style scoped>\n",
       "    .dataframe tbody tr th:only-of-type {\n",
       "        vertical-align: middle;\n",
       "    }\n",
       "\n",
       "    .dataframe tbody tr th {\n",
       "        vertical-align: top;\n",
       "    }\n",
       "\n",
       "    .dataframe thead th {\n",
       "        text-align: right;\n",
       "    }\n",
       "</style>\n",
       "<table border=\"1\" class=\"dataframe\">\n",
       "  <thead>\n",
       "    <tr style=\"text-align: right;\">\n",
       "      <th></th>\n",
       "      <th>x1</th>\n",
       "      <th>x2</th>\n",
       "      <th>y</th>\n",
       "      <th>distance</th>\n",
       "    </tr>\n",
       "  </thead>\n",
       "  <tbody>\n",
       "    <tr>\n",
       "      <th>0</th>\n",
       "      <td>3.393533</td>\n",
       "      <td>2.331273</td>\n",
       "      <td>0</td>\n",
       "      <td>4.812567</td>\n",
       "    </tr>\n",
       "    <tr>\n",
       "      <th>1</th>\n",
       "      <td>3.110073</td>\n",
       "      <td>1.781540</td>\n",
       "      <td>0</td>\n",
       "      <td>5.229271</td>\n",
       "    </tr>\n",
       "    <tr>\n",
       "      <th>2</th>\n",
       "      <td>1.343809</td>\n",
       "      <td>3.368361</td>\n",
       "      <td>0</td>\n",
       "      <td>6.749799</td>\n",
       "    </tr>\n",
       "    <tr>\n",
       "      <th>3</th>\n",
       "      <td>3.582294</td>\n",
       "      <td>4.679179</td>\n",
       "      <td>0</td>\n",
       "      <td>4.698627</td>\n",
       "    </tr>\n",
       "    <tr>\n",
       "      <th>4</th>\n",
       "      <td>2.280362</td>\n",
       "      <td>2.866990</td>\n",
       "      <td>0</td>\n",
       "      <td>5.834600</td>\n",
       "    </tr>\n",
       "    <tr>\n",
       "      <th>5</th>\n",
       "      <td>7.423437</td>\n",
       "      <td>4.696523</td>\n",
       "      <td>1</td>\n",
       "      <td>1.490011</td>\n",
       "    </tr>\n",
       "    <tr>\n",
       "      <th>6</th>\n",
       "      <td>5.745052</td>\n",
       "      <td>3.533990</td>\n",
       "      <td>1</td>\n",
       "      <td>2.354575</td>\n",
       "    </tr>\n",
       "    <tr>\n",
       "      <th>7</th>\n",
       "      <td>9.172169</td>\n",
       "      <td>2.511101</td>\n",
       "      <td>1</td>\n",
       "      <td>1.376113</td>\n",
       "    </tr>\n",
       "    <tr>\n",
       "      <th>8</th>\n",
       "      <td>7.792783</td>\n",
       "      <td>3.424089</td>\n",
       "      <td>1</td>\n",
       "      <td>0.306432</td>\n",
       "    </tr>\n",
       "    <tr>\n",
       "      <th>9</th>\n",
       "      <td>7.939821</td>\n",
       "      <td>0.791637</td>\n",
       "      <td>1</td>\n",
       "      <td>2.578684</td>\n",
       "    </tr>\n",
       "  </tbody>\n",
       "</table>\n",
       "</div>"
      ],
      "text/plain": [
       "         x1        x2  y  distance\n",
       "0  3.393533  2.331273  0  4.812567\n",
       "1  3.110073  1.781540  0  5.229271\n",
       "2  1.343809  3.368361  0  6.749799\n",
       "3  3.582294  4.679179  0  4.698627\n",
       "4  2.280362  2.866990  0  5.834600\n",
       "5  7.423437  4.696523  1  1.490011\n",
       "6  5.745052  3.533990  1  2.354575\n",
       "7  9.172169  2.511101  1  1.376113\n",
       "8  7.792783  3.424089  1  0.306432\n",
       "9  7.939821  0.791637  1  2.578684"
      ]
     },
     "execution_count": 17,
     "metadata": {},
     "output_type": "execute_result"
    }
   ],
   "source": [
    "from typing import Tuple\n",
    "new_point = (8.093607318, 3.365731514, 1)\n",
    "point = Tuple[float, float, int]\n",
    "\n",
    "def distance(df, new_point: point):\n",
    "    \"\"\"Calculates the euclidian distance for a new point \n",
    "    vs all points in knn df\n",
    "    returns a series\"\"\"\n",
    "    return np.sqrt(\n",
    "        np.sum(\n",
    "            np.square(knn.loc[:, ['x1', 'x2']].subtract(new_point[:-1])), \n",
    "            axis='columns')\n",
    "    )\n",
    "\n",
    "knn = knn.assign(distance = distance(knn,new_point))\n",
    "knn"
   ]
  },
  {
   "cell_type": "code",
   "execution_count": 18,
   "metadata": {},
   "outputs": [],
   "source": [
    "# deals with ties by assuming k = number classes plus 1\n",
    "# check joel grus implementation of knn for a different example on ties \n",
    "\n",
    "def _smallest_dist(df, k:int):\n",
    "    \"\"\"Calculates k smallest distances from its neighbors\n",
    "    returns its index\"\"\"\n",
    "    return df['distance'].nsmallest(k).index\n",
    "def prediction(df, k:int):\n",
    "    \"\"\"Calculates the most common output result of \n",
    "    the k smallest neighbors\"\"\"\n",
    "    index = _smallest_dist(df, k)\n",
    "    return knn.loc[index, 'y'].mode()\n"
   ]
  },
  {
   "cell_type": "code",
   "execution_count": 19,
   "metadata": {},
   "outputs": [
    {
     "data": {
      "text/plain": [
       "0    1\n",
       "dtype: int64"
      ]
     },
     "execution_count": 19,
     "metadata": {},
     "output_type": "execute_result"
    }
   ],
   "source": [
    "prediction(knn, 3)"
   ]
  }
 ],
 "metadata": {
  "kernelspec": {
   "display_name": "Python 3",
   "language": "python",
   "name": "python3"
  },
  "language_info": {
   "codemirror_mode": {
    "name": "ipython",
    "version": 3
   },
   "file_extension": ".py",
   "mimetype": "text/x-python",
   "name": "python",
   "nbconvert_exporter": "python",
   "pygments_lexer": "ipython3",
   "version": "3.7.3"
  }
 },
 "nbformat": 4,
 "nbformat_minor": 4
}
