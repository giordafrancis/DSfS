{
 "cells": [
  {
   "cell_type": "markdown",
   "metadata": {},
   "source": [
    "#### Attemping a multivariate least squares fit"
   ]
  },
  {
   "cell_type": "code",
   "execution_count": 105,
   "metadata": {},
   "outputs": [],
   "source": [
    "from gradient_descent_ols import Vector, num_friends_good, daily_minutes_good, add, scalar_multiply, plot_loss, ols\n",
    "from typing import List, Tuple\n",
    "import random"
   ]
  },
  {
   "cell_type": "code",
   "execution_count": 106,
   "metadata": {},
   "outputs": [],
   "source": [
    "xs = num_friends_good\n",
    "ys = daily_minutes_good"
   ]
  },
  {
   "cell_type": "code",
   "execution_count": 107,
   "metadata": {},
   "outputs": [],
   "source": [
    "def dot(v1: Vector, v2: Vector) -> float:\n",
    "    \"\"\"Computes v1_1*v2_1 + v1_2*v2_2 ...\"\"\"\n",
    "    assert len(v1)==len(v2)\n",
    "    return sum(v1_i * v2_i for v1_i, v2_i in zip(v1,v2))\n",
    "\n",
    "def vector_sum(vectors:List[Vector]) -> Vector:\n",
    "    \"\"\"Sums all corresponding elements\"\"\"\n",
    "    # check that vector is not empty\n",
    "    assert vectors, \"no vectors provided!\"\n",
    "    # check that vectors are all the same size\n",
    "    num_elements = len(vectors[0])\n",
    "    assert all(len(v) == num_elements for v in vectors), \"different sizes!\"\n",
    "    # the i-th element of the result is the sum of every vector[i]\n",
    "    return [sum(vector[i] for vector in vectors) \n",
    "            for i in range(num_elements)]"
   ]
  },
  {
   "cell_type": "code",
   "execution_count": 108,
   "metadata": {},
   "outputs": [],
   "source": [
    "assert dot([1, 2], [2, 0]) == 2"
   ]
  },
  {
   "cell_type": "code",
   "execution_count": 109,
   "metadata": {},
   "outputs": [],
   "source": [
    "def add_intercept_vectors(xs: List[Vector]) -> List[Vector]:\n",
    "    \"\"\"add intercept 1 to xs vector\"\"\"\n",
    "    return [[1] + x for x in xs]\n",
    "\n",
    "def add_intercept(xs: Vector) -> List[Vector]:\n",
    "    return [[1, x] for x in xs]\n"
   ]
  },
  {
   "cell_type": "code",
   "execution_count": 110,
   "metadata": {},
   "outputs": [],
   "source": [
    "# predict the error per point\n",
    "def predict_point(x: Vector, theta: Vector) -> float:\n",
    "    return dot(x, theta)\n",
    "\n",
    "def error_point(x: Vector, y: float, theta: Vector) -> float:\n",
    "    \"\"\" Calculates the prediction error at point x\"\"\"\n",
    "    return predict_point(x, theta) - y\n",
    "\n",
    "assert error_point([1,3], 4, [1,1]) == 0"
   ]
  },
  {
   "cell_type": "code",
   "execution_count": 111,
   "metadata": {},
   "outputs": [],
   "source": [
    "def sum_sq_error(xs: List[Vector], ys: Vector, theta) -> float:\n",
    "    \"\"\"Computer sum of square error for all xs, ys pairs \"\"\"\n",
    "    return sum(error_point(x, y, theta) ** 2 for x, y in zip(xs, ys))\n",
    "    \n",
    "def gradient(x: List[Vector], y: float, theta: Vector) -> List:\n",
    "    \"\"\"Calculates the gradient update for 1 point for theta \"\"\"\n",
    "    return scalar_multiply(error_point(x, y, theta), x)\n",
    "\n",
    "def gradient_step(gradient: Vector, alpha: float) -> Vector:\n",
    "    \"\"\" takes one gradient step\"\"\"\n",
    "    return scalar_multiply(alpha, gradient)\n",
    "\n",
    "def gradient_update(theta: Vector, gradient: Vector , alpha: float) -> Vector:\n",
    "    return add(theta, gradient_step(gradient, -alpha))"
   ]
  },
  {
   "cell_type": "code",
   "execution_count": 112,
   "metadata": {},
   "outputs": [
    {
     "data": {
      "text/plain": [
       "[0.99, 0.99]"
      ]
     },
     "execution_count": 112,
     "metadata": {},
     "output_type": "execute_result"
    }
   ],
   "source": [
    "assert sum_sq_error([[2,2]], [3], [1, 1]) == 1\n",
    "\n",
    "theta = gradient_update([1, 1], [1, 1],  0.01)\n",
    "assert 0.985 < theta[0] < 0.995 \n",
    "assert 0.985 < theta[1] < 0.995 \n",
    "theta"
   ]
  },
  {
   "cell_type": "code",
   "execution_count": 113,
   "metadata": {},
   "outputs": [],
   "source": [
    "def least_squares_fit(xs: List[float], ys: List[float] , alpha: float,  epochs: int = 20) -> Vector:\n",
    "    \"\"\"\n",
    "    Find the theta that minimizes the sum of squared errors assuming the model y = dot(x, theta)\n",
    "    \"\"\"\n",
    "    # start with a random guess for theta\n",
    "    n = len(xs[0]) # number of features\n",
    "    theta = [random.random() for _ in range(n)]\n",
    "    m = len(xs) # number rows\n",
    "    loss = [] \n",
    "    \n",
    "    for epoch in range(epochs):\n",
    "        #  error point * x_i for each point; then column wise sum with vector_sum for a 1 x n vector grad result\n",
    "        grad = vector_sum([gradient(x, y, theta) for x, y in zip(xs, ys)]) \n",
    "        theta = gradient_update(theta, grad, alpha) # update theta 1 x n \n",
    "        epoch_loss = (1/ (2 * m)) * sum_sq_error(xs, ys, theta) # scalar for loss \n",
    "        loss.append((epoch, epoch_loss))\n",
    "    plot_loss(loss)\n",
    "    return theta"
   ]
  },
  {
   "cell_type": "code",
   "execution_count": 114,
   "metadata": {},
   "outputs": [
    {
     "data": {
      "image/png": "[encoded data removed]",
      "text/plain": [
       "<Figure size 432x288 with 1 Axes>"
      ]
     },
     "metadata": {
      "needs_background": "light"
     },
     "output_type": "display_data"
    },
    {
     "data": {
      "text/plain": [
       "[22.945162119011258, 0.9040573579394636]"
      ]
     },
     "execution_count": 114,
     "metadata": {},
     "output_type": "execute_result"
    }
   ],
   "source": [
    "# i've had to look into results as previous rate was to high and nan results were generated. \n",
    "# decrease rate for a smoother loss curve\n",
    "learning_rate = 0.00001\n",
    "epochs = 10000\n",
    "random.seed(0)\n",
    "\n",
    "theta = least_squares_fit(add_intercept(num_friends_good), daily_minutes_good,  \n",
    "                               learning_rate, epochs)\n",
    "\n",
    "\n",
    "assert 22.93 < theta[0] < 22.96 \n",
    "assert 0.9 < theta[1] < 0.91\n",
    "theta"
   ]
  },
  {
   "cell_type": "code",
   "execution_count": 115,
   "metadata": {},
   "outputs": [
    {
     "data": {
      "text/plain": [
       "(22.94755241346903, 0.9038659456058649)"
      ]
     },
     "execution_count": 115,
     "metadata": {},
     "output_type": "execute_result"
    }
   ],
   "source": [
    "# for comparison only\n",
    "ols(xs,ys)"
   ]
  }
 ],
 "metadata": {
  "jupytext": {
   "formats": "ipynb,py:light"
  },
  "kernelspec": {
   "display_name": "Python 3",
   "language": "python",
   "name": "python3"
  },
  "language_info": {
   "codemirror_mode": {
    "name": "ipython",
    "version": 3
   },
   "file_extension": ".py",
   "mimetype": "text/x-python",
   "name": "python",
   "nbconvert_exporter": "python",
   "pygments_lexer": "ipython3",
   "version": "3.7.3"
  }
 },
 "nbformat": 4,
 "nbformat_minor": 4
}
