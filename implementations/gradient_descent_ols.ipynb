{
 "cells": [
  {
   "cell_type": "markdown",
   "metadata": {},
   "source": [
    "## OLS"
   ]
  },
  {
   "cell_type": "markdown",
   "metadata": {},
   "source": [
    "Based on the book master learning algortihms I'm attempting to implement from scracth with python machine learning algorithms. I'm focusing here on the pseudocode of running the algorithm in some of the pitfall and assumptions the algorithms might have. "
   ]
  },
  {
   "cell_type": "code",
   "execution_count": 365,
   "metadata": {},
   "outputs": [],
   "source": [
    "# test data m is 2 and b is 1\n",
    "data_test = [(x, 2 * x + 1) for x in range(10)]\n",
    "xs = [x for x, _ in data_test]\n",
    "ys = [y for _, y in data_test]"
   ]
  },
  {
   "cell_type": "markdown",
   "metadata": {},
   "source": [
    "First I will attempt to find the regression coeficients via the OLS method."
   ]
  },
  {
   "cell_type": "markdown",
   "metadata": {},
   "source": [
    "m = sum((xi - mean(x)) * (yi - mean(y))) / sum(xi - mean(x)) ** 2\n",
    "\n",
    "b = mean(y) - m * mean(x)\n",
    "\n",
    "our hypothesis function is \n",
    "\n",
    "y = b + m*x"
   ]
  },
  {
   "cell_type": "code",
   "execution_count": 366,
   "metadata": {},
   "outputs": [],
   "source": [
    "from typing import List, Tuple\n",
    "import math\n",
    "\n",
    "Vector = List[float]\n",
    "\n",
    "def mean (inputs: Vector) -> float:\n",
    "    \"\"\"computes the mean of the vector\"\"\"\n",
    "    assert inputs, \"cannot compute the mean of an empty vector\"\n",
    "    return sum(inputs)/ len(inputs)\n",
    "\n",
    "def de_mean(inputs: Vector) -> float:\n",
    "    \"\"\"\n",
    "    substracts the mean of inputs to each element\n",
    "    \"\"\"\n",
    "    mean_inputs = mean(inputs)\n",
    "    return [input - mean_inputs for input in inputs]"
   ]
  },
  {
   "cell_type": "code",
   "execution_count": 367,
   "metadata": {},
   "outputs": [],
   "source": [
    "assert -0.001 <mean(de_mean(xs)) < 0.001 # mean should be close to 0"
   ]
  },
  {
   "cell_type": "code",
   "execution_count": 368,
   "metadata": {},
   "outputs": [],
   "source": [
    "def _slope(xs: Vector, ys: Vector) -> float:\n",
    "    \"\"\"computes the slope for OLS simple regression\"\"\"\n",
    "    return sum(xi * yi \n",
    "               for xi, yi in zip(de_mean(xs), de_mean(ys))) / sum(xi ** 2 for xi in de_mean(xs))\n",
    "\n",
    "def _intercept(xs: Vector, ys: Vector) -> float:\n",
    "    \"\"\" computes the intercept term for OLS simple regression\"\"\"\n",
    "    m = _slope(xs, ys)\n",
    "    return mean(ys) - m * mean(xs)\n",
    "\n",
    "def ols (xs: Vector, ys: Vector) -> Tuple:\n",
    "    \"\"\" computes and returns the intercept and slope for OLS simple regression\"\"\"\n",
    "    return _intercept(xs, ys), _slope(xs, ys)"
   ]
  },
  {
   "cell_type": "code",
   "execution_count": 369,
   "metadata": {},
   "outputs": [
    {
     "data": {
      "text/plain": [
       "(1.0, 2.0)"
      ]
     },
     "execution_count": 369,
     "metadata": {},
     "output_type": "execute_result"
    }
   ],
   "source": [
    "b, m = ols(xs, ys)\n",
    "b, m"
   ]
  },
  {
   "cell_type": "code",
   "execution_count": 370,
   "metadata": {},
   "outputs": [],
   "source": [
    "assert 0.99 < b < 1.01\n",
    "assert 1.99 < m < 2.01"
   ]
  },
  {
   "cell_type": "markdown",
   "metadata": {},
   "source": [
    "Now let's add some noise to our data"
   ]
  },
  {
   "cell_type": "code",
   "execution_count": 371,
   "metadata": {},
   "outputs": [
    {
     "data": {
      "text/plain": [
       "[(0, 1), (1, 3), (2, 5), (3, 7), (4, 9)]"
      ]
     },
     "execution_count": 371,
     "metadata": {},
     "output_type": "execute_result"
    }
   ],
   "source": [
    "import random\n",
    "\n",
    "data = [(x, 2 * x + 1 ) for x in range(100)]\n",
    "data[:5]"
   ]
  },
  {
   "cell_type": "code",
   "execution_count": 372,
   "metadata": {},
   "outputs": [
    {
     "data": {
      "text/plain": [
       "(1.0, 2.0)"
      ]
     },
     "execution_count": 372,
     "metadata": {},
     "output_type": "execute_result"
    }
   ],
   "source": [
    "xs = [x for x, _ in data]\n",
    "ys = [y for _, y in data]\n",
    "b, m = ols(xs, ys)\n",
    "\n",
    "b, m"
   ]
  },
  {
   "cell_type": "code",
   "execution_count": 373,
   "metadata": {},
   "outputs": [],
   "source": [
    "# y_hat-  the predict values\n",
    "def predict(xs:Vector, ys: Vector, b: float, m: float ) -> float:\n",
    "    return [xi * m + b for xi in xs ]\n",
    "\n",
    "assert len (predict(xs, ys, b, m)) == len(ys)"
   ]
  },
  {
   "cell_type": "code",
   "execution_count": 374,
   "metadata": {},
   "outputs": [],
   "source": [
    "# estimating the error\n",
    "# here we used the root mean squared error\n",
    "\n",
    "def subtract(v1: Vector, v2: Vector) -> float:\n",
    "    assert len(v1) == len(v2)\n",
    "    return [v1_i - v2_i for v1_i, v2_i in zip(v1, v2)]\n",
    "\n",
    "def root_mean_squared_error(ys: Vector, y_hat: Vector) -> float:\n",
    "    assert len(ys) == len(y_hat)\n",
    "    n = len(ys)\n",
    "    return  math.sqrt(sum(error ** 2 for error in subtract(y_hat, ys)) / n)"
   ]
  },
  {
   "cell_type": "code",
   "execution_count": 375,
   "metadata": {},
   "outputs": [
    {
     "data": {
      "text/plain": [
       "0.0"
      ]
     },
     "execution_count": 375,
     "metadata": {},
     "output_type": "execute_result"
    }
   ],
   "source": [
    "y_hat = predict(xs, ys, b, m) # predict values y_hat\n",
    "root_mean_squared_error(ys, y_hat)"
   ]
  },
  {
   "cell_type": "markdown",
   "metadata": {},
   "source": [
    "## Stochastic gradient descent"
   ]
  },
  {
   "cell_type": "markdown",
   "metadata": {},
   "source": [
    "Now I've ttempted to implement stochastic gradient descent for the same set of data. Stochastic gradient descent is not used to calculate the coeficients for linear regression in\n",
    "practice unless the dataset prevents traditional Ordinary Least Squares being used (e.g. a\n",
    "very large dataset). Nevertheless, linear regression does provide a useful exercise for practicing\n",
    "stochastic gradient descent which is an important algorithm used for minimizing cost functions\n",
    "by machine learning algorithms."
   ]
  },
  {
   "cell_type": "markdown",
   "metadata": {},
   "source": [
    "Each iteration the coefcients, called weights (w) in machine\n",
    "learning language are updated using the equation:\n",
    "\n",
    " w = w  -  alpha * delta \n",
    "\n",
    "where delta is: \n",
    "\n",
    "delta = derivative (costs) \n",
    "\n",
    "\n",
    "Where w is the coefcient or weight being optimized, alpha is a learning rate that you must\n",
    "configure (e.g. 0.1) and gradient is the error for the model on the training data attributed to\n",
    "the weight.\n",
    "\n",
    "Our hypothesis function is:\n",
    "\n",
    "y = w_0 + w_1 * x"
   ]
  },
  {
   "cell_type": "code",
   "execution_count": 376,
   "metadata": {},
   "outputs": [],
   "source": [
    "# predict the error per point\n",
    "def predict_point(x: float, w_0: float = 0.0, w_1: float = 0.0) -> float:\n",
    "    return w_0 + w_1 * x \n",
    "\n",
    "def error_point(x: float, y: float, w_0: float = 0.0 , w_1: float = 0.0) -> float:\n",
    "    \"\"\" Calculates the prediction error at point x\"\"\"\n",
    "    return predict_point(x, w_0, w_1) - y"
   ]
  },
  {
   "cell_type": "code",
   "execution_count": 377,
   "metadata": {},
   "outputs": [],
   "source": [
    "assert error_point(0, 1) == -1"
   ]
  },
  {
   "cell_type": "code",
   "execution_count": 378,
   "metadata": {},
   "outputs": [],
   "source": [
    "# calculate the derivatives of the costs for both weights and update \n",
    "\n",
    "alpha = 0.01 # set initial learning rate\n",
    "def _update_w0(x: float, y: float, w_0: float,w_1: float, alpha: float) -> float:\n",
    "    \"\"\"Update w0, we will use just the error as the gradient\"\"\"\n",
    "    return w_0 - alpha * error_point(x, y, w_0, w_1)\n",
    "\n",
    "def _update_w1(x: float, y: float, w_0: float,w_1: float, alpha: float) -> float:\n",
    "    \"\"\"Update w1, the error is filtered by the input x that caused it\"\"\"\n",
    "    return w_1 - alpha * error_point(x, y, w_0, w_1) * x\n",
    "\n",
    "def update_W(x: float, y: float, w_0: float,w_1: float, alpha: float) -> Tuple[float]:\n",
    "    \"\"\" Update w_0 and w_1 in one step\"\"\"\n",
    "    return _update_w0(x, y, w_0, w_1, alpha), _update_w1(x, y, w_0, w_1, alpha)"
   ]
  },
  {
   "cell_type": "code",
   "execution_count": 379,
   "metadata": {},
   "outputs": [],
   "source": [
    "w_0, w_1 = (0, 0) # test only\n",
    "assert update_W(1, 1, w_0, w_1, 0.01) == (0.01, 0.01)"
   ]
  },
  {
   "cell_type": "code",
   "execution_count": 380,
   "metadata": {},
   "outputs": [],
   "source": [
    "import itertools"
   ]
  },
  {
   "cell_type": "code",
   "execution_count": 381,
   "metadata": {},
   "outputs": [],
   "source": [
    "from matplotlib import pyplot as plt\n",
    "%matplotlib inline\n",
    "\n",
    "def plot_error(data: List[Tuple[int, float]]) -> None:\n",
    "    \"\"\" Plots error vs epoch \"\"\"\n",
    "    \n",
    "    epochs = [epoch for epoch, _ in data]\n",
    "    errors = [error for _, error in data]\n",
    "    \n",
    "    plt.plot(epochs, errors , color='green', marker='o', linestyle='solid')\n",
    "    # add a title\n",
    "    plt.title(\"error vs epoch\")\n",
    "    # add a label to the x and y-axis\n",
    "    plt.ylabel(\"error\")\n",
    "    plt.xlabel(\"epoch\")\n",
    "    plt.show()\n",
    "    return None"
   ]
  },
  {
   "cell_type": "code",
   "execution_count": 382,
   "metadata": {},
   "outputs": [],
   "source": [
    "def stochastic_gradient_descent(data: List[Vector], alpha: float,  epochs: int = 20) -> Tuple[float]:\n",
    "    \"\"\"update of vectors weights w_0 and w_1 with stochastic gradient descent\"\"\"\n",
    "    \n",
    "    w_0, w_1 = (0, 0) # initialize W randomly\n",
    "    # in this case random data does not converge with stochastic gradient descent   \n",
    "    data_gen = itertools.cycle(data) \n",
    "    errors = []\n",
    "    for epoch in range(epochs):\n",
    "        x, y = next(data_gen)\n",
    "        w_0, w_1 = update_W(x, y, w_0,w_1, alpha)\n",
    "        errors.append((epoch, error_point(x, y, w_0, w_1)))\n",
    "    plot_error(errors)\n",
    "    return w_0, w_1\n"
   ]
  },
  {
   "cell_type": "code",
   "execution_count": 383,
   "metadata": {},
   "outputs": [
    {
     "data": {
      "text/plain": [
       "(1.0, 2.0)"
      ]
     },
     "execution_count": 383,
     "metadata": {},
     "output_type": "execute_result"
    }
   ],
   "source": [
    "b, m"
   ]
  },
  {
   "cell_type": "code",
   "execution_count": 384,
   "metadata": {},
   "outputs": [
    {
     "data": {
      "image/png": "[encoded data removed]",
      "text/plain": [
       "<Figure size 432x288 with 1 Axes>"
      ]
     },
     "metadata": {
      "needs_background": "light"
     },
     "output_type": "display_data"
    },
    {
     "data": {
      "text/plain": [
       "(0.19924323545682285, 2.0203437326961264)"
      ]
     },
     "execution_count": 384,
     "metadata": {},
     "output_type": "execute_result"
    }
   ],
   "source": [
    "# 30 epochs seem the best value\n",
    "stochastic_gradient_descent(data, alpha = 0.001, epochs= 40)"
   ]
  },
  {
   "cell_type": "markdown",
   "metadata": {},
   "source": [
    "Batch gradient descent"
   ]
  },
  {
   "cell_type": "code",
   "execution_count": 385,
   "metadata": {},
   "outputs": [
    {
     "data": {
      "text/plain": [
       "[(0, 1), (1, 3), (2, 5), (3, 7)]"
      ]
     },
     "execution_count": 385,
     "metadata": {},
     "output_type": "execute_result"
    }
   ],
   "source": [
    "data[:4]"
   ]
  },
  {
   "cell_type": "code",
   "execution_count": 386,
   "metadata": {},
   "outputs": [],
   "source": [
    "def subtract(v1: Vector, v2: Vector) -> Vector:\n",
    "    \"\"\"Subtracts 2 vectors of equal length\"\"\"\n",
    "    assert len(v1) == len(v2)\n",
    "    return [v1_i - v2_i for v1_i, v2_i in zip(v1, v2)]\n",
    "\n",
    "assert subtract([1, 2], [1, 2]) == [0, 0]\n",
    "\n",
    "def scalar_multiply(s: float, v1: Vector) -> Vector:\n",
    "    return [v1_i * s for v1_i in v1]\n",
    "\n",
    "assert scalar_multiply(0, [1, 2]) == [0, 0]\n",
    "\n",
    "def vector_sum(inputs: List[Vector]) -> float:\n",
    "    \"\"\"sum the ith element of each input vector\"\"\"\n",
    "    l = len(inputs[0])\n",
    "    assert all(len(vector) == l for vector in inputs), \" All vectors lenghts must be the same\"\n",
    "    return [sum(vector[i] for vector in inputs) for i in range(l)]"
   ]
  },
  {
   "cell_type": "code",
   "execution_count": 387,
   "metadata": {},
   "outputs": [],
   "source": [
    "def _gradient_1(x: int, y: int, w_0: float, w_1: float) -> float:\n",
    "    \"\"\"Calculates the gradient update for 1 point for theta 1 param\"\"\"\n",
    "    return error_point(x, y, w_0, w_1) *  x\n",
    "\n",
    "def _gradient_0(x: int, y: int, w_0: float, w_1: float) -> float:\n",
    "    \"\"\"Calculates the gradient update for 1 point for theta 1 param\"\"\"\n",
    "    return error_point(x, y, w_0, w_1)\n",
    "\n",
    "def gradient_point(x: int, y: int, w_0: float, w_1: float) -> Vector:\n",
    "    return [_gradient_0(x, y, w_0, w_1), _gradient_1(x, y, w_0, w_1)]\n",
    "\n",
    "def gradient_step(inputs: Tuple, w_0: float, w_1: float, alpha: float) -> Vector:\n",
    "    l = len(inputs)\n",
    "    return scalar_multiply(alpha,\n",
    "                           scalar_multiply(1/l, \n",
    "                           vector_sum([gradient_point(x, y, w_0, w_1) for x, y in inputs]))\n",
    "                          )\n",
    "\n"
   ]
  },
  {
   "cell_type": "code",
   "execution_count": 388,
   "metadata": {},
   "outputs": [],
   "source": [
    "def batch_gradient_descent(data: List[Vector], alpha: float,  epochs: int = 20) -> Tuple[float]:\n",
    "    \"\"\"update of vectors weights w_0 and w_1 with batch gradient descent\"\"\"\n",
    "    \n",
    "    w_0, w_1 = (random.random(), random.random()) # initialize W randomly\n",
    "    for epoch in range(epochs):\n",
    "        gradient = gradient_step(data, w_0, w_1, alpha)\n",
    "        w_0, w_1 = subtract([w_0, w_1], gradient)        \n",
    "    return w_0, w_1"
   ]
  },
  {
   "cell_type": "code",
   "execution_count": 389,
   "metadata": {},
   "outputs": [
    {
     "data": {
      "text/plain": [
       "(-92.73491796969607, -6210.136540110594)"
      ]
     },
     "execution_count": 389,
     "metadata": {},
     "output_type": "execute_result"
    }
   ],
   "source": [
    "w_0, w_1 = batch_gradient_descent(data, 0.001, 10)\n",
    "w_0, w_1\n",
    "# y_hat = predict(xs, ys, w_0, w_1)\n",
    "# root_mean_squared_error(ys, y_hat)"
   ]
  },
  {
   "cell_type": "code",
   "execution_count": null,
   "metadata": {},
   "outputs": [],
   "source": []
  }
 ],
 "metadata": {
  "kernelspec": {
   "display_name": "Python 3",
   "language": "python",
   "name": "python3"
  },
  "language_info": {
   "codemirror_mode": {
    "name": "ipython",
    "version": 3
   },
   "file_extension": ".py",
   "mimetype": "text/x-python",
   "name": "python",
   "nbconvert_exporter": "python",
   "pygments_lexer": "ipython3",
   "version": "3.7.3"
  }
 },
 "nbformat": 4,
 "nbformat_minor": 4
}
