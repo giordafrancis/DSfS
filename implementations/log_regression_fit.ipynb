{
 "cells": [
  {
   "cell_type": "markdown",
   "metadata": {},
   "source": [
    "My attempt to implment logictic regression from scracth. data is from master machine learnng algorithms. "
   ]
  },
  {
   "cell_type": "code",
   "execution_count": null,
   "metadata": {},
   "outputs": [],
   "source": [
    "data =[\n",
    "[2.7810836, 2.550537003, 0],\n",
    "[1.465489372, 2.362125076, 0],\n",
    "[3.396561688, 4.400293529, 0],\n",
    "[1.38807019, 1.850220317,0],\n",
    "[3.06407232, 3.005305973, 0],\n",
    "[7.627531214, 2.759262235, 1],\n",
    "[5.332441248, 2.088626775, 1],\n",
    "[6.922596716, 1.77106367, 1],\n",
    "[8.675418651, -0.242068655, 1],\n",
    "[7.673756466, 3.508563011, 1]]"
   ]
  },
  {
   "cell_type": "code",
   "execution_count": null,
   "metadata": {},
   "outputs": [],
   "source": [
    "from gradient_descent_ols import Vector, add, plot_loss\n",
    "from Multivariate_linear_regression import chunks, vector_mean, scalar_multiply, predict_point,add_intercept_vectors\n",
    "import math\n",
    "import random\n",
    "from typing import List"
   ]
  },
  {
   "cell_type": "code",
   "execution_count": null,
   "metadata": {},
   "outputs": [],
   "source": [
    "def logit(z: float) -> float:\n",
    "    return 1 / (1 + math.exp(-z))\n",
    "\n",
    "assert 0 < logit(-5.4) < 0.01"
   ]
  },
  {
   "cell_type": "code",
   "execution_count": null,
   "metadata": {},
   "outputs": [],
   "source": [
    "def predict_point_logit(x: Vector, theta: Vector) -> float:\n",
    "    return logit(predict_point(x, theta))\n",
    "\n",
    "def error_point(x: Vector, y: float, theta: Vector) -> float:\n",
    "    \"\"\" Calculates the prediction error at point x\"\"\"\n",
    "    return predict_point_logit(x, theta) - y\n",
    "    \n",
    "def gradient(x: List[Vector], y: float, theta: Vector) -> List:\n",
    "    \"\"\"Calculates the gradient update for 1 point for theta \"\"\"\n",
    "    return scalar_multiply(error_point(x, y, theta), x)\n",
    "\n",
    "def evaluate_gradient(data: List[List[Vector]], theta: Vector) -> float:\n",
    "    \"\"\"evaluates gradient for provided data structure \n",
    "    [[x_0, x_1,.., x_i],[x_0, x_1,.., x_i]] -> [y_1,y_2]\"\"\"\n",
    "    return vector_mean([gradient(x, y, theta) for x, y in data]) \n",
    "    \n",
    "def gradient_step(gradient: Vector, alpha: float) -> Vector:\n",
    "    \"\"\" takes one gradient step\"\"\"\n",
    "    return scalar_multiply(alpha, gradient)\n",
    "\n",
    "def theta_update(theta: Vector, gradient: Vector , alpha: float) -> Vector:\n",
    "    return add(theta, gradient_step(gradient, -alpha))"
   ]
  },
  {
   "cell_type": "code",
   "execution_count": null,
   "metadata": {},
   "outputs": [],
   "source": [
    "def _point_loss_function_logistic(y_hat:float, y: float) -> float:\n",
    "    \"\"\"for one point calculate the loss\"\"\"\n",
    "    return y * math.log(y_hat) + (1 - y) * (math.log(1 - y_hat))\n",
    "\n",
    "def loss_function_logistic(y_hats: Vector, ys: Vector) -> float:\n",
    "    \"\"\"for a pair of y_hat and y vectors calculate  the loss value\"\"\"\n",
    "    assert len(y_hats) == len(ys)\n",
    "    m = len(y_hats)\n",
    "    return (-1/ m ) * sum( _point_loss_function_logistic(y_hat, y)\n",
    "                         for y_hat, y in zip(y_hats, ys))"
   ]
  },
  {
   "cell_type": "code",
   "execution_count": null,
   "metadata": {},
   "outputs": [],
   "source": [
    "xs = [vector[:-1] for vector in data]\n",
    "ys = [vector[-1] for vector in data]"
   ]
  },
  {
   "cell_type": "code",
   "execution_count": null,
   "metadata": {},
   "outputs": [],
   "source": [
    "data_copy = [[x, y] for x, y in zip(add_intercept_vectors(xs), ys)]\n",
    "data_copy\n",
    "chunk = list(chunks(data_copy, 2))[-1]\n",
    "chunk"
   ]
  },
  {
   "cell_type": "code",
   "execution_count": null,
   "metadata": {},
   "outputs": [],
   "source": [
    "grad = evaluate_gradient(chunk, [0.4, 0.1, 1])\n",
    "grad\n"
   ]
  },
  {
   "cell_type": "code",
   "execution_count": null,
   "metadata": {},
   "outputs": [],
   "source": [
    "def negative_log_fit(xs: List[float] , ys: List[float], \n",
    "                       alpha: float,  epochs: int = 1000, \n",
    "                       batch_size: int = 10) -> Vector:\n",
    "    \"\"\"\n",
    "    Find the theta that minimizes the loss function\n",
    "    \"\"\"      \n",
    "    n = len(xs[0])                              # number of features\n",
    "    theta = [random.random() for _ in range(n)] # initial random guess for theta\n",
    "                                                # number trainning examples\n",
    "    loss = []                                   # to plot the avg. loss per epoch\n",
    "    \n",
    "    data = [[x, y] for x, y in zip(xs, ys)]     # zip data structure \n",
    "    for epoch in range(epochs):\n",
    "        chunks_loss = []                                # for avg. loss\n",
    "        for chunk in chunks(data, batch_size):\n",
    "            grad = evaluate_gradient(chunk, theta)               # evaluate the gradient    \n",
    "            theta = theta_update(theta, grad, alpha)             # update theta \n",
    "            y_hats = [predict_point_logit(x, theta) for x in xs]\n",
    "            loss_per_chunk = loss_function_logistic(y_hats, ys)  # loss per chunk iter\n",
    "            chunks_loss.append(loss_per_chunk)                          \n",
    "        average_epoch_loss = sum(chunks_loss) / len(chunks_loss)       \n",
    "        loss.append((epoch, average_epoch_loss))                # plot the avg per epoch\n",
    "    plot_loss(loss)\n",
    "    return theta"
   ]
  },
  {
   "cell_type": "code",
   "execution_count": null,
   "metadata": {},
   "outputs": [],
   "source": [
    "theta  = negative_log_fit(add_intercept_vectors(xs), ys, 0.1, 1000, 5)"
   ]
  },
  {
   "cell_type": "code",
   "execution_count": null,
   "metadata": {},
   "outputs": [],
   "source": [
    "y_hats = [predict_point_logit(x, theta) for x in add_intercept_vectors(xs)]\n",
    "[(yhat, y) for yhat, y in zip(y_hats, ys)]"
   ]
  },
  {
   "cell_type": "code",
   "execution_count": null,
   "metadata": {},
   "outputs": [],
   "source": [
    "from log_regression_data import rescaled_xs, ys"
   ]
  },
  {
   "cell_type": "code",
   "execution_count": null,
   "metadata": {},
   "outputs": [],
   "source": [
    "rescaled_xs[:2]"
   ]
  },
  {
   "cell_type": "code",
   "execution_count": 48,
   "metadata": {},
   "outputs": [
    {
     "data": {
      "image/png": "[encoded data removed]",
      "text/plain": [
       "<Figure size 432x288 with 1 Axes>"
      ]
     },
     "metadata": {
      "needs_background": "light"
     },
     "output_type": "display_data"
    }
   ],
   "source": [
    "theta  = negative_log_fit(rescaled_xs, ys, 0.01, 1000, 5)"
   ]
  },
  {
   "cell_type": "code",
   "execution_count": 49,
   "metadata": {},
   "outputs": [
    {
     "data": {
      "text/plain": [
       "[-2.032232502036101, 4.307704039212852, -4.183437504391885]"
      ]
     },
     "execution_count": 49,
     "metadata": {},
     "output_type": "execute_result"
    }
   ],
   "source": [
    "theta"
   ]
  },
  {
   "cell_type": "code",
   "execution_count": null,
   "metadata": {},
   "outputs": [],
   "source": []
  }
 ],
 "metadata": {
  "jupytext": {
   "formats": "ipynb,py:light"
  },
  "kernelspec": {
   "display_name": "Python 3",
   "language": "python",
   "name": "python3"
  },
  "language_info": {
   "codemirror_mode": {
    "name": "ipython",
    "version": 3
   },
   "file_extension": ".py",
   "mimetype": "text/x-python",
   "name": "python",
   "nbconvert_exporter": "python",
   "pygments_lexer": "ipython3",
   "version": "3.7.3"
  }
 },
 "nbformat": 4,
 "nbformat_minor": 4
}
