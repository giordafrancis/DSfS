{
 "cells": [
  {
   "cell_type": "code",
   "execution_count": 371,
   "metadata": {},
   "outputs": [],
   "source": [
    "from linear_algebra import squared_distance, Vector\n",
    "from typing import List"
   ]
  },
  {
   "cell_type": "code",
   "execution_count": 372,
   "metadata": {},
   "outputs": [
    {
     "data": {
      "text/plain": [
       "[[-14, -5],\n",
       " [13, 13],\n",
       " [20, 23],\n",
       " [-19, -11],\n",
       " [-9, -16],\n",
       " [21, 27],\n",
       " [-49, 15],\n",
       " [26, 13],\n",
       " [-46, 5],\n",
       " [-34, -1],\n",
       " [11, 15],\n",
       " [-49, 0],\n",
       " [-22, -16],\n",
       " [19, 28],\n",
       " [-12, -8],\n",
       " [-13, -19],\n",
       " [-41, 8],\n",
       " [-11, -6],\n",
       " [-25, -9],\n",
       " [-18, -3]]"
      ]
     },
     "execution_count": 372,
     "metadata": {},
     "output_type": "execute_result"
    }
   ],
   "source": [
    "inputs: List[List[float]] = [[-14,-5],[13,13],[20,23],[-19,-11],[-9,-16],[21,27],[-49,15],[26,13],[-46,5],[-34,-1],[11,15],\n",
    "                             [-49,0],[-22,-16],[19,28],[-12,-8],[-13,-19],[-41,8],[-11,-6],[-25,-9],[-18,-3]]   \n",
    "inputs"
   ]
  },
  {
   "cell_type": "code",
   "execution_count": 373,
   "metadata": {},
   "outputs": [],
   "source": [
    "assert squared_distance([-14, 5], [-14, 5]) == 0"
   ]
  },
  {
   "cell_type": "code",
   "execution_count": 374,
   "metadata": {},
   "outputs": [],
   "source": [
    "import random\n",
    "from typing import Dict\n",
    "from collections import namedtuple\n",
    "\n",
    "def random_centerpoints(inputs: List[Vector], k: int) -> List[Vector]:\n",
    "    \"\"\"Randomly chooses k centerpoints\"\"\" \n",
    "    return [random.choice(inputs) for _ in range(k)]\n",
    "\n",
    "def compare_membership(v1: Vector, v2: Vector) -> bool:\n",
    "    assert len(v1) == len(v2)\n",
    "    return all(x1 == x2 for x1, x2 in zip(v1, v2))\n",
    "\n",
    "def random_assignments(inputs: List[Vector], k: int) -> List[int]:\n",
    "    \"\"\" assigns a random member ship to all inputs\n",
    "    \"\"\"\n",
    "    return [random.randrange(3) for _ in inputs]\n",
    "\n",
    "def assigments_check(assignments: Dict[int,List[Vector]], k: int, inputs: List[Vector]) -> Dict[int,List[Vector]]:\n",
    "    \"\"\" Checks if assigment dict index:[Vectors] have the correct number of k keys\n",
    "        if not assigns a random input value\n",
    "    \"\"\"\n",
    "    for k in range(k):\n",
    "        if not k in assignments:\n",
    "            assignments[k] = [random.choice(inputs)]\n",
    "    return assignments                                                                                              \n",
    "                                                                "
   ]
  },
  {
   "cell_type": "code",
   "execution_count": 375,
   "metadata": {},
   "outputs": [],
   "source": [
    "assert len(random_centerpoints(inputs, 3)) == 3\n",
    "assert compare_membership([1,2], [1,2])\n",
    "assert not compare_membership([1,4], [1, 5])"
   ]
  },
  {
   "cell_type": "code",
   "execution_count": 376,
   "metadata": {},
   "outputs": [],
   "source": [
    "from linear_algebra import vector_mean\n",
    "from collections import defaultdict\n",
    "k = 3\n",
    "epochs = 5000 \n",
    "\n",
    "def _k_means(k: int, epochs: int, inputs: List[Vector]) -> List[Vector]:\n",
    "    \"\"\"compute the k_means centerpoints for a set k based on a number of epochs\"\"\"\n",
    "    centerpoints = random_centerpoints(inputs, k) # initialize 3 centerpoints randomnly\n",
    "    membership = random_assignments(inputs, k) # initialize k random memberships\n",
    "    for epoch in range(epochs): \n",
    "        assignments = defaultdict(list) \n",
    "        new_membership = [] \n",
    "        for input in inputs:\n",
    "            min_distance = float(\"inf\")\n",
    "            for idx, cp in enumerate(centerpoints):      # over one input loop over all centerpoints\n",
    "                distance = squared_distance(input, cp)   # compute dictance\n",
    "                if distance < min_distance:              # compare distance to min distance\n",
    "                    min_distance, index = distance, idx   \n",
    "            new_membership.append(index)                        # for the smallest distance append the index for membership\n",
    "            assignments[index].append(input)                    # for the smallest distance append index key and input vector\n",
    "        assignments = assigments_check(assignments, k, inputs)  # check if allk keys are in assigment, if not assign key\n",
    "        new_centerpoints = [vector_mean(points) for points in assignments.values()]  # compute vector_means for memberships\n",
    "        \n",
    "        if not compare_membership(new_membership, membership):  \n",
    "            membership = new_membership\n",
    "        else:\n",
    "            #print(f\" stopped at epoch {epoch}\")\n",
    "            break\n",
    "        centerpoints = new_centerpoints   \n",
    "    return sorted(centerpoints)"
   ]
  },
  {
   "cell_type": "code",
   "execution_count": 383,
   "metadata": {},
   "outputs": [],
   "source": [
    "from typing import NamedTuple\n",
    "from statistics import quantile\n",
    "\n",
    "\n",
    "class KMeansTrial(NamedTuple):\n",
    "    trial: int\n",
    "    points: List[KMeansResult]\n",
    "\n",
    "def K_means(k: int, inputs: List[Vector], n: int = 50, epochs: int = 100, ) -> List[Vector]:\n",
    "    \"\"\"Repeat _k_means n trials and output the .25 quantile trial k_means centerpoints for a set k \n",
    "    (attempts to )Prevents local minimum results being outputed\"\"\"\n",
    "    \n",
    "    trials = []\n",
    "    for trial in range(n):\n",
    "        trials.append(KMeansTrial(trial, _k_means(k, epochs, inputs)))\n",
    "    \n",
    "    trials = sorted(trials, key= lambda trial: trial.points)  # sort based on points\n",
    "    return quantile(trials, p= 0.15).points                   # return the .25 quantile trial.points as the overal centerpoints"
   ]
  },
  {
   "cell_type": "code",
   "execution_count": 381,
   "metadata": {},
   "outputs": [
    {
     "name": "stdout",
     "output_type": "stream",
     "text": [
      "[[-43.800000000000004, 5.4], [-15.888888888888888, -10.333333333333332], [18.333333333333332, 19.833333333333332]]\n"
     ]
    }
   ],
   "source": [
    "print(K_means(3, inputs))"
   ]
  },
  {
   "cell_type": "code",
   "execution_count": 382,
   "metadata": {},
   "outputs": [],
   "source": [
    "correct_centerpoints = [[-43.800000000000004, 5.4],\n",
    "                        [-15.888888888888888, -10.333333333333332],\n",
    "                        [18.333333333333332, 19.833333333333332]]"
   ]
  },
  {
   "cell_type": "markdown",
   "metadata": {},
   "source": [
    "Still gets stuck in local minimun or maximum but overall good try :) "
   ]
  }
 ],
 "metadata": {
  "kernelspec": {
   "display_name": "Python 3",
   "language": "python",
   "name": "python3"
  },
  "language_info": {
   "codemirror_mode": {
    "name": "ipython",
    "version": 3
   },
   "file_extension": ".py",
   "mimetype": "text/x-python",
   "name": "python",
   "nbconvert_exporter": "python",
   "pygments_lexer": "ipython3",
   "version": "3.7.3"
  }
 },
 "nbformat": 4,
 "nbformat_minor": 4
}
