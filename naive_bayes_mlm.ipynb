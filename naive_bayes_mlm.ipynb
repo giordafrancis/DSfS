{
 "cells": [
  {
   "cell_type": "markdown",
   "metadata": {},
   "source": [
    "Naive Bayes\n",
    "\n",
    "Basic Naive Bayes assumes categoricl data. A simple extenson for real- valued data is called Gaussian Naive Bayes. \n",
    "\n",
    "\n",
    "In machine learning we are often interested in selecting the best hypothesis (h) given data (d).\n",
    "In a classification problem, our hypothesis (h) may be the class to assign for a new data instance\n",
    "(d).  One of the easiest ways of selecting the most probable hypothesis given the data that we\n",
    "have that we can use as our prior knowledge about the problem.  Bayes’ Theorem provides a\n",
    "way that we can calculate the probability of a hypothesis given our prior knowledge.  Bayes’\n",
    "Theorem is stated as:\n",
    "\n",
    "\n",
    "P(h|d) = P(d|h) x P(h) / P(d)\n",
    "\n",
    "\n",
    "Where:\n",
    "\n",
    "- P(h|d) is the probability of hypothesis h\n",
    "given the data d. This is called the posterior\n",
    "probability.\n",
    "\n",
    "- P(d|h) is the probability of data d given that the hypothesis h\n",
    "was true\n",
    "\n",
    "- P(h) is the probability of hypothesis h being true (regardless of the data). This is called\n",
    "the prior probability of h.\n",
    "\n",
    "- P(d) is the probability of the data regardless of the hypothesis"
   ]
  },
  {
   "cell_type": "code",
   "execution_count": 28,
   "metadata": {},
   "outputs": [
    {
     "data": {
      "text/plain": [
       "'\\n20.1    Tutorial Dataset\\nThe dataset describes two categorical input variables and a class variable that has two outputs.\\nWeather    Car        Class\\nsunny      working    go-out\\nrainy      broken     go-out\\nsunny      working    go-out\\nsunny      working    go-out\\nsunny      working    go-out\\nrainy      broken     stay-home\\nrainy      broken     stay-home\\nsunny      working    stay-home\\nsunny      broken     stay-home\\nrainy      broken     stay-home\\n'"
      ]
     },
     "execution_count": 28,
     "metadata": {},
     "output_type": "execute_result"
    }
   ],
   "source": [
    "\"\"\"\n",
    "20.1    Tutorial Dataset\n",
    "The dataset describes two categorical input variables and a class variable that has two outputs.\n",
    "Weather    Car        Class\n",
    "sunny      working    go-out\n",
    "rainy      broken     go-out\n",
    "sunny      working    go-out\n",
    "sunny      working    go-out\n",
    "sunny      working    go-out\n",
    "rainy      broken     stay-home\n",
    "rainy      broken     stay-home\n",
    "sunny      working    stay-home\n",
    "sunny      broken     stay-home\n",
    "rainy      broken     stay-home\n",
    "\"\"\""
   ]
  },
  {
   "cell_type": "code",
   "execution_count": 33,
   "metadata": {},
   "outputs": [],
   "source": [
    "import pandas as pd\n",
    "import numpy as np\n",
    "\n",
    "# naive bayes dataset as dummies\n",
    "nb = pd.DataFrame(data = [[1,1,1], [0, 0, 1], [1, 1,1], [1, 1, 1], [1, 1,1], \n",
    "                          [0, 0, 0], [0, 0, 0], [1, 1, 0],[1, 0, 0], [0, 0, 0]], \n",
    "                  columns=['weather', 'car', 'class'])"
   ]
  },
  {
   "cell_type": "code",
   "execution_count": 26,
   "metadata": {},
   "outputs": [
    {
     "data": {
      "text/html": [
       "<div>\n",
       "<style scoped>\n",
       "    .dataframe tbody tr th:only-of-type {\n",
       "        vertical-align: middle;\n",
       "    }\n",
       "\n",
       "    .dataframe tbody tr th {\n",
       "        vertical-align: top;\n",
       "    }\n",
       "\n",
       "    .dataframe thead th {\n",
       "        text-align: right;\n",
       "    }\n",
       "</style>\n",
       "<table border=\"1\" class=\"dataframe\">\n",
       "  <thead>\n",
       "    <tr style=\"text-align: right;\">\n",
       "      <th></th>\n",
       "      <th>weather</th>\n",
       "      <th>car</th>\n",
       "      <th>class</th>\n",
       "    </tr>\n",
       "  </thead>\n",
       "  <tbody>\n",
       "    <tr>\n",
       "      <th>0</th>\n",
       "      <td>1</td>\n",
       "      <td>1</td>\n",
       "      <td>1</td>\n",
       "    </tr>\n",
       "    <tr>\n",
       "      <th>1</th>\n",
       "      <td>0</td>\n",
       "      <td>0</td>\n",
       "      <td>1</td>\n",
       "    </tr>\n",
       "    <tr>\n",
       "      <th>2</th>\n",
       "      <td>1</td>\n",
       "      <td>1</td>\n",
       "      <td>1</td>\n",
       "    </tr>\n",
       "    <tr>\n",
       "      <th>3</th>\n",
       "      <td>1</td>\n",
       "      <td>1</td>\n",
       "      <td>1</td>\n",
       "    </tr>\n",
       "    <tr>\n",
       "      <th>4</th>\n",
       "      <td>1</td>\n",
       "      <td>1</td>\n",
       "      <td>1</td>\n",
       "    </tr>\n",
       "    <tr>\n",
       "      <th>5</th>\n",
       "      <td>0</td>\n",
       "      <td>0</td>\n",
       "      <td>0</td>\n",
       "    </tr>\n",
       "    <tr>\n",
       "      <th>6</th>\n",
       "      <td>0</td>\n",
       "      <td>0</td>\n",
       "      <td>0</td>\n",
       "    </tr>\n",
       "    <tr>\n",
       "      <th>7</th>\n",
       "      <td>1</td>\n",
       "      <td>1</td>\n",
       "      <td>0</td>\n",
       "    </tr>\n",
       "    <tr>\n",
       "      <th>8</th>\n",
       "      <td>1</td>\n",
       "      <td>0</td>\n",
       "      <td>0</td>\n",
       "    </tr>\n",
       "    <tr>\n",
       "      <th>9</th>\n",
       "      <td>0</td>\n",
       "      <td>0</td>\n",
       "      <td>0</td>\n",
       "    </tr>\n",
       "  </tbody>\n",
       "</table>\n",
       "</div>"
      ],
      "text/plain": [
       "   weather  car  class\n",
       "0        1    1      1\n",
       "1        0    0      1\n",
       "2        1    1      1\n",
       "3        1    1      1\n",
       "4        1    1      1\n",
       "5        0    0      0\n",
       "6        0    0      0\n",
       "7        1    1      0\n",
       "8        1    0      0\n",
       "9        0    0      0"
      ]
     },
     "execution_count": 26,
     "metadata": {},
     "output_type": "execute_result"
    }
   ],
   "source": [
    "nb"
   ]
  },
  {
   "cell_type": "markdown",
   "metadata": {},
   "source": [
    "There are two types of quantities that need to be calculated from the dataset for the naive\n",
    "Bayes model:\n",
    "\n",
    " Class Probabilities.\n",
    "\n",
    " Conditional Probabilities.\n",
    "Let’s start with the class probabilities."
   ]
  },
  {
   "cell_type": "code",
   "execution_count": 54,
   "metadata": {},
   "outputs": [
    {
     "data": {
      "text/plain": [
       "(0.5, 0.5)"
      ]
     },
     "execution_count": 54,
     "metadata": {},
     "output_type": "execute_result"
    }
   ],
   "source": [
    "# class probabilities\n",
    "\n",
    "p_go = nb['class'].eq(1).sum() / nb.shape[0]\n",
    "p_go\n",
    "p_sh = nb['class'].eq(0).sum() / nb.shape[0]\n",
    "p_go, p_sh"
   ]
  },
  {
   "cell_type": "markdown",
   "metadata": {},
   "source": [
    "p(d|h) The conditional probabilities are the probability of each input value given each class value.  The\n",
    "conditional probabilities for the dataset can be calculated as follows:\n"
   ]
  },
  {
   "cell_type": "code",
   "execution_count": 50,
   "metadata": {},
   "outputs": [],
   "source": [
    "# example  p(weather=sunny| class=go-out) = count(weather=sunny & class=go-out) / count(class=go-out)\n",
    "\n",
    "p_s_go = np.sum(nb['class'].eq(1) & nb['weather'].eq(1)) / nb['class'].eq(1).sum()\n",
    "p_r_go = np.sum(nb['class'].eq(1) & nb['weather'].eq(0)) / nb['class'].eq(1).sum()\n",
    "p_s_sh = np.sum(nb['class'].eq(0) & nb['weather'].eq(1)) / nb['class'].eq(0).sum()\n",
    "p_r_sh = np.sum(nb['class'].eq(0) & nb['weather'].eq(0)) / nb['class'].eq(0).sum()\n",
    "\n",
    "# and for car variable\n",
    "\n",
    "p_wk_go = np.sum(nb['class'].eq(1) & nb['car'].eq(1)) / nb['class'].eq(1).sum()\n",
    "p_bk_go = np.sum(nb['class'].eq(1) & nb['car'].eq(0)) / nb['class'].eq(1).sum()\n",
    "p_wk_sh = np.sum(nb['class'].eq(0) & nb['car'].eq(1)) / nb['class'].eq(0).sum()\n",
    "p_bk_sh = np.sum(nb['class'].eq(0) & nb['car'].eq(0)) / nb['class'].eq(0).sum()"
   ]
  },
  {
   "cell_type": "markdown",
   "metadata": {},
   "source": [
    "#### Making predictions\n",
    "\n",
    "We don’t need a probability to predict the most likely class for a new data instance.\n",
    "We only need the numerator and the class that gives the largest response, which will be the\n",
    "predicted output\n",
    "\n",
    "MAP\n",
    "(\n",
    "h\n",
    ") =\n",
    "max\n",
    "(\n",
    "P\n",
    "(\n",
    "d\n",
    "|\n",
    "h\n",
    ")\n",
    "×\n",
    "P\n",
    "(\n",
    "h\n",
    ")\n",
    "\n",
    "lets make a prediction for the first row of data"
   ]
  },
  {
   "cell_type": "code",
   "execution_count": 53,
   "metadata": {},
   "outputs": [
    {
     "data": {
      "text/plain": [
       "weather    1\n",
       "car        1\n",
       "class      1\n",
       "Name: 0, dtype: int64"
      ]
     },
     "execution_count": 53,
     "metadata": {},
     "output_type": "execute_result"
    }
   ],
   "source": [
    "nb.loc[0]"
   ]
  },
  {
   "cell_type": "code",
   "execution_count": 57,
   "metadata": {},
   "outputs": [],
   "source": [
    "# p(d|h) we have the data but we need to access which hipothesys yeilds a bigger probability\n",
    "go_out = p_s_go * p_wk_go * p_go\n",
    "stay_home = p_s_sh * p_wk_sh * p_sh"
   ]
  },
  {
   "cell_type": "code",
   "execution_count": 59,
   "metadata": {},
   "outputs": [
    {
     "data": {
      "text/plain": [
       "(0.32000000000000006, 0.04000000000000001)"
      ]
     },
     "execution_count": 59,
     "metadata": {},
     "output_type": "execute_result"
    }
   ],
   "source": [
    "# we correctly predicted go-out\n",
    "go_out, stay_home"
   ]
  },
  {
   "cell_type": "code",
   "execution_count": 60,
   "metadata": {},
   "outputs": [
    {
     "data": {
      "text/plain": [
       "weather    0\n",
       "car        0\n",
       "class      1\n",
       "Name: 1, dtype: int64"
      ]
     },
     "execution_count": 60,
     "metadata": {},
     "output_type": "execute_result"
    }
   ],
   "source": [
    "nb.loc[1]"
   ]
  },
  {
   "cell_type": "code",
   "execution_count": 62,
   "metadata": {},
   "outputs": [
    {
     "data": {
      "text/plain": [
       "(0.020000000000000004, 0.24)"
      ]
     },
     "execution_count": 62,
     "metadata": {},
     "output_type": "execute_result"
    }
   ],
   "source": [
    "# incorrect predictions for row 2\n",
    "go_out = p_bk_go * p_r_go * p_go\n",
    "stay_home = p_bk_sh * p_r_sh * p_sh\n",
    "go_out, stay_home"
   ]
  },
  {
   "cell_type": "code",
   "execution_count": 63,
   "metadata": {},
   "outputs": [
    {
     "data": {
      "text/plain": [
       "weather    1\n",
       "car        1\n",
       "class      1\n",
       "Name: 2, dtype: int64"
      ]
     },
     "execution_count": 63,
     "metadata": {},
     "output_type": "execute_result"
    }
   ],
   "source": [
    "nb.loc[2]"
   ]
  },
  {
   "cell_type": "code",
   "execution_count": 65,
   "metadata": {},
   "outputs": [
    {
     "data": {
      "text/plain": [
       "(0.32000000000000006, 0.04000000000000001)"
      ]
     },
     "execution_count": 65,
     "metadata": {},
     "output_type": "execute_result"
    }
   ],
   "source": [
    "# correctly predicted went out\n",
    "go_out = p_s_go * p_wk_go * p_go\n",
    "stay_home = p_s_sh * p_wk_sh * p_sh\n",
    "go_out, stay_home"
   ]
  },
  {
   "cell_type": "code",
   "execution_count": null,
   "metadata": {},
   "outputs": [],
   "source": []
  }
 ],
 "metadata": {
  "kernelspec": {
   "display_name": "Python 3",
   "language": "python",
   "name": "python3"
  },
  "language_info": {
   "codemirror_mode": {
    "name": "ipython",
    "version": 3
   },
   "file_extension": ".py",
   "mimetype": "text/x-python",
   "name": "python",
   "nbconvert_exporter": "python",
   "pygments_lexer": "ipython3",
   "version": "3.7.3"
  }
 },
 "nbformat": 4,
 "nbformat_minor": 4
}
